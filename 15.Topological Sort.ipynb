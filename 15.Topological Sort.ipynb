{
 "cells": [
  {
   "cell_type": "markdown",
   "id": "8e1c29f4",
   "metadata": {},
   "source": [
    "### Given a directed graph, find the topological ordering of its vertices.\n",
    "\n",
    "- Topological Sort of a directed graph is a linear ordering of its vertices such that for every directed edge (U, V) from vertex U to vertex V, U comes before V in the ordering\n",
    "\n",
    "O(V + E)"
   ]
  },
  {
   "cell_type": "code",
   "execution_count": 18,
   "id": "02513777",
   "metadata": {},
   "outputs": [],
   "source": [
    "from collections import deque\n",
    "def topological_sort(vertices, edges):\n",
    "    \n",
    "    sorted_order = []\n",
    "    if vertices == 0:\n",
    "        return sorted_order\n",
    "\n",
    "    in_degree = {i: 0 for i in range(vertices)} # hashmap to keep degree of each vertex. degree is no of outgoing \n",
    "    graph = {v: [] for v in range(vertices)} # hashmap to keep track of each node's children\n",
    "    \n",
    "    for edge in edges: \n",
    "        parent, child = edge[0], edge[1]\n",
    "        graph[parent].append(child) # populate the list of children for each vertex\n",
    "        in_degree[child]+=1 # count the number of degrees for each vertex\n",
    "        \n",
    "    sources = deque()\n",
    "    for k,v in in_degree.items(): # add all sources to queue\n",
    "        if v == 0:\n",
    "            sources.append(k)\n",
    "\n",
    "    while sources:\n",
    "        cur = sources.popleft() # add sources to sorted and remove them from graph\n",
    "        sorted_order.append(cur)\n",
    "        for child in graph[cur]:\n",
    "            in_degree[child] -=1 # decrease the degree for the children of the edge removed\n",
    "            if in_degree[child] == 0:\n",
    "                sources.append(child) # if new source, add to queue\n",
    "                \n",
    "    if len(sorted_order) != vertices:\n",
    "        # cycle exists -- use as solution if question is to detect cycle in graph\n",
    "        return [] \n",
    "    return sorted_order\n",
    "    \n",
    "        \n",
    "    "
   ]
  },
  {
   "cell_type": "code",
   "execution_count": 19,
   "id": "6daeb470",
   "metadata": {},
   "outputs": [
    {
     "data": {
      "text/plain": [
       "[3, 2, 0, 1]"
      ]
     },
     "execution_count": 19,
     "metadata": {},
     "output_type": "execute_result"
    }
   ],
   "source": [
    "topological_sort(4, [[3, 2], [3, 0], [2, 0], [2, 1]])"
   ]
  },
  {
   "cell_type": "markdown",
   "id": "2d289f48",
   "metadata": {},
   "source": [
    "### There are ‘N’ tasks, labeled from ‘0’ to ‘N-1’. Each task can have some prerequisite tasks which need to be completed before it can be scheduled. Given the number of tasks and a list of prerequisite pairs, find out if it is possible to schedule all the tasks.\n",
    "\n",
    "- Check if it's possible to find a topological sort. Otherwise some tasks have cyclic dependencies\n"
   ]
  },
  {
   "cell_type": "code",
   "execution_count": 25,
   "id": "aa7ed8f1",
   "metadata": {},
   "outputs": [],
   "source": [
    "from collections import deque\n",
    "def task_scheduling(tasks, prereqs):\n",
    "    \n",
    "    sorted_order = []\n",
    "    if tasks == 0:\n",
    "        return sorted_order\n",
    "\n",
    "    in_degree = {i: 0 for i in range(tasks)} # hashmap to keep degree of each task. degree is no of dependencies \n",
    "    graph = {v: [] for v in range(tasks)} # hashmap to keep track of each tasks's successor\n",
    "    \n",
    "    for p in prereqs: \n",
    "        parent, child = p[0], p[1]\n",
    "        graph[parent].append(child) # populate the list of children for each vertex\n",
    "        in_degree[child]+=1 # count the number of degrees for each vertex\n",
    "        \n",
    "    sources = deque()\n",
    "    for k,v in in_degree.items(): # add all sources to queue\n",
    "        if v == 0:\n",
    "            sources.append(k)\n",
    "\n",
    "    while sources:\n",
    "        cur = sources.popleft() # add sources to sorted and remove them from graph\n",
    "        sorted_order.append(cur)\n",
    "        for child in graph[cur]:\n",
    "            in_degree[child] -=1 # decrease the degree for the children of the edge removed\n",
    "            if in_degree[child] == 0:\n",
    "                sources.append(child) # if new source, add to queue\n",
    "                \n",
    "    return len(sorted_order) == tasks\n",
    "    # cycle exists -- use as solution if question is to detect cycle in graph\n",
    "\n",
    "        \n",
    "    "
   ]
  },
  {
   "cell_type": "code",
   "execution_count": 28,
   "id": "307e02b1",
   "metadata": {},
   "outputs": [
    {
     "data": {
      "text/plain": [
       "False"
      ]
     },
     "execution_count": 28,
     "metadata": {},
     "output_type": "execute_result"
    }
   ],
   "source": [
    "task_scheduling(3, [[0, 1],[1,2], [2,0]])"
   ]
  },
  {
   "cell_type": "markdown",
   "id": "fac28ea4",
   "metadata": {},
   "source": [
    "### Tasks Scheduling Order\n",
    "Given the number of tasks and a list of prerequisite pairs, write a method to find the ordering of tasks we should pick to finish all tasks.\n",
    "- similarly courses and pre-reqs"
   ]
  },
  {
   "cell_type": "code",
   "execution_count": 29,
   "id": "4dd7be05",
   "metadata": {},
   "outputs": [],
   "source": [
    "from collections import deque\n",
    "def task_scheduling_order(tasks, prereqs):\n",
    "    \n",
    "    sorted_order = []\n",
    "    if tasks == 0:\n",
    "        return sorted_order\n",
    "\n",
    "    in_degree = {i: 0 for i in range(tasks)} # hashmap to keep degree of each task. degree is no of dependencies \n",
    "    graph = {v: [] for v in range(tasks)} # hashmap to keep track of each tasks's successor\n",
    "    \n",
    "    for p in prereqs: \n",
    "        parent, child = p[0], p[1]\n",
    "        graph[parent].append(child) # populate the list of children for each vertex\n",
    "        in_degree[child]+=1 # count the number of degrees for each vertex\n",
    "        \n",
    "    sources = deque()\n",
    "    for k,v in in_degree.items(): # add all sources to queue\n",
    "        if v == 0:\n",
    "            sources.append(k)\n",
    "\n",
    "    while sources:\n",
    "        cur = sources.popleft() # add sources to sorted and remove them from graph\n",
    "        sorted_order.append(cur)\n",
    "        for child in graph[cur]:\n",
    "            in_degree[child] -=1 # decrease the degree for the children of the edge removed\n",
    "            if in_degree[child] == 0:\n",
    "                sources.append(child) # if new source, add to queue\n",
    "                \n",
    "    if len(sorted_order) != tasks:\n",
    "        # cycle exists -- use as solution if question is to detect cycle in graph\n",
    "        return []\n",
    "    return sorted_order\n",
    "\n",
    "        \n",
    "    "
   ]
  },
  {
   "cell_type": "code",
   "execution_count": 30,
   "id": "8d262446",
   "metadata": {},
   "outputs": [
    {
     "data": {
      "text/plain": [
       "[0, 1, 4, 3, 2, 5]"
      ]
     },
     "execution_count": 30,
     "metadata": {},
     "output_type": "execute_result"
    }
   ],
   "source": [
    "task_scheduling_order(6, [[2, 5], [0, 5], [0, 4], [1, 4], [3, 2], [1, 3]])"
   ]
  },
  {
   "cell_type": "markdown",
   "id": "4814a704",
   "metadata": {},
   "source": [
    "### print all possible ordering of tasks meeting all prerequisites\n",
    "O(V! + E)"
   ]
  },
  {
   "cell_type": "code",
   "execution_count": 42,
   "id": "1a42e060",
   "metadata": {},
   "outputs": [],
   "source": [
    "from collections import deque\n",
    "def all_task_scheduling_order(tasks, prereqs):\n",
    "    \n",
    "    sorted_order = []\n",
    "    if tasks == 0:\n",
    "        return sorted_order\n",
    "\n",
    "    in_degree = {i: 0 for i in range(tasks)} # hashmap to keep degree of each task. degree is no of dependencies \n",
    "    graph = {v: [] for v in range(tasks)} # hashmap to keep track of each tasks's successor\n",
    "    \n",
    "    for p in prereqs: \n",
    "        parent, child = p[0], p[1]\n",
    "        graph[parent].append(child) # populate the list of children for each vertex\n",
    "        in_degree[child]+=1 # count the number of degrees for each vertex\n",
    "        \n",
    "    sources = deque()\n",
    "    for k,v in in_degree.items(): # add all sources to queue\n",
    "        if v == 0:\n",
    "            sources.append(k)\n",
    "    print_possible_ordering(graph, in_degree, sources, sorted_order)\n",
    "\n",
    "def print_possible_ordering(graph, in_degree, sources, sorted_order):\n",
    "    if sources:\n",
    "        for ver in sources:\n",
    "            sorted_order.append(ver)\n",
    "            sources_for_next_call = deque(sources) # copy for next recursion\n",
    "            sources_for_next_call.remove(ver)\n",
    "            for child in graph[ver]:\n",
    "                in_degree[child] -=1 # decrease the degree for the children of the edge removed\n",
    "                if in_degree[child] == 0:\n",
    "                    sources_for_next_call.append(child) # if new source, add to queue\n",
    "            \n",
    "            print_possible_ordering(graph, in_degree, sources_for_next_call, sorted_order)       \n",
    "            \n",
    "            #backtrack and put children back for consideration\n",
    "            sorted_order.remove(ver)\n",
    "            for child in graph[ver]:\n",
    "                in_degree[child]+=1\n",
    "                \n",
    "    if len(sorted_order) == len(in_degree):\n",
    "        # no cycle exists \n",
    "        print(sorted_order)\n",
    "\n",
    "        \n",
    "    "
   ]
  },
  {
   "cell_type": "code",
   "execution_count": 43,
   "id": "1f5f446f",
   "metadata": {},
   "outputs": [
    {
     "name": "stdout",
     "output_type": "stream",
     "text": [
      "[0, 1, 2]\n"
     ]
    }
   ],
   "source": [
    "all_task_scheduling_order(3, [[0, 1],[1,2]])"
   ]
  },
  {
   "cell_type": "markdown",
   "id": "ede09b8b",
   "metadata": {},
   "source": [
    "### Alien Dictionary\n",
    "There is a dictionary containing words from an alien language for which we don’t know the ordering of the characters. Write a method to find the correct order of characters in the alien language.\n",
    "\n",
    "- given words are sorted lexicographically by the rules of the alien language, we can always compare two adjacent words to determine the ordering of the characters.\n",
    "- This makes it task scheduling problem"
   ]
  },
  {
   "cell_type": "code",
   "execution_count": 65,
   "id": "19f77918",
   "metadata": {},
   "outputs": [],
   "source": [
    "from collections import deque\n",
    "def alien_dict(words):\n",
    "    \n",
    "    sorted_order = []\n",
    "    vertices = len(words)\n",
    "    if vertices == 0:\n",
    "        return ''\n",
    "\n",
    "    in_degree = {}\n",
    "    graph = {}\n",
    "    for word in words:\n",
    "        for char in word:\n",
    "            in_degree[char] = 0\n",
    "            graph[char] = []\n",
    "    \n",
    "    for i in range(0, vertices-1): \n",
    "        w1, w2 = words[i], words[i+1] # compare adjacent words to find the lineage\n",
    "        for j in range(0, min(len(w1), len(w1))):\n",
    "            parent, child = w1[j], w2[j]\n",
    "            if parent!=child: # only the first different character in the words can be used to find the parent-child \n",
    "                graph[parent].append(child) \n",
    "                in_degree[child]+=1\n",
    "                break # go to the next word pair as only first diff character gives parent-child\n",
    "        \n",
    "    sources = deque()\n",
    "    for k,v in in_degree.items(): # add all sources to queue\n",
    "        if v == 0:\n",
    "            sources.append(k)\n",
    "\n",
    "    while sources:\n",
    "        cur = sources.popleft() # add sources to sorted and remove them from graph\n",
    "        sorted_order.append(cur)\n",
    "        for child in graph[cur]:\n",
    "            in_degree[child] -=1 # decrease the degree for the children of the edge removed\n",
    "            if in_degree[child] == 0:\n",
    "                sources.append(child) # if new source, add to queue\n",
    "                \n",
    "    if len(sorted_order) != len(in_degree):\n",
    "        # cycle exists -- use as solution if question is to detect cycle in graph\n",
    "        return ''\n",
    "    return ''.join(sorted_order)\n",
    "    \n",
    "        \n",
    "    "
   ]
  },
  {
   "cell_type": "code",
   "execution_count": 66,
   "id": "a0c8435c",
   "metadata": {},
   "outputs": [
    {
     "data": {
      "text/plain": [
       "'bac'"
      ]
     },
     "execution_count": 66,
     "metadata": {},
     "output_type": "execute_result"
    }
   ],
   "source": [
    "alien_dict([\"ba\", \"bc\", \"ac\", \"cab\"])"
   ]
  },
  {
   "cell_type": "markdown",
   "id": "ee9dc79f",
   "metadata": {},
   "source": [
    "### Reconstructing a Sequence \n",
    "Given a sequence originalSeq and an array of sequences, write a method to find if originalSeq can be uniquely reconstructed from the array of sequences.\n",
    "\n",
    "Unique reconstruction means that we need to find if originalSeq is the only sequence such that all sequences in the array are subsequences of it.\n",
    "\n",
    "- Perform the topological sort for the graph to determine the topological ordering construct the originalSeq\n",
    "- If we do not have more than one source at any time while finding the topological ordering of numbers, there is only one topological ordering of the numbers possible."
   ]
  },
  {
   "cell_type": "code",
   "execution_count": 77,
   "id": "98ffea45",
   "metadata": {},
   "outputs": [],
   "source": [
    "from collections import deque\n",
    "def reconstructing_seq(org, seqs):\n",
    "    \n",
    "    # check if input is valid\n",
    "    if len(org) <= 0:\n",
    "        return False\n",
    "    \n",
    "    # initialize hashmaps for degree count and graph edges\n",
    "    in_degree = {} \n",
    "    graph = {}\n",
    "    for seq in seqs:\n",
    "        for n in seq:\n",
    "            in_degree[n] = 0\n",
    "            graph[n] = []\n",
    "    \n",
    "    # find the relations and degrees\n",
    "    for s in seqs: \n",
    "        parent, child = s[0], s[1]\n",
    "        graph[parent].append(child) \n",
    "        in_degree[child]+=1 \n",
    "\n",
    "    if len(in_degree) != len(org):\n",
    "        # org sequence has missing numbers\n",
    "        return False\n",
    "\n",
    "    sources = deque()\n",
    "    for k,v in in_degree.items(): # add all sources to queue\n",
    "        if v == 0:\n",
    "            sources.append(k)\n",
    "\n",
    "    sorted_order = []\n",
    "    while sources:\n",
    "        if len(sources) > 1:\n",
    "            # sequence isnt unique, there are other possible topological sortings\n",
    "            return False\n",
    "        \n",
    "        if org[len(sorted_order)] != sources[0]:\n",
    "            # next character in sort don't match original sequence\n",
    "            return False\n",
    "        cur = sources.popleft() \n",
    "        sorted_order.append(cur)\n",
    "        for child in graph[cur]:\n",
    "            in_degree[child] -=1 \n",
    "            if in_degree[child] == 0:\n",
    "                sources.append(child) \n",
    "\n",
    "    return len(sorted_order) == len(org)\n",
    "\n",
    "        \n",
    "    "
   ]
  },
  {
   "cell_type": "code",
   "execution_count": 78,
   "id": "1d409636",
   "metadata": {},
   "outputs": [
    {
     "name": "stdout",
     "output_type": "stream",
     "text": [
      "{1: [2], 2: [3], 3: [4], 4: []}\n",
      "{1: 0, 2: 1, 3: 1, 4: 1}\n",
      "{1: 0, 2: 0, 3: 0, 4: 0}\n",
      "[1, 2, 3, 4]\n"
     ]
    },
    {
     "data": {
      "text/plain": [
       "True"
      ]
     },
     "execution_count": 78,
     "metadata": {},
     "output_type": "execute_result"
    }
   ],
   "source": [
    "reconstructing_seq([1, 2, 3, 4],[[1, 2], [2, 3], [3, 4]])"
   ]
  },
  {
   "cell_type": "markdown",
   "id": "80a7811c",
   "metadata": {},
   "source": [
    "### Minimum Height Trees\n",
    "given an undirected graph that has characteristics of a k-ary tree. In such a graph, we can choose any node as the root to make a k-ary tree. The root (or the tree) with the minimum height will be called Minimum Height Tree (MHT). There can be multiple MHTs for a graph. In this problem, we need to find all those roots which give us MHTs.\n",
    "\n",
    "- Since leaves can’t give us MHT, we can remove them from the graph and remove their edges too. \n",
    "- Once we remove the leaves, we will have new leaves. Repeat the process and remove them from the graph too.\n",
    "- We will prune the leaves until we are left with one or two nodes which will be our answer and the roots for MHTs.\n",
    "\n",
    "We can implement the above process using the topological sort. O(V + E)"
   ]
  },
  {
   "cell_type": "code",
   "execution_count": 85,
   "id": "fe9374e5",
   "metadata": {},
   "outputs": [],
   "source": [
    "from collections import deque\n",
    "def min_height_tree(nodes, edges):\n",
    "    \n",
    "    if nodes <= 0:\n",
    "        return []\n",
    "    \n",
    "    if nodes == 1:\n",
    "        # special case, handle separately\n",
    "        return [0]\n",
    "\n",
    "    in_degree = {i: 0 for i in range(nodes)}  \n",
    "    graph = {v: [] for v in range(nodes)} \n",
    "    \n",
    "    \n",
    "    for edge in edges: \n",
    "        parent, child = edge[0], edge[1]\n",
    "        graph[parent].append(child) \n",
    "        graph[child].append(parent)# undirected graph, so relationship goes both ways\n",
    "        in_degree[child]+=1\n",
    "        in_degree[parent]+=1\n",
    "        \n",
    "    leaves = deque()\n",
    "    for k,v in in_degree.items(): \n",
    "        if v == 1: # only one edge means leaf\n",
    "            leaves.append(k)\n",
    "\n",
    "    total_nodes = nodes\n",
    "    while total_nodes > 2: # repeat the process until only two nodes ar left which would be our answer\n",
    "        leave_size = len(leaves) \n",
    "        total_nodes-=leave_size\n",
    "        for i in range(0, leave_size):\n",
    "            cur = leaves.popleft()\n",
    "            for child in graph[cur]:\n",
    "                in_degree[child] -=1 # decrease the degree for the children of the edge removed\n",
    "                if in_degree[child] == 1:\n",
    "                    leaves.append(child) # if new source, add to queue\n",
    " \n",
    "    return leaves\n",
    "    \n",
    "        \n",
    "    "
   ]
  },
  {
   "cell_type": "code",
   "execution_count": 86,
   "id": "0e313a82",
   "metadata": {},
   "outputs": [
    {
     "data": {
      "text/plain": [
       "deque([1, 2])"
      ]
     },
     "execution_count": 86,
     "metadata": {},
     "output_type": "execute_result"
    }
   ],
   "source": [
    "min_height_tree(5, [[0, 1], [1, 2], [1, 3], [2, 4]])"
   ]
  },
  {
   "cell_type": "code",
   "execution_count": null,
   "id": "e24ab894",
   "metadata": {},
   "outputs": [],
   "source": []
  }
 ],
 "metadata": {
  "kernelspec": {
   "display_name": "Python 3 (ipykernel)",
   "language": "python",
   "name": "python3"
  },
  "language_info": {
   "codemirror_mode": {
    "name": "ipython",
    "version": 3
   },
   "file_extension": ".py",
   "mimetype": "text/x-python",
   "name": "python",
   "nbconvert_exporter": "python",
   "pygments_lexer": "ipython3",
   "version": "3.9.7"
  }
 },
 "nbformat": 4,
 "nbformat_minor": 5
}
