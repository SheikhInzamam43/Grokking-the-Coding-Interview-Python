{
 "cells": [
  {
   "cell_type": "markdown",
   "id": "8bcfc555",
   "metadata": {},
   "source": [
    "### Given an array of n−1 integers in the range from 1 to n, find the one number that is missing from the array.\n",
    "\n",
    "- Straight forward approach : sum of n numbers, sum of arr, diff\n",
    "\n",
    "O(N) and O(1)"
   ]
  },
  {
   "cell_type": "code",
   "execution_count": 19,
   "id": "c14aff71",
   "metadata": {},
   "outputs": [],
   "source": [
    "def missing_num(arr):\n",
    "    x1 = 1\n",
    "    for i in range(2, len(arr)+2): # 2 because the loop has to go from 1 to n+1 and length of the arr is n-1\n",
    "        x1 = x1 ^ i\n",
    "\n",
    "    x2 = arr[0]\n",
    "    for j in range(1, len(arr)):\n",
    "        x2 = x2 ^ arr[j]\n",
    "\n",
    "    return x2 ^ x1\n",
    "        "
   ]
  },
  {
   "cell_type": "code",
   "execution_count": 20,
   "id": "92790a24",
   "metadata": {},
   "outputs": [
    {
     "data": {
      "text/plain": [
       "3"
      ]
     },
     "execution_count": 20,
     "metadata": {},
     "output_type": "execute_result"
    }
   ],
   "source": [
    "a = [1,2,6,5,4]\n",
    "missing_num(a)"
   ]
  },
  {
   "cell_type": "markdown",
   "id": "141e992e",
   "metadata": {},
   "source": [
    "### In a non-empty array of integers, every number appears twice except for one, find that single number.\n",
    "- straight forward solution -  use a HashMap, If number is already present in HashMap, remove, If number is not present in HashMap, add, in the end, only number left in the HashMap is required single number.\n",
    "\n",
    "O(N) and O(1)"
   ]
  },
  {
   "cell_type": "code",
   "execution_count": 26,
   "id": "3f13ce65",
   "metadata": {},
   "outputs": [],
   "source": [
    "def duplicate_num(arr):\n",
    "    x1 = arr[0]\n",
    "    for i in range(1, len(arr)):\n",
    "        x1 = x1 ^ arr[i]\n",
    "    return x1\n",
    "        "
   ]
  },
  {
   "cell_type": "code",
   "execution_count": 27,
   "id": "c2b1da62",
   "metadata": {},
   "outputs": [
    {
     "data": {
      "text/plain": [
       "4"
      ]
     },
     "execution_count": 27,
     "metadata": {},
     "output_type": "execute_result"
    }
   ],
   "source": [
    "arr = [1,2,3,4,1,2,3]\n",
    "duplicate_num(arr)"
   ]
  },
  {
   "cell_type": "markdown",
   "id": "b3cb4a0f",
   "metadata": {},
   "source": [
    "### In a non-empty array of numbers, every number appears exactly twice, find two numbers that appear only once.\n",
    "1. Take XOR of all numbers. That will be num1 xor num2\n",
    "2. Find a bit that is set in num1xnum2. Partition the array based on this bit so each half will have either num1 or num2.\n",
    "3. Xor of the parititons will have the result.\n",
    "\n",
    "O(N)"
   ]
  },
  {
   "cell_type": "code",
   "execution_count": 31,
   "id": "33af8148",
   "metadata": {},
   "outputs": [],
   "source": [
    "def missing_two_nums(arr):\n",
    "    n1xn2 = 0\n",
    "    for i in range(0, len(arr)):\n",
    "        n1xn2 ^= arr[i]\n",
    "\n",
    "    right_most_set_bit = 1\n",
    "    while (right_most_set_bit & n1xn2) == 0:\n",
    "        #  checks if the rightmost set bit of n1xn2 is 0. \n",
    "        # If it is, the loop continues shifting the right_most_set_bit one position to the left until it finds a set bit.\n",
    "        right_most_set_bit = right_most_set_bit << 1\n",
    "        \n",
    "    num1, num2 = 0,0\n",
    "    for i in arr:\n",
    "        # checks if the current element i has a set bit at the same position\n",
    "        if i & right_most_set_bit != 0:\n",
    "            num1^=i\n",
    "        else:\n",
    "            num2^=i\n",
    "            \n",
    "    return num1, num2"
   ]
  },
  {
   "cell_type": "code",
   "execution_count": 30,
   "id": "c0d0a369",
   "metadata": {},
   "outputs": [
    {
     "data": {
      "text/plain": [
       "(7, 6)"
      ]
     },
     "execution_count": 30,
     "metadata": {},
     "output_type": "execute_result"
    }
   ],
   "source": [
    "a = [1,2,6,1,2,7]\n",
    "missing_two_nums(a)"
   ]
  },
  {
   "cell_type": "markdown",
   "id": "46ed0606",
   "metadata": {},
   "source": [
    "### For a given positive number N in base-10, return the complement of its binary representation as a base-10 integer.\n",
    "1. complement of a number. =. number * all bits set (cause number ^ complement = 111..)\n",
    "2. Find bit count in given number. Initialize a variable with as many bits set to 0. Do an XOR with input.\n",
    "3. pow(2,n) - 1 will give a number whose n bits are set. (eg: 4 = 100. 3 = 011)\n",
    "\n",
    "O(b) , b being num of bits"
   ]
  },
  {
   "cell_type": "code",
   "execution_count": 34,
   "id": "b528ec69",
   "metadata": {},
   "outputs": [],
   "source": [
    "def find_complement(n):\n",
    "    bit_count = 0\n",
    "    num = n # copy n\n",
    "    \n",
    "    while num > 0:\n",
    "        bit_count+=1\n",
    "        num = num >> 1\n",
    "    \n",
    "    all_bits_set = pow(2,bit_count)-1\n",
    "    return n ^ all_bits_set"
   ]
  },
  {
   "cell_type": "code",
   "execution_count": 39,
   "id": "97202dc9",
   "metadata": {},
   "outputs": [
    {
     "data": {
      "text/plain": [
       "2"
      ]
     },
     "execution_count": 39,
     "metadata": {},
     "output_type": "execute_result"
    }
   ],
   "source": [
    "find_complement(5) # 101 ~ 010"
   ]
  },
  {
   "cell_type": "markdown",
   "id": "9ee0a6bd",
   "metadata": {},
   "source": [
    "### Given a binary matrix representing an image, we want to flip the image horizontally, then invert it.\n",
    "\n",
    "To flip an image horizontally means that each row of the image is reversed. For example, flipping [0, 1, 1] horizontally results in [1, 1, 0].\n",
    "\n",
    "To invert an image means that each 0 is replaced by 1, and each 1 is replaced by 0. For example, inverting [1, 1, 0] results in [0, 0, 1].\n",
    "\n",
    "1. Flip means swapping ith element from the left with ith from the right\n",
    "2. Invert means xor with 1\n",
    "\n",
    "O(N)\n"
   ]
  },
  {
   "cell_type": "code",
   "execution_count": 50,
   "id": "744b9b1f",
   "metadata": {},
   "outputs": [],
   "source": [
    "def invert_and_flip(matrix):\n",
    "    C = len(matrix)\n",
    "    for row in matrix:\n",
    "        for i in range(0, (C+1)//2): # this is how to reverse a string (iterate until len+1/2, swap i, len-i-1)\n",
    "            row[i], row[C-i-1] = row[C-i-1] ^ 1, row[i] ^ 1\n",
    "\n",
    "    return matrix"
   ]
  },
  {
   "cell_type": "code",
   "execution_count": 51,
   "id": "ce2f16af",
   "metadata": {},
   "outputs": [
    {
     "data": {
      "text/plain": [
       "[[0, 1, 0], [0, 0, 0], [0, 0, 1]]"
      ]
     },
     "execution_count": 51,
     "metadata": {},
     "output_type": "execute_result"
    }
   ],
   "source": [
    "matrix = [[1,0,1],[1,1,1],[0,1,1]]\n",
    "invert_and_flip(matrix)"
   ]
  },
  {
   "cell_type": "code",
   "execution_count": null,
   "id": "a9ad354d",
   "metadata": {},
   "outputs": [],
   "source": []
  }
 ],
 "metadata": {
  "kernelspec": {
   "display_name": "Python 3 (ipykernel)",
   "language": "python",
   "name": "python3"
  },
  "language_info": {
   "codemirror_mode": {
    "name": "ipython",
    "version": 3
   },
   "file_extension": ".py",
   "mimetype": "text/x-python",
   "name": "python",
   "nbconvert_exporter": "python",
   "pygments_lexer": "ipython3",
   "version": "3.9.7"
  }
 },
 "nbformat": 4,
 "nbformat_minor": 5
}
