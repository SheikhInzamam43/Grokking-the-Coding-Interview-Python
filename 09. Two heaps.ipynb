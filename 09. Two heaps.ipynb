{
 "cells": [
  {
   "cell_type": "markdown",
   "id": "58a4967e",
   "metadata": {},
   "source": [
    "### Find the Median of a Number Stream \n",
    "* utilize the fact that we don’t need the fully sorted list - we are only interested in finding the middle element\n",
    "* Divide the list into two halves\n",
    "* Use a minheap and a maxheap to hold numbers less than the current median and greater than the current median\n",
    "* Either the top of minheap or maxheap or the avg of two will be the new median whenever a new number comes\n",
    "* Always maintain length equiavalence between two heaps -- favor max in case of odd numbers so the median would be top of max\n",
    "* Alternate approach - insertion sort but O(n) whereas here O(logN)for insert and O(1) for median (space - O(N))"
   ]
  },
  {
   "cell_type": "code",
   "execution_count": 8,
   "id": "1945dcc0",
   "metadata": {},
   "outputs": [],
   "source": [
    "from heapq import *"
   ]
  },
  {
   "cell_type": "code",
   "execution_count": 26,
   "id": "00be02db",
   "metadata": {},
   "outputs": [],
   "source": [
    "class MedianOfStream:\n",
    "    max_heap = []\n",
    "    min_heap = []\n",
    "    \n",
    "    def insert(self, num):\n",
    "        if not self.max_heap or -self.max_heap[0] >= num:\n",
    "            heappush(self.max_heap, -num) #negation to make it a maxheap\n",
    "        else:\n",
    "            heappush(self.min_heap, num)\n",
    "            \n",
    "        # should either be equal or max can have one more than min\n",
    "        if len(self.max_heap) > len(self.min_heap)+1:\n",
    "            heappush(self.min_heap, -heappop(self.max_heap))\n",
    "        elif len(self.max_heap) < len(self.min_heap):\n",
    "            heappush(self.max_heap, -heappop(self.min_heap))\n",
    "            \n",
    "    def find_median(self):\n",
    "        if len(self.max_heap) == len(self.min_heap):\n",
    "            #print(-self.max_heap[0] + self.min_heap[0])\n",
    "            return (-self.max_heap[0] + self.min_heap[0])/2\n",
    "        \n",
    "        return -self.max_heap[0]\n",
    "        \n",
    "            "
   ]
  },
  {
   "cell_type": "code",
   "execution_count": 27,
   "id": "cc2875d2",
   "metadata": {},
   "outputs": [
    {
     "name": "stdout",
     "output_type": "stream",
     "text": [
      "2.0\n",
      "3\n",
      "3.5\n"
     ]
    }
   ],
   "source": [
    "m = MedianOfStream()\n",
    "m.insert(3)\n",
    "m.insert(1)\n",
    "print(m.find_median())\n",
    "\n",
    "m.insert(5)\n",
    "print(m.find_median())\n",
    "\n",
    "m.insert(4)\n",
    "print(m.find_median())"
   ]
  },
  {
   "cell_type": "markdown",
   "id": "1be5b36a",
   "metadata": {},
   "source": [
    "### Given a set of investment projects with their respective profits, we need to find the most profitable projects. \n",
    "\n",
    "We are given an initial capital and are allowed to invest only in a fixed number of projects. \n",
    "Our goal is to choose projects that give us the maximum profit.\n",
    "O(NlogN + KlogN)\n",
    "1. Insert all the project capitals into a min heap\n",
    "2. Pick all the projects within the current capital and insert their profits into a max heap\n",
    "3. Choose the project with max profit from max heap and add to current capital\n",
    "4. Repeat steps 2 and 3 for the allowed number of projects"
   ]
  },
  {
   "cell_type": "code",
   "execution_count": null,
   "id": "d8fc7893",
   "metadata": {},
   "outputs": [],
   "source": []
  }
 ],
 "metadata": {
  "kernelspec": {
   "display_name": "Python 3 (ipykernel)",
   "language": "python",
   "name": "python3"
  },
  "language_info": {
   "codemirror_mode": {
    "name": "ipython",
    "version": 3
   },
   "file_extension": ".py",
   "mimetype": "text/x-python",
   "name": "python",
   "nbconvert_exporter": "python",
   "pygments_lexer": "ipython3",
   "version": "3.9.7"
  }
 },
 "nbformat": 4,
 "nbformat_minor": 5
}
