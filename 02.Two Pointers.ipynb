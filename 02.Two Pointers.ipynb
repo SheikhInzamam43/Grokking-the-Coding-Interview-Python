{
 "cells": [
  {
   "cell_type": "markdown",
   "id": "2e81527f",
   "metadata": {},
   "source": [
    "### Given an array of sorted numbers and a target sum, find a pair in the array whose sum is equal to the given target.\n",
    "* Set one pointer at beginning and another at end\n",
    "* Iterate until pointers meet\n",
    "* If sum of current pointers, greater than required, decrement right pointer\n",
    "* If sum is less than target, increment left as array is sorted"
   ]
  },
  {
   "cell_type": "code",
   "execution_count": 7,
   "id": "8d21c033",
   "metadata": {},
   "outputs": [],
   "source": [
    "def find_pair_with_target_sum(arr, s): # two pointer -- O(N)\n",
    "    n = len(arr)\n",
    "    left = 0\n",
    "    right = n-1\n",
    "    while(left < right):\n",
    "        print(left,right)\n",
    "        cur = arr[left] + arr[right]\n",
    "        if cur == s:\n",
    "            return [arr[left], arr[right]]\n",
    "        elif cur < s:\n",
    "            left+=1\n",
    "        else:\n",
    "            right-=1\n",
    "        "
   ]
  },
  {
   "cell_type": "code",
   "execution_count": 9,
   "id": "668d8eec",
   "metadata": {},
   "outputs": [],
   "source": [
    "# alternate approach using hashmaps O(N)\n",
    "# for each number in array, find the difference with target and check if that number exists\n",
    "def find_pair_with_sum(arr, s):\n",
    "    nums = {}\n",
    "    for i in arr:\n",
    "        if s-arr[i] in nums:\n",
    "            return [arr[i], nums[s-arr[i]]]\n",
    "        else:\n",
    "            nums[arr[i]] = i\n",
    "            "
   ]
  },
  {
   "cell_type": "code",
   "execution_count": 10,
   "id": "08496a7e",
   "metadata": {},
   "outputs": [
    {
     "name": "stdout",
     "output_type": "stream",
     "text": [
      "0 4\n",
      "0 3\n",
      "1 3\n"
     ]
    },
    {
     "data": {
      "text/plain": [
       "[2, 4]"
      ]
     },
     "execution_count": 10,
     "metadata": {},
     "output_type": "execute_result"
    }
   ],
   "source": [
    "find_pair_with_target_sum([1, 2, 3, 4, 6], 6)"
   ]
  },
  {
   "cell_type": "markdown",
   "id": "139f8451",
   "metadata": {},
   "source": [
    "### Given an array of sorted numbers, remove all duplicates from it"
   ]
  },
  {
   "cell_type": "code",
   "execution_count": 7,
   "id": "ed7a0229",
   "metadata": {},
   "outputs": [],
   "source": [
    "def remove_duplicates(arr):\n",
    "    last_non_dup = 0\n",
    "    curr = 1\n",
    "    while curr<len(arr):\n",
    "        if arr[last_non_dup] != arr[curr]: # if curr pointer is at a non duplicate, increment non duplicate pointer\n",
    "            last_non_dup+=1\n",
    "        arr[last_non_dup] = arr[curr] # move the curr number to the last known non duplicate location\n",
    "        curr+=1\n",
    "    return arr[:last_non_dup+1]\n",
    "        "
   ]
  },
  {
   "cell_type": "code",
   "execution_count": 8,
   "id": "4b4ee870",
   "metadata": {},
   "outputs": [
    {
     "data": {
      "text/plain": [
       "[2, 3, 6, 9, 6, 9, 9]"
      ]
     },
     "execution_count": 8,
     "metadata": {},
     "output_type": "execute_result"
    }
   ],
   "source": [
    "remove_duplicates([2, 3, 3, 3, 6, 9, 9])"
   ]
  },
  {
   "cell_type": "markdown",
   "id": "e58d1c5b",
   "metadata": {},
   "source": [
    "### Given a sorted array, create a new array containing squares of all the number of the input array in the sorted order.\n",
    "1. Have one pointer at the start, another at the end, a variable to keep track of highest index in result list\n",
    "2. Insert whichever square is larger at highest index, decrement index\n",
    "3. Move pointer \n",
    "\n"
   ]
  },
  {
   "cell_type": "code",
   "execution_count": 26,
   "id": "ed7e2e9b",
   "metadata": {},
   "outputs": [],
   "source": [
    "def sorted_squares(arr):\n",
    "    n = len(arr)\n",
    "    start = 0\n",
    "    end = n-1\n",
    "    res = [0] * n\n",
    "    highest_index = n-1\n",
    "    while(start<end):\n",
    "        left_sq = arr[start] * arr[start]\n",
    "        right_sq = arr[end] * arr[end]\n",
    "        if left_sq > right_sq:\n",
    "            res[highest_index] = left_sq\n",
    "            start+=1\n",
    "        else:\n",
    "            res[highest_index] = right_sq\n",
    "            end-=1\n",
    "        highest_index-=1\n",
    "    return res"
   ]
  },
  {
   "cell_type": "code",
   "execution_count": 27,
   "id": "0d7faad6",
   "metadata": {},
   "outputs": [
    {
     "data": {
      "text/plain": [
       "[0, 1, 4, 4, 9]"
      ]
     },
     "execution_count": 27,
     "metadata": {},
     "output_type": "execute_result"
    }
   ],
   "source": [
    "sorted_squares([-2, -1, 0, 2, 3])"
   ]
  },
  {
   "cell_type": "markdown",
   "id": "2233dfeb",
   "metadata": {},
   "source": [
    "### Triplet Sum to Zero - Given an array of unsorted numbers, find all unique triplets in it that add up to zero.\n",
    "\n",
    "*  sort the array and then iterate through it taking one number at a time. \n",
    "* Let’s say during our iteration we are at number ‘X’, so we need to find ‘Y’ and ‘Z’ such that X + Y + Z == 0 i.e. finding a pair whose sum is equal to “-X”\n",
    "* we need to find all the unique triplets, so skip any duplicate number. Since we will be sorting the array, all the duplicate numbers will be next to each other and are easier to skip."
   ]
  },
  {
   "cell_type": "code",
   "execution_count": 9,
   "id": "bd3cb89d",
   "metadata": {},
   "outputs": [],
   "source": [
    "def search_triplets(arr):\n",
    "    triplets = []\n",
    "    arr.sort() # O(NlogN)\n",
    "    for i in range(0,len(arr)):\n",
    "        if i > 0 and arr[i] == arr[i-1]:\n",
    "            continue # skip duplicates\n",
    "        search_pair(arr, -arr[i], i+1, triplets) # O(N^*) i.e. total complexity is O(NlogN + N^2) - O(N^2)\n",
    "    return triplets\n",
    "\n",
    "def search_pair(arr, target, left, triplets):\n",
    "    right = len(arr)-1\n",
    "    while(left < right):\n",
    "        curr_sum = arr[left] + arr[right]\n",
    "        if curr_sum == target:\n",
    "            triplets.append([arr[left], arr[right], -target])\n",
    "            left+=1\n",
    "            right-=1\n",
    "            while left < right and arr[left] == arr[left-1]: #skip duplicates\n",
    "                continue\n",
    "            while left < right and arr[right] == arr[right+1]: # skip duplicates\n",
    "                continue\n",
    "        elif curr_sum < target: # we need bigger sum\n",
    "            left+=1\n",
    "        else: # we need smaller sum\n",
    "            right-=1\n",
    "    "
   ]
  },
  {
   "cell_type": "code",
   "execution_count": 10,
   "id": "b62174bc",
   "metadata": {},
   "outputs": [
    {
     "data": {
      "text/plain": [
       "[[1, 2, -3], [0, 2, -2], [1, 1, -2], [0, 1, -1]]"
      ]
     },
     "execution_count": 10,
     "metadata": {},
     "output_type": "execute_result"
    }
   ],
   "source": [
    "search_triplets([-3, 0, 1, 2, -1, 1, -2])"
   ]
  },
  {
   "cell_type": "markdown",
   "id": "c5934eba",
   "metadata": {},
   "source": [
    "### Given an array of unsorted numbers and a target number, find a triplet in the array whose sum is as close to the target number as possible, return the sum of the triplet. \n",
    "* If there are more than one such triplet, return the sum of the triplet with the smallest sum\n",
    "* Sort the array\n",
    "* Iterate through the array - minimize the difference between current triplets and target\n",
    "* Total complexity = O(N*N)\n"
   ]
  },
  {
   "cell_type": "code",
   "execution_count": 15,
   "id": "5c88fb61",
   "metadata": {},
   "outputs": [],
   "source": [
    "def find_min_sum_triplet(arr, target):\n",
    "    arr.sort() #O(N*logN)\n",
    "    min_diff = float('inf')\n",
    "    for i in range(0,len(arr)-2): #O(N)\n",
    "        left = i+1\n",
    "        right = len(arr)-1\n",
    "        while(left < right):\n",
    "            curr_diff = target - arr[i] - arr[left] - arr[right]\n",
    "            if curr_diff == 0:\n",
    "                return target\n",
    "            if abs(curr_diff) <= abs(min_diff):\n",
    "                min_diff = curr_diff\n",
    "                \n",
    "            if curr_diff > 0:\n",
    "                left+=1 # need bigger sum\n",
    "            else:\n",
    "                right-=1 # need smaller sum\n",
    "                \n",
    "    return target - min_diff"
   ]
  },
  {
   "cell_type": "code",
   "execution_count": 16,
   "id": "774fcfac",
   "metadata": {},
   "outputs": [
    {
     "data": {
      "text/plain": [
       "3"
      ]
     },
     "execution_count": 16,
     "metadata": {},
     "output_type": "execute_result"
    }
   ],
   "source": [
    "find_min_sum_triplet(arr=[1,0,1,1], target=100)"
   ]
  },
  {
   "cell_type": "markdown",
   "id": "6259e5c6",
   "metadata": {},
   "source": [
    "### Given an array arr of unsorted numbers and a target sum, count all triplets with sum < target\n",
    "* return count of triplets\n",
    "* brute force has O(N* N *N)\n",
    "* Sort the array \n",
    "* Iterate through array -- if current sum < target, for current i & left, there can be right-left number of third value where sum < target\n",
    "* Total complexity = O(N*N)"
   ]
  },
  {
   "cell_type": "code",
   "execution_count": 39,
   "id": "17e9781c",
   "metadata": {},
   "outputs": [],
   "source": [
    "def find_all_triplets_less_than_target(arr, target):\n",
    "    arr.sort() #O(N*logN)\n",
    "    print(arr)\n",
    "    triplet_count = 0\n",
    "    for i in range(0,len(arr)-2): #O(N)\n",
    "        left = i+1\n",
    "        right = len(arr)-1\n",
    "        while(left < right):\n",
    "            curr_sum = arr[i] + arr[left] + arr[right]\n",
    "            if curr_sum < target:\n",
    "                print(i,left,right)\n",
    "                triplet_count+=(right-left)\n",
    "                left+=1\n",
    "            else:\n",
    "                right-=1\n",
    "                \n",
    "    return triplet_count"
   ]
  },
  {
   "cell_type": "code",
   "execution_count": 40,
   "id": "1a60bdf9",
   "metadata": {},
   "outputs": [
    {
     "name": "stdout",
     "output_type": "stream",
     "text": [
      "[-1, 0, 2, 3]\n",
      "0 1 3\n"
     ]
    },
    {
     "data": {
      "text/plain": [
       "2"
      ]
     },
     "execution_count": 40,
     "metadata": {},
     "output_type": "execute_result"
    }
   ],
   "source": [
    "find_all_triplets_less_than_target(arr=[-1, 0, 2, 3], target=3)"
   ]
  },
  {
   "cell_type": "markdown",
   "id": "66e2126d",
   "metadata": {},
   "source": [
    "### Subarrays with Product Less than a Target \n",
    "* Find contiguous subarray with product less than target\n",
    "* sliding window -- O(N)"
   ]
  },
  {
   "cell_type": "code",
   "execution_count": 1,
   "id": "6f720b67",
   "metadata": {},
   "outputs": [],
   "source": [
    "def find_subarray_less_than_k(arr,k):\n",
    "    p=1\n",
    "    res_count=0\n",
    "    start = 0\n",
    "    for end in range(0,len(arr)):\n",
    "        p=p*arr[end]\n",
    "        \n",
    "        while(p>=k) and (start < end):\n",
    "            p=int(p//arr[start])\n",
    "            start+=1\n",
    "            \n",
    "        if p<k:\n",
    "            res_count+=(end-start)+1\n",
    "            \n",
    "        end+=1\n",
    "    return res_count\n",
    "            "
   ]
  },
  {
   "cell_type": "code",
   "execution_count": 2,
   "id": "26df8157",
   "metadata": {},
   "outputs": [
    {
     "data": {
      "text/plain": [
       "6"
      ]
     },
     "execution_count": 2,
     "metadata": {},
     "output_type": "execute_result"
    }
   ],
   "source": [
    "find_subarray_less_than_k(arr=[2, 5, 3, 10],k=30)"
   ]
  },
  {
   "cell_type": "markdown",
   "id": "ec0c6b40",
   "metadata": {},
   "source": [
    "### Dutch National Flag Problem\n",
    "* Given an array containing 0s, 1s and 2s, sort the array in-place.\n",
    "* Brute force -- heap sort -- O(N * LogN)\n",
    "* Two pointer -- O(N)"
   ]
  },
  {
   "cell_type": "code",
   "execution_count": 56,
   "id": "68160d2c",
   "metadata": {},
   "outputs": [],
   "source": [
    "def sort_dutch_flag(arr):\n",
    "    low = 0\n",
    "    high = len(arr)-1\n",
    "    i = 0\n",
    "    while(i<high):\n",
    "        if arr[i] == 0:\n",
    "            arr[low], arr[i] = arr[i], arr[low]\n",
    "            low+=1\n",
    "            i+=1\n",
    "        elif arr[i] == 1:\n",
    "            i+=1\n",
    "        else:\n",
    "            arr[high], arr[i] = arr[i], arr[high]\n",
    "            high-=1\n",
    "    return arr"
   ]
  },
  {
   "cell_type": "code",
   "execution_count": 57,
   "id": "67016d1f",
   "metadata": {},
   "outputs": [
    {
     "data": {
      "text/plain": [
       "[0, 0, 1, 1, 2, 2]"
      ]
     },
     "execution_count": 57,
     "metadata": {},
     "output_type": "execute_result"
    }
   ],
   "source": [
    "sort_dutch_flag([1,2,0,0,2,1])"
   ]
  },
  {
   "cell_type": "markdown",
   "id": "a189d216",
   "metadata": {},
   "source": [
    "### Quadruple Sum to Target\n",
    "Given an array of unsorted numbers and a target number, find all unique quadruplets in it, whose sum is equal to the target number.\n",
    "* O(N * LogN + N^3) ~ O(N^3)"
   ]
  },
  {
   "cell_type": "code",
   "execution_count": 61,
   "id": "4a63ab0b",
   "metadata": {},
   "outputs": [],
   "source": [
    "def search_quadruplets(arr, target):\n",
    "    quads = []\n",
    "    arr.sort() # O(NlogN)\n",
    "    for i in range(0,len(arr)-3): #O(N^3)\n",
    "        if i > 0 and arr[i] == arr[i-1]:\n",
    "            continue # skip duplicates\n",
    "        for j in range(i+1, len(arr)-2):\n",
    "            if j > i+1 and arr[j-1] == arr[j]:\n",
    "                continue # skip dupes\n",
    "            search_pair(arr, target, i,j, quads) \n",
    "    return quads\n",
    "\n",
    "def search_pair(arr, target, first, second, quads):\n",
    "    left = second+1\n",
    "    right = len(arr)-1\n",
    "    while(left < right):\n",
    "        curr_sum = arr[left] + arr[right] + arr[first] + arr[second]\n",
    "        if curr_sum == target:\n",
    "            quads.append([ arr[first], arr[second], arr[left], arr[right]])\n",
    "            left+=1\n",
    "            right-=1\n",
    "            while left < right and arr[left] == arr[left-1]: #skip duplicates\n",
    "                left+=1\n",
    "            while left < right and arr[right] == arr[right+1]: # skip duplicates\n",
    "                right-=1\n",
    "        elif curr_sum < target: # we need bigger sum\n",
    "            left+=1\n",
    "        else: # we need smaller sum\n",
    "            right-=1"
   ]
  },
  {
   "cell_type": "code",
   "execution_count": 62,
   "id": "8e69937f",
   "metadata": {},
   "outputs": [
    {
     "data": {
      "text/plain": [
       "[[-2, 0, 2, 2], [-1, 0, 1, 2]]"
      ]
     },
     "execution_count": 62,
     "metadata": {},
     "output_type": "execute_result"
    }
   ],
   "source": [
    "search_quadruplets([2, 0, -1, 1, -2, 2], target=2)"
   ]
  },
  {
   "cell_type": "markdown",
   "id": "d4ef9af8",
   "metadata": {},
   "source": [
    "### Comparing Strings containing Backspaces \n",
    "* Given two strings containing backspaces (identified by the character ‘#’), check if the two strings are equal.\n",
    "* O(M + N)"
   ]
  },
  {
   "cell_type": "code",
   "execution_count": 87,
   "id": "9622fec4",
   "metadata": {},
   "outputs": [],
   "source": [
    "def compare_backspace(str1, str2):\n",
    "    pt1 = len(str1)-1\n",
    "    pt2 = len(str2)-1\n",
    "    while(pt1 >= 0 and pt2 >= 0):\n",
    "        while pt1 > 0 and str1[pt1] == '#':\n",
    "            pt1-=2\n",
    "        while pt2>0 and str2[pt2] == '#':\n",
    "            pt2-=2\n",
    "        if str1[pt1] != str2[pt2]:\n",
    "            return False\n",
    "        pt1-=1\n",
    "        pt2-=1\n",
    "    return True"
   ]
  },
  {
   "cell_type": "code",
   "execution_count": 88,
   "id": "69e893c4",
   "metadata": {},
   "outputs": [
    {
     "data": {
      "text/plain": [
       "True"
      ]
     },
     "execution_count": 88,
     "metadata": {},
     "output_type": "execute_result"
    }
   ],
   "source": [
    "compare_backspace(str1=\"xywrrmp\", str2=\"xywrrmu#p\")"
   ]
  },
  {
   "cell_type": "markdown",
   "id": "62ffcdf9",
   "metadata": {},
   "source": [
    "### Minimum Window Sort \n",
    "Given an array, find the length of the smallest subarray in it which when sorted will sort the whole array.\n",
    "O(N)\n"
   ]
  },
  {
   "cell_type": "code",
   "execution_count": 110,
   "id": "8cf9eeff",
   "metadata": {},
   "outputs": [],
   "source": [
    "def smallest_unsorted_sub(arr):\n",
    "    left = 0\n",
    "    right = len(arr)-1\n",
    "    \n",
    "    while(left < right and arr[left] <= arr[left+1]):\n",
    "          left+=1 # find first unsorted num from left i.e possibly smallest unsorted\n",
    "\n",
    "    if left == right:\n",
    "          return 0 # if array is already sorted\n",
    "    while(right > 0 and arr[right] >= arr[right-1]):\n",
    "          right-=1 # find first largest unsorted\n",
    "        \n",
    "    # find min and max of current subarray \n",
    "    submin = float('inf')\n",
    "    submax = float('-inf')\n",
    "    for i in range(left, right+1):\n",
    "        submin = min(arr[i], submin)\n",
    "        submax = max(arr[i], submax)\n",
    "          \n",
    "    while left > 0 and arr[left-1] > submin: # extend left to include all numbers greater than lowest of subarray\n",
    "          left-=1\n",
    "    while right < len(arr)-1 and arr[right+1] < submax: #extend right to include all numbs less than lowest of subarray\n",
    "          right+=1\n",
    "\n",
    "    return right-left+1\n",
    "          \n",
    "          \n",
    "          \n",
    "    "
   ]
  },
  {
   "cell_type": "code",
   "execution_count": 111,
   "id": "761b44b2",
   "metadata": {},
   "outputs": [
    {
     "data": {
      "text/plain": [
       "5"
      ]
     },
     "execution_count": 111,
     "metadata": {},
     "output_type": "execute_result"
    }
   ],
   "source": [
    "smallest_unsorted_sub([1, 3, 2, 0, -1, 7, 10])"
   ]
  },
  {
   "cell_type": "code",
   "execution_count": null,
   "id": "7ce98649",
   "metadata": {},
   "outputs": [],
   "source": []
  }
 ],
 "metadata": {
  "kernelspec": {
   "display_name": "Python 3 (ipykernel)",
   "language": "python",
   "name": "python3"
  },
  "language_info": {
   "codemirror_mode": {
    "name": "ipython",
    "version": 3
   },
   "file_extension": ".py",
   "mimetype": "text/x-python",
   "name": "python",
   "nbconvert_exporter": "python",
   "pygments_lexer": "ipython3",
   "version": "3.9.7"
  }
 },
 "nbformat": 4,
 "nbformat_minor": 5
}
