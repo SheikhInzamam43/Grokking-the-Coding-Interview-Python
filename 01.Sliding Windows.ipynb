{
 "cells": [
  {
   "cell_type": "markdown",
   "id": "ada62124",
   "metadata": {},
   "source": [
    "### Given an array, find the average of all contiguous subarrays of size ‘K’ in it.\n",
    "* Brute force would be O(N*K)\n",
    "* Optimum approach using sliding windows, O(N) -- have a running total, subract element leaving the window and add element entering window when window slides"
   ]
  },
  {
   "cell_type": "code",
   "execution_count": 7,
   "id": "9c8fdd9d",
   "metadata": {},
   "outputs": [],
   "source": [
    "def findAverage(array, k):\n",
    "    res = []\n",
    "    total = 0\n",
    "    start = 0\n",
    "    for end in range(0,len(array)):\n",
    "        total+=array[end]\n",
    "        if end >=k-1:\n",
    "            res.append(total/k)\n",
    "            total-=array[start]\n",
    "            start+=1\n",
    "    return res"
   ]
  },
  {
   "cell_type": "code",
   "execution_count": 8,
   "id": "e997d79b",
   "metadata": {},
   "outputs": [],
   "source": [
    "Array = [1, 3, 2, 6, -1, 4, 1, 8, 2]\n",
    "K = 5\n",
    "findAverage(Array, K)"
   ]
  },
  {
   "cell_type": "markdown",
   "id": "b9e2ec5a",
   "metadata": {},
   "source": [
    "### find the maximum sum of any contiguous subarray of size k\n",
    "* brute force is O(N*k), sliding window is O(N)\n",
    "* Reuse the sum from the overlapping parts of each subarray to compute sum\n",
    "* subtract the element leaving the window, add the new element in the window, check for max against global max"
   ]
  },
  {
   "cell_type": "code",
   "execution_count": 21,
   "id": "1a6ce490",
   "metadata": {},
   "outputs": [],
   "source": [
    "def findMaxSubarray(array, k):\n",
    "    total = 0\n",
    "    start = 0\n",
    "    maxm = 0\n",
    "    for end in range(0,len(array)):\n",
    "        total+=array[end]\n",
    "        if end >=k-1:\n",
    "            maxm = max(total, maxm)\n",
    "            total-=array[start]\n",
    "            start+=1\n",
    "    return maxm"
   ]
  },
  {
   "cell_type": "code",
   "execution_count": 22,
   "id": "631ec89c",
   "metadata": {},
   "outputs": [
    {
     "data": {
      "text/plain": [
       "9"
      ]
     },
     "execution_count": 22,
     "metadata": {},
     "output_type": "execute_result"
    }
   ],
   "source": [
    "Array = [2, 1, 5, 1, 3, 2]\n",
    "K = 3\n",
    "findMaxSubarray(Array, K)"
   ]
  },
  {
   "cell_type": "markdown",
   "id": "6d3f62d4",
   "metadata": {},
   "source": [
    "### find the length of the smallest contiguous subarray whose sum is greater than or equal to ‘S’\n",
    "* Find the first subarray that sums >= k\n",
    "* Remove elements from the start until sum < k and keep checking for min\n",
    "* Slide the window\n",
    "* O(N)"
   ]
  },
  {
   "cell_type": "code",
   "execution_count": 5,
   "id": "31ef7310",
   "metadata": {},
   "outputs": [],
   "source": [
    "def findMinLenSubarray(array, k):\n",
    "    total = 0\n",
    "    start = 0\n",
    "    min_len = float('inf')\n",
    "    for end in range(0,len(array)):\n",
    "        total+=array[end]\n",
    "        while total >= k:\n",
    "            min_len = min(min_len, (end-start)+1)\n",
    "            total-=array[start]\n",
    "            start+=1\n",
    "    if min_len == float('inf'):\n",
    "        return 0\n",
    "    return min_len"
   ]
  },
  {
   "cell_type": "code",
   "execution_count": 6,
   "id": "23e5fe07",
   "metadata": {},
   "outputs": [
    {
     "data": {
      "text/plain": [
       "0"
      ]
     },
     "execution_count": 6,
     "metadata": {},
     "output_type": "execute_result"
    }
   ],
   "source": [
    "Array = [2, 1, 5, 2, 8]\n",
    "K = 7\n",
    "findMinLenSubarray(Array, K)"
   ]
  },
  {
   "cell_type": "markdown",
   "id": "6f779daf",
   "metadata": {},
   "source": [
    "### Find the length of the longest substring in an array with no more than K distinct characters\n",
    "1. Insert distinct characters and their counts into a hashmap until k characters\n",
    "2. Shrink the window to k characters by removing a character from the left i.e. sliding window\n",
    "3. Compare the lengths of each substring with k distinct characters and replace max\n",
    "O(N + N) = O(N)"
   ]
  },
  {
   "cell_type": "code",
   "execution_count": 5,
   "id": "59b315ff",
   "metadata": {},
   "outputs": [],
   "source": [
    "def findLongestSubarray(array, k):\n",
    "    char_count = {}\n",
    "    start = 0\n",
    "    max_len = 0\n",
    "    for end in range(0,len(array)):\n",
    "        right_char = array[end]\n",
    "        if right_char not in char_count:\n",
    "            char_count[right_char] = 0\n",
    "        char_count[right_char]+=1\n",
    "        \n",
    "        while(len(char_count) > k):\n",
    "            left_char = array[start]\n",
    "            char_count[left_char]-=1\n",
    "            if char_count[left_char] == 0:\n",
    "                del char_count[left_char]\n",
    "            start+=1\n",
    "        max_len = max(max_len, end-start+1)\n",
    "    return max_len"
   ]
  },
  {
   "cell_type": "code",
   "execution_count": 6,
   "id": "57ef3e39",
   "metadata": {},
   "outputs": [
    {
     "data": {
      "text/plain": [
       "4"
      ]
     },
     "execution_count": 6,
     "metadata": {},
     "output_type": "execute_result"
    }
   ],
   "source": [
    "Array = \"araaci\"\n",
    "K = 2\n",
    "findLongestSubarray(Array, K)"
   ]
  },
  {
   "cell_type": "markdown",
   "id": "80c56898",
   "metadata": {},
   "source": [
    "#### Given an array of characters where each character represents a fruit tree, you are given two baskets and your goal is to put maximum number of fruits in each basket. \n",
    "The only restriction is that each basket can have only one type of fruit.\n",
    "\n",
    "You can start with any tree, but once you have started you can’t skip a tree. You will pick one fruit from each tree until you cannot, i.e., you will stop when you have to pick from a third fruit type.\n",
    "\n",
    "Write a function to return the maximum number of fruits in both the baskets.\n",
    "\n",
    "* i.e. longest subarray with only two distinct characters"
   ]
  },
  {
   "cell_type": "code",
   "execution_count": 72,
   "id": "c3972b3a",
   "metadata": {},
   "outputs": [],
   "source": [
    "def max_fruits_per_basket(array):\n",
    "    f_count = {}\n",
    "    max_fruits = 0\n",
    "    start = 0\n",
    "    for end in range(0, len(array)):\n",
    "        r = array[end]\n",
    "        if r not in f_count:\n",
    "            f_count[r] = 0\n",
    "        f_count[r]+=1\n",
    "        while len(f_count) > 2:\n",
    "            l = array[start]\n",
    "            f_count[l]-=1\n",
    "            if f_count[l] == 0:\n",
    "                del f_count[l]\n",
    "            start+=1\n",
    "        max_fruits = max(end-start+1, max_fruits)\n",
    "    return max_fruits"
   ]
  },
  {
   "cell_type": "code",
   "execution_count": 73,
   "id": "890e6a6f",
   "metadata": {},
   "outputs": [
    {
     "data": {
      "text/plain": [
       "5"
      ]
     },
     "execution_count": 73,
     "metadata": {},
     "output_type": "execute_result"
    }
   ],
   "source": [
    "array = ['A', 'B', 'C', 'B', 'B', 'C']\n",
    "max_fruits_per_basket(array)"
   ]
  },
  {
   "cell_type": "markdown",
   "id": "677de3c5",
   "metadata": {},
   "source": [
    "### Longest subarray with no repeating characters\n",
    "ALternate approach : use a HashMap to remember the last index of each character we have processed. Whenever we get a repeating character we will shrink our sliding window to ensure that we always have distinct characters in the sliding window."
   ]
  },
  {
   "cell_type": "code",
   "execution_count": 80,
   "id": "70e81323",
   "metadata": {},
   "outputs": [],
   "source": [
    "def longest_distinct_subarray(array):\n",
    "    f_count = {}\n",
    "    max_len = 0\n",
    "    start = 0\n",
    "    for end in range(0, len(array)):\n",
    "        r = array[end]\n",
    "        if r not in f_count: # add count of char to hashmap \n",
    "            f_count[r] = 0\n",
    "        f_count[r]+=1\n",
    "        while len(f_count) != end-start+1: # shrink current string if length of current string and no of characters same\n",
    "            l = array[start]\n",
    "            f_count[l]-=1\n",
    "            if f_count[l] == 0:\n",
    "                del f_count[l]\n",
    "            start+=1\n",
    "        max_len = max(end-start+1, max_len) # update max\n",
    "    return max_len"
   ]
  },
  {
   "cell_type": "code",
   "execution_count": 85,
   "id": "2de60ac3",
   "metadata": {},
   "outputs": [
    {
     "data": {
      "text/plain": [
       "1"
      ]
     },
     "execution_count": 85,
     "metadata": {},
     "output_type": "execute_result"
    }
   ],
   "source": [
    "arr = \"bbbbbb\"\n",
    "longest_distinct_subarray(arr)"
   ]
  },
  {
   "cell_type": "markdown",
   "id": "a0556517",
   "metadata": {},
   "source": [
    "### replace no more than ‘k’ letters with any letter, find the length of the longest substring having the same letters after replacement"
   ]
  },
  {
   "cell_type": "code",
   "execution_count": 88,
   "id": "fc795e6d",
   "metadata": {},
   "outputs": [],
   "source": [
    "def longest_substr_after_replace(array, k):\n",
    "    f_count = {}\n",
    "    start, max_len, max_repeat = 0,0,0\n",
    "    for end in range(0, len(array)):\n",
    "        r = array[end]\n",
    "        if r not in f_count:\n",
    "            f_count[r] = 0\n",
    "        f_count[r]+=1\n",
    "        max_repeat = max(max_repeat, f_count[r])\n",
    "        \n",
    "        if end-start+1-max_repeat > k:\n",
    "            l = array[start]\n",
    "            f_count[l]-=1\n",
    "            start+=1\n",
    "            \n",
    "        max_len = max(end-start+1, max_len)\n",
    "    return max_len"
   ]
  },
  {
   "cell_type": "code",
   "execution_count": 89,
   "id": "92f37787",
   "metadata": {},
   "outputs": [
    {
     "data": {
      "text/plain": [
       "5"
      ]
     },
     "execution_count": 89,
     "metadata": {},
     "output_type": "execute_result"
    }
   ],
   "source": [
    "arr =\"aabccbb\"\n",
    "longest_substr_after_replace(arr, 2)"
   ]
  },
  {
   "cell_type": "markdown",
   "id": "6e6bfebc",
   "metadata": {},
   "source": [
    "### replace no more than ‘k’ 0s with 1s, find the length of the longest contiguous subarray having all 1s.\n",
    "* count no of zeros per window\n",
    "* shrink if more than k\n"
   ]
  },
  {
   "cell_type": "code",
   "execution_count": 1,
   "id": "f821404b",
   "metadata": {},
   "outputs": [],
   "source": [
    "def longest_subarray_of_ones(array,k):\n",
    "    start, z_count, max_len = 0,0,0\n",
    "    for end in range(0, len(array)):\n",
    "        if array[end] == 0:\n",
    "            z_count+=1\n",
    "        while z_count > k:\n",
    "            if array[start] == 0:\n",
    "                z_count-=1\n",
    "            start+=1\n",
    "        max_len = max(max_len, end-start+1)\n",
    "    return max_len\n",
    "            "
   ]
  },
  {
   "cell_type": "code",
   "execution_count": 2,
   "id": "9e8e7ac2",
   "metadata": {},
   "outputs": [
    {
     "data": {
      "text/plain": [
       "9"
      ]
     },
     "execution_count": 2,
     "metadata": {},
     "output_type": "execute_result"
    }
   ],
   "source": [
    "array=[0, 1, 0, 0, 1, 1, 0, 1, 1, 0, 0, 1, 1]\n",
    "k=3\n",
    "longest_subarray_of_ones(array,k)"
   ]
  },
  {
   "cell_type": "markdown",
   "id": "ef2a9892",
   "metadata": {},
   "source": [
    "### Given a string and a pattern, find out if the string contains any permutation of the pattern.\n",
    "* Alternatively, store frequency of characters in pattern in a hashmap\n",
    "* Decrement from hashmap as encountered in string\n",
    "* If hashmap is empty, permuatation exists"
   ]
  },
  {
   "cell_type": "code",
   "execution_count": 170,
   "id": "516001d4",
   "metadata": {},
   "outputs": [],
   "source": [
    "def find_permutations(array, s):\n",
    "    start = 0\n",
    "    for end in range(0, len(array)):\n",
    "        if end-start+1 == len(s) and len(set(array[start:end+1])-set(s)) == 0:\n",
    "            return True\n",
    "        if end >= len(s)-1:\n",
    "            start+=1\n",
    "    return False\n",
    "        \n",
    "        "
   ]
  },
  {
   "cell_type": "code",
   "execution_count": 174,
   "id": "bf56d2b3",
   "metadata": {},
   "outputs": [
    {
     "name": "stdout",
     "output_type": "stream",
     "text": [
      "o\n",
      "od\n",
      "di\n",
      "ic\n",
      "cf\n"
     ]
    },
    {
     "data": {
      "text/plain": [
       "False"
      ]
     },
     "execution_count": 174,
     "metadata": {},
     "output_type": "execute_result"
    }
   ],
   "source": [
    "array = \"odicf\"\n",
    "pattern=\"dc\"\n",
    "find_permutations(array, pattern)"
   ]
  },
  {
   "cell_type": "markdown",
   "id": "c34b867b",
   "metadata": {},
   "source": [
    "### Given a string and a pattern, find all anagrams of the pattern in the given string.\n",
    "* find every occurrence of any permutation of the pattern in the string\n"
   ]
  },
  {
   "cell_type": "code",
   "execution_count": 192,
   "id": "4d2412d1",
   "metadata": {},
   "outputs": [],
   "source": [
    "def find_anagrams(arr, p):\n",
    "    start, matched = 0,0\n",
    "    res = []\n",
    "    char_map = {}\n",
    "    \n",
    "    for i in p:\n",
    "        if i not in char_map:\n",
    "            char_map[i] = 0\n",
    "        char_map[i]+=1 # count all chars in the pattern\n",
    "\n",
    "    for end in range(len(arr)):\n",
    "        right = arr[end]\n",
    "        if right in char_map:\n",
    "            char_map[right]-=1 # decrement the frequency of matched char\n",
    "            if char_map[right] == 0:\n",
    "                matched+=1\n",
    "        if len(char_map) == matched: #if we macth as many chars as pattern, current window is an anagram\n",
    "            res.append(start) # append start index of anagram to result\n",
    "            \n",
    "        if end >= len(p)-1:\n",
    "            left = arr[start]\n",
    "            start+=1\n",
    "            if left in char_map:\n",
    "                if char_map[left] == 0:\n",
    "                    matched-=1 # decrement matched cause char not in new window\n",
    "                char_map[left]+=1 # undo changes to char map count\n",
    "    return res\n",
    "            "
   ]
  },
  {
   "cell_type": "code",
   "execution_count": 191,
   "id": "c38ebbd4",
   "metadata": {},
   "outputs": [
    {
     "name": "stdout",
     "output_type": "stream",
     "text": [
      "p\n",
      "1\n",
      "pp\n",
      "pq\n",
      "2\n",
      "qp\n",
      "2\n"
     ]
    },
    {
     "data": {
      "text/plain": [
       "[1, 2]"
      ]
     },
     "execution_count": 191,
     "metadata": {},
     "output_type": "execute_result"
    }
   ],
   "source": [
    "string=\"ppqp\"\n",
    "pattern=\"pq\"\n",
    "find_anagrams(string, pattern)"
   ]
  },
  {
   "cell_type": "markdown",
   "id": "e3e8e104",
   "metadata": {},
   "source": [
    "### find the smallest substring in the given string which has all the characters of the given pattern."
   ]
  },
  {
   "cell_type": "code",
   "execution_count": 197,
   "id": "bf9b8847",
   "metadata": {},
   "outputs": [],
   "source": [
    "def find_smallest_substr(arr,p):\n",
    "    start, matched = 0,0\n",
    "    ans_start = 0\n",
    "    length = len(arr)+1\n",
    "    char_map = {}\n",
    "    \n",
    "    for i in p:\n",
    "        if i not in char_map:\n",
    "            char_map[i] = 0\n",
    "        char_map[i]+=1 # count all chars in the pattern\n",
    "\n",
    "    for end in range(len(arr)):\n",
    "        right = arr[end]\n",
    "        if right in char_map:\n",
    "            char_map[right]-=1 # decrement the frequency of matched char\n",
    "            if char_map[right] >= 0:\n",
    "                matched+=1\n",
    "        \n",
    "        while matched == len(pattern): #shrink the window if possible\n",
    "            if length > end-start+1:\n",
    "                length = end-start+1\n",
    "                ans_start = start\n",
    "            \n",
    "            left = arr[start]\n",
    "            start+=1\n",
    "            if left in char_map:\n",
    "                if char_map[left] == 0:\n",
    "                    matched-=1 # decrement matched cause char not in new window\n",
    "                char_map[left]+=1 # undo changes to char map count\n",
    "                \n",
    "    return \"\" if length > len(arr) else arr[ans_start:ans_start+length]\n",
    "            "
   ]
  },
  {
   "cell_type": "code",
   "execution_count": 198,
   "id": "e6bf2699",
   "metadata": {},
   "outputs": [
    {
     "data": {
      "text/plain": [
       "'abdec'"
      ]
     },
     "execution_count": 198,
     "metadata": {},
     "output_type": "execute_result"
    }
   ],
   "source": [
    "string=\"aabdec\"\n",
    "pattern=\"abc\"\n",
    "find_smallest_substr(string,pattern)"
   ]
  },
  {
   "cell_type": "markdown",
   "id": "c4e5c30a",
   "metadata": {},
   "source": [
    "###  find all the starting indices of substrings in the given string that are a concatenation of all the given words exactly once without any overlapping of words. It is given that all words are of the same length.\n",
    "Keep the frequency of every word in a HashMap.\n",
    "Starting from every index in the string, try to match all the words.\n",
    "In each iteration, keep track of all the words that we have already seen in another HashMap.\n",
    "If a word is not found or has a higher frequency than required, we can move on to the next character in the string.\n",
    "Store the index if we have found all the words.\n",
    "* O(N*M*Lenght)"
   ]
  },
  {
   "cell_type": "code",
   "execution_count": 214,
   "id": "c2aa382a",
   "metadata": {},
   "outputs": [],
   "source": [
    "def find_words_in_substr(arr, words):\n",
    "    if len(arr) == 0 or len(words) == 0:\n",
    "        return [] \n",
    "    \n",
    "    word_count = {}\n",
    "    for word in words:\n",
    "        if word not in word_count:\n",
    "            word_count[word]=0\n",
    "        word_count[word]+=1\n",
    "        \n",
    "    result = []\n",
    "    n_words = len(words)\n",
    "    l_words = len(words[0])\n",
    "    \n",
    "    for i in range((len(arr)-n_words*l_words)+1):\n",
    "        words_seen = {}\n",
    "        for j in range(0,n_words):\n",
    "            index = i+j * l_words\n",
    "            word = arr[index : index + l_words]\n",
    "            if word not in word_count:\n",
    "                break\n",
    "            if word not in words_seen:\n",
    "                words_seen[word]=0\n",
    "            words_seen[word] +=1\n",
    "            \n",
    "            if words_seen[word] > word_count.get(word,0):\n",
    "                break\n",
    "                \n",
    "            if j+1 == n_words:\n",
    "                result.append(i)\n",
    "                \n",
    "    return result"
   ]
  },
  {
   "cell_type": "code",
   "execution_count": 215,
   "id": "cd1001ea",
   "metadata": {},
   "outputs": [
    {
     "name": "stdout",
     "output_type": "stream",
     "text": [
      "cat\n",
      "fox\n",
      "atf\n",
      "tfo\n",
      "fox\n",
      "cat\n"
     ]
    },
    {
     "data": {
      "text/plain": [
       "[0, 3]"
      ]
     },
     "execution_count": 215,
     "metadata": {},
     "output_type": "execute_result"
    }
   ],
   "source": [
    "find_words_in_substr(\"catfoxcat\", [\"cat\", \"fox\"])"
   ]
  }
 ],
 "metadata": {
  "kernelspec": {
   "display_name": "Python 3 (ipykernel)",
   "language": "python",
   "name": "python3"
  },
  "language_info": {
   "codemirror_mode": {
    "name": "ipython",
    "version": 3
   },
   "file_extension": ".py",
   "mimetype": "text/x-python",
   "name": "python",
   "nbconvert_exporter": "python",
   "pygments_lexer": "ipython3",
   "version": "3.9.7"
  }
 },
 "nbformat": 4,
 "nbformat_minor": 5
}
