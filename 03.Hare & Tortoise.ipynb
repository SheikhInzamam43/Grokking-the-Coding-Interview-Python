{
 "cells": [
  {
   "cell_type": "markdown",
   "id": "87a14159",
   "metadata": {},
   "source": [
    "### Given the head of a Singly LinkedList, write a function to determine if the LinkedList has a cycle in it or not.\n",
    "* If a fast runner and slow runner are running on a circular track, the fast runner will cross the slow runner from behind at some point\n",
    "* O(N)\n",
    "* To find the length of the cycle :\n",
    "        * Once the fast and slow pointers meet, we can save the slow pointer and iterate the whole cycle with another pointer until we see the slow pointer again to find the length of the cycle."
   ]
  },
  {
   "cell_type": "code",
   "execution_count": 4,
   "id": "ed359541",
   "metadata": {},
   "outputs": [
    {
     "name": "stdout",
     "output_type": "stream",
     "text": [
      "False\n",
      "True\n"
     ]
    }
   ],
   "source": [
    "class Node:\n",
    "    def __init__(self, value, next=None):\n",
    "        self.value = value\n",
    "        self.next = next\n",
    "\n",
    "def has_cycle(head):\n",
    "    hare = head\n",
    "    tortoise = head\n",
    "    while hare is not None and hare.next is not None:\n",
    "        hare = hare.next.next\n",
    "        tortoise = tortoise.next\n",
    "        if hare == tortoise:\n",
    "            return True\n",
    "    return False\n",
    "\n",
    "head = Node(1)\n",
    "head.next = Node(2)\n",
    "head.next.next = Node(3)\n",
    "head.next.next.next = Node(4)\n",
    "print(has_cycle(head))\n",
    "head.next.next.next.next = head.next.next\n",
    "print(has_cycle(head))"
   ]
  },
  {
   "cell_type": "markdown",
   "id": "9c859b2c",
   "metadata": {},
   "source": [
    "### Given the head of a Singly LinkedList that contains a cycle, find the starting node of the cycle.\n",
    "1. Initialize two pointers at head, increment first by two and second by one\n",
    "2. Find where they meet. Set a pointer to the meeting node. Increment pointer until it's equal to the other two -- this gives the length\n",
    "3. Initialize one pointer to head + length of cycle and another to head. Increment by one until they meet. This is the start.\n",
    "O(N) + O(N) + O(N) = O(N)"
   ]
  },
  {
   "cell_type": "code",
   "execution_count": 13,
   "id": "c037b2bc",
   "metadata": {},
   "outputs": [
    {
     "name": "stdout",
     "output_type": "stream",
     "text": [
      "3\n"
     ]
    }
   ],
   "source": [
    "class Node:\n",
    "    def __init__(self, value, next=None):\n",
    "        self.value = value\n",
    "        self.next = next\n",
    "        \n",
    "    def __str__(self):\n",
    "        return str(self.value)\n",
    "\n",
    "def find_length(tortoise):\n",
    "    node = tortoise\n",
    "    length = 0\n",
    "    while True:\n",
    "        node = node.next\n",
    "        length+=1\n",
    "        if node == tortoise:\n",
    "            break\n",
    "    return length\n",
    "        \n",
    "def find_start(head, length):\n",
    "    hare = head\n",
    "    tortoise = head\n",
    "    for i in range(0,length):\n",
    "        hare = hare.next\n",
    "    while True:\n",
    "        if hare == tortoise:\n",
    "            return hare\n",
    "        hare = hare.next\n",
    "        tortoise = tortoise.next\n",
    "        \n",
    "def find_cycle_start(head):\n",
    "    hare = head\n",
    "    tortoise = head\n",
    "    while hare is not None and hare.next is not None:\n",
    "        hare = hare.next.next\n",
    "        tortoise = tortoise.next\n",
    "        if hare == tortoise:\n",
    "            length = find_length(hare)\n",
    "            break\n",
    "    return find_start(head,length)\n",
    "\n",
    "head = Node(1)\n",
    "head.next = Node(2)\n",
    "head.next.next = Node(3)\n",
    "head.next.next.next = Node(4)\n",
    "head.next.next.next.next = Node(5)\n",
    "head.next.next.next.next.next = head.next.next\n",
    "print(find_cycle_start(head))"
   ]
  },
  {
   "cell_type": "markdown",
   "id": "98fccedb",
   "metadata": {},
   "source": [
    "### Check for Happy Number\n",
    "A happy number, after repeatedly replacing it with a number equal to the sum of the square of all of its digits, leads to ‘1’. All other numbers will be stuck in a cycle of numbers which does not include ‘1’.\n",
    "\n",
    "1. Set two pointers to num\n",
    "2. Repeatedly find the sum of squares of digits for each pointer, advance one to the next sum and the second to two sums ahead\n",
    "3. Stop when they get stuck in a cycle\n",
    "4. If cycle is stuck at 1, happy number\n",
    "* O (log N)"
   ]
  },
  {
   "cell_type": "code",
   "execution_count": 32,
   "id": "de9fb526",
   "metadata": {},
   "outputs": [],
   "source": [
    "def find_sum_of_squares_of_digits(num):\n",
    "    sq_sum = 0\n",
    "    while(num > 0):\n",
    "        digit = num%10\n",
    "        sq_sum+=digit * digit\n",
    "        num//=10\n",
    "    return sq_sum\n",
    "\n",
    "def find_happy_number(num):\n",
    "    slow, fast = num, num\n",
    "    while True:\n",
    "        slow = find_sum_of_squares_of_digits(slow) # moves one step\n",
    "        fast = find_sum_of_squares_of_digits(find_sum_of_squares_of_digits(fast)) # moves two steps\n",
    "        if slow == fast:\n",
    "            # cycle found\n",
    "            break\n",
    "    return slow == 1 # happy number if cycle is stuck on 1"
   ]
  },
  {
   "cell_type": "code",
   "execution_count": 31,
   "id": "3b068ce8",
   "metadata": {},
   "outputs": [
    {
     "data": {
      "text/plain": [
       "False"
      ]
     },
     "execution_count": 31,
     "metadata": {},
     "output_type": "execute_result"
    }
   ],
   "source": [
    "find_happy_number(56)"
   ]
  },
  {
   "cell_type": "markdown",
   "id": "cd9926db",
   "metadata": {},
   "source": [
    "### Given the head of a Singly LinkedList, write a method to return the middle node of the LinkedList.\n",
    "\n",
    "If the total number of nodes in the LinkedList is even, return the second middle node.\n",
    "* Set two pointers to head\n",
    "* Advance them so one is always twice ahead of the other.\n",
    "* When the frst reaches the end, the other would be in the middle\n",
    "* O(N)"
   ]
  },
  {
   "cell_type": "code",
   "execution_count": 35,
   "id": "30a9ad5a",
   "metadata": {},
   "outputs": [
    {
     "name": "stdout",
     "output_type": "stream",
     "text": [
      "3\n"
     ]
    }
   ],
   "source": [
    "class Node:\n",
    "    def __init__(self, value, next=None):\n",
    "        self.value = value\n",
    "        self.next = next\n",
    "        \n",
    "    def __str__(self):\n",
    "        return str(self.value)\n",
    "\n",
    "def find_middle(head):\n",
    "    hare = head\n",
    "    tortoise = head\n",
    "    while hare is not None and hare.next is not None:\n",
    "        hare = hare.next.next\n",
    "        tortoise = tortoise.next\n",
    "    return tortoise\n",
    "\n",
    "head = Node(1)\n",
    "head.next = Node(2)\n",
    "head.next.next = Node(3)\n",
    "head.next.next.next = Node(4)\n",
    "head.next.next.next.next = Node(5)\n",
    "print(find_middle(head))"
   ]
  },
  {
   "cell_type": "markdown",
   "id": "86985645",
   "metadata": {},
   "source": [
    "### Given the head of a Singly LinkedList, write a method to check if the LinkedList is a palindrome or not.\n",
    "1. Find middle of list\n",
    "2. Reverse second half of list\n",
    "3. Compare two halves\n",
    "4. Put list back to og state\n",
    "* O(N)"
   ]
  },
  {
   "cell_type": "code",
   "execution_count": 44,
   "id": "d1094eda",
   "metadata": {},
   "outputs": [
    {
     "name": "stdout",
     "output_type": "stream",
     "text": [
      "2 5\n",
      "False\n"
     ]
    }
   ],
   "source": [
    "class Node:\n",
    "    def __init__(self, value, next=None):\n",
    "        self.value = value\n",
    "        self.next = next\n",
    "        \n",
    "    def __str__(self):\n",
    "        return str(self.value)\n",
    "\n",
    "def reverse(head):\n",
    "    prev = None\n",
    "    while(head is not None):\n",
    "        next_ = head.next\n",
    "        head.next = prev\n",
    "        prev = head\n",
    "        head = next_\n",
    "    return prev\n",
    "\n",
    "def check_palindrome(head):\n",
    "    hare = head\n",
    "    tortoise = head\n",
    "\n",
    "    # find middle\n",
    "    while hare is not None and hare.next is not None:\n",
    "        hare = hare.next.next\n",
    "        tortoise = tortoise.next\n",
    "\n",
    "    rev_half = reverse(tortoise) # reverse second half\n",
    "    sec_half_head = rev_half # copy head of reversed second half\n",
    "    \n",
    "    while head is not None and sec_half_head is not None:\n",
    "        if head.value!=sec_half_head.value:\n",
    "            return False # check for palindrome\n",
    "        head = head.next\n",
    "        sec_half_head = sec_half_head.next\n",
    "    og_sec_half = reverse(rev_half) # put back to original state\n",
    "    return True\n",
    "\n",
    "head = Node(2)\n",
    "head.next = Node(4)\n",
    "head.next.next = Node(3)\n",
    "head.next.next.next = Node(4)\n",
    "head.next.next.next.next = Node(5)\n",
    "print(check_palindrome(head))"
   ]
  },
  {
   "cell_type": "markdown",
   "id": "3f5df900",
   "metadata": {},
   "source": [
    "### Given the head of a Singly LinkedList, write a method to modify the LinkedList such that the nodes from the second half of the LinkedList are inserted alternately to the nodes from the first half in reverse order. \n",
    "1. Find middle\n",
    "2. Reverse second half\n",
    "3. Interleave two lists\n"
   ]
  },
  {
   "cell_type": "code",
   "execution_count": 59,
   "id": "8c1f94f6",
   "metadata": {},
   "outputs": [
    {
     "name": "stdout",
     "output_type": "stream",
     "text": [
      "2\n",
      "12\n",
      "4\n",
      "10\n",
      "6\n",
      "8\n"
     ]
    }
   ],
   "source": [
    "class Node:\n",
    "    def __init__(self, value, next=None):\n",
    "        self.value = value\n",
    "        self.next = next\n",
    "        \n",
    "    def __str__(self):\n",
    "        return str(self.value)\n",
    "    \n",
    "def reverse(head):\n",
    "    prev = None\n",
    "    while(head):\n",
    "        next_ = head.next\n",
    "        head.next = prev\n",
    "        prev = head\n",
    "        head = next_\n",
    "    return prev\n",
    "\n",
    "def mix_list(head):\n",
    "    fast = head\n",
    "    slow = head\n",
    "\n",
    "    while fast is not None and fast.next is not None: # find middle\n",
    "        fast = fast.next.next\n",
    "        slow = slow.next\n",
    "        \n",
    "    sec_half_rev = reverse(slow) # reverse sec half\n",
    "    sec_head = sec_half_rev\n",
    "    \n",
    "    copy_head = head\n",
    "    while head is not None and sec_head is not None: # mix list\n",
    "        temp = head.next\n",
    "        head.next = sec_head\n",
    "        head = temp\n",
    "        \n",
    "        temp = sec_head.next\n",
    "        sec_head.next = head\n",
    "        sec_head = temp\n",
    "        \n",
    "    if head is not None: # set last to None\n",
    "        head.next = None\n",
    "        \n",
    "    while(copy_head): # print result\n",
    "        print(copy_head)\n",
    "        copy_head=copy_head.next\n",
    "\n",
    "#2 -> 4 -> 6 -> 8 -> 10 -> 12\n",
    "head = Node(2)\n",
    "head.next = Node(4)\n",
    "head.next.next = Node(6)\n",
    "head.next.next.next = Node(8)\n",
    "head.next.next.next.next = Node(10)\n",
    "head.next.next.next.next.next = Node(12)\n",
    "\n",
    "mix_list(head)"
   ]
  },
  {
   "cell_type": "markdown",
   "id": "e2b5ef7c",
   "metadata": {},
   "source": [
    "### Cycle in a Circular Array \n",
    "We are given an array containing positive and negative numbers, if ‘M’ is positive we will move forward ‘M’ indices and if ‘M’ is negative move backwards ‘M’ indices.Determine if the array has a cycle. The cycle should have more than one element and should follow one direction.\n",
    "* Have one pointer move two steps and the other one.\n",
    "* If next is same as current, one element cycle, break\n",
    "* If direction changes, break\n",
    "* Iterate until all elements are processed or a cycle is found\n",
    "O(N * N)"
   ]
  },
  {
   "cell_type": "code",
   "execution_count": 62,
   "id": "63b33e85",
   "metadata": {},
   "outputs": [],
   "source": [
    "def find_next(arr, is_forward, pointer):\n",
    "    direction = arr[pointer] >= 0\n",
    "    \n",
    "    if direction!=is_forward:\n",
    "        return -1\n",
    "    next_index = (pointer + arr[pointer]) % len(arr)\n",
    "    if next_index == pointer:\n",
    "        return -1\n",
    "    return next_index\n",
    "\n",
    "def find_cycle_in_array(arr):\n",
    "    for i in range(0,len(arr)):\n",
    "        slow = i\n",
    "        fast = i\n",
    "        is_forward = arr[i] >= 0\n",
    "        while True:\n",
    "            slow = find_next(arr, is_forward, slow)\n",
    "            fast = find_next(arr, is_forward, fast)\n",
    "            if fast!=-1:\n",
    "                fast = find_next(arr, is_forward, fast)\n",
    "            if fast == -1 or slow == -1:\n",
    "                break\n",
    "            if fast == slow:\n",
    "                return True\n",
    "    return False"
   ]
  },
  {
   "cell_type": "code",
   "execution_count": 64,
   "id": "64006a6b",
   "metadata": {},
   "outputs": [
    {
     "data": {
      "text/plain": [
       "False"
      ]
     },
     "execution_count": 64,
     "metadata": {},
     "output_type": "execute_result"
    }
   ],
   "source": [
    "find_cycle_in_array([2, 1, -1, -2])"
   ]
  },
  {
   "cell_type": "code",
   "execution_count": null,
   "id": "cfc08db3",
   "metadata": {},
   "outputs": [],
   "source": []
  }
 ],
 "metadata": {
  "kernelspec": {
   "display_name": "Python 3 (ipykernel)",
   "language": "python",
   "name": "python3"
  },
  "language_info": {
   "codemirror_mode": {
    "name": "ipython",
    "version": 3
   },
   "file_extension": ".py",
   "mimetype": "text/x-python",
   "name": "python",
   "nbconvert_exporter": "python",
   "pygments_lexer": "ipython3",
   "version": "3.9.7"
  }
 },
 "nbformat": 4,
 "nbformat_minor": 5
}
