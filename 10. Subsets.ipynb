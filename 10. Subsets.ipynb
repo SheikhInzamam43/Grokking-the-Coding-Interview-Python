{
 "cells": [
  {
   "cell_type": "markdown",
   "id": "9469796a",
   "metadata": {},
   "source": [
    "### Given a set with distinct elements, find all of its distinct subsets.\n",
    "1. Start with an empty set and do BFS\n",
    "2. At each step, append the new element to all existing subsets and append to global list -- only distinct elements present\n",
    "O(2^N)"
   ]
  },
  {
   "cell_type": "code",
   "execution_count": 3,
   "id": "173d205b",
   "metadata": {},
   "outputs": [],
   "source": [
    "def find_distinct_subsets(arr):\n",
    "    subsets = []\n",
    "    subsets.append([])\n",
    "    for n in arr:\n",
    "        l = len(subsets)\n",
    "        for i in range(l):\n",
    "            s = list(subsets[i])\n",
    "            s.append(n)\n",
    "            subsets.append(s)\n",
    "    return subsets"
   ]
  },
  {
   "cell_type": "code",
   "execution_count": 4,
   "id": "0b07903f",
   "metadata": {},
   "outputs": [
    {
     "data": {
      "text/plain": [
       "[[], [1], [3], [1, 3]]"
      ]
     },
     "execution_count": 4,
     "metadata": {},
     "output_type": "execute_result"
    }
   ],
   "source": [
    "arr = [1,3]\n",
    "find_distinct_subsets(arr)"
   ]
  },
  {
   "cell_type": "markdown",
   "id": "f47b76ce",
   "metadata": {},
   "source": [
    "### Given a set of numbers that might contain duplicates, find all of its distinct subsets.\n",
    " O(2^N * N) because of linear search to check -- instead sort arr first and if the n element is same as previous, skip\n"
   ]
  },
  {
   "cell_type": "code",
   "execution_count": 11,
   "id": "9bac0ba2",
   "metadata": {},
   "outputs": [],
   "source": [
    "def find_distinct_subsets_from_indistinct_array(arr):\n",
    "    subsets = []\n",
    "    subsets.append([])\n",
    "    for n in arr:\n",
    "        l = len(subsets)\n",
    "        for i in range(l):\n",
    "            s = list(subsets[i])\n",
    "            print(s,n)\n",
    "            if n not in s:\n",
    "                s.append(n)\n",
    "            if s not in subsets:\n",
    "                subsets.append(s)\n",
    "    return subsets"
   ]
  },
  {
   "cell_type": "code",
   "execution_count": 12,
   "id": "7479df2c",
   "metadata": {},
   "outputs": [
    {
     "name": "stdout",
     "output_type": "stream",
     "text": [
      "[] 1\n",
      "[] 3\n",
      "[1] 3\n",
      "[] 3\n",
      "[1] 3\n",
      "[3] 3\n",
      "[1, 3] 3\n"
     ]
    },
    {
     "data": {
      "text/plain": [
       "[[], [1], [3], [1, 3]]"
      ]
     },
     "execution_count": 12,
     "metadata": {},
     "output_type": "execute_result"
    }
   ],
   "source": [
    "arr = [1, 3, 3]\n",
    "find_distinct_subsets_from_indistinct_array(arr)"
   ]
  },
  {
   "cell_type": "code",
   "execution_count": 36,
   "id": "36fd3cde",
   "metadata": {},
   "outputs": [],
   "source": [
    "def find_distinct_subsets_by_sort(arr):\n",
    "    subsets = []\n",
    "    subsets.append([])\n",
    "    list.sort(arr)\n",
    "    for i in range (0, len(arr)):\n",
    "        if i > 0 and arr[i] == arr[i-1]:\n",
    "            continue\n",
    "        l = len(subsets)\n",
    "        for k in range(l):\n",
    "            s = list(subsets[k])\n",
    "            s.append(arr[i])\n",
    "            subsets.append(s)\n",
    "    return subsets"
   ]
  },
  {
   "cell_type": "code",
   "execution_count": 37,
   "id": "e392c107",
   "metadata": {},
   "outputs": [
    {
     "data": {
      "text/plain": [
       "[[], [1], [3], [1, 3], [5], [1, 5], [3, 5], [1, 3, 5]]"
      ]
     },
     "execution_count": 37,
     "metadata": {},
     "output_type": "execute_result"
    }
   ],
   "source": [
    "arr = [1, 3, 5, 3]\n",
    "find_distinct_subsets_by_sort(arr)"
   ]
  },
  {
   "cell_type": "markdown",
   "id": "38bbb934",
   "metadata": {},
   "source": [
    "### Given a set of distinct numbers, find all of its permutations.\n",
    "\n",
    "* A list of n numbers has n! permutations\n",
    "* Complexity - O(N * N!)"
   ]
  },
  {
   "cell_type": "code",
   "execution_count": 3,
   "id": "d9cb11de",
   "metadata": {},
   "outputs": [],
   "source": [
    "from collections import deque"
   ]
  },
  {
   "cell_type": "code",
   "execution_count": 6,
   "id": "75a9247f",
   "metadata": {},
   "outputs": [],
   "source": [
    "def find_permutations(nums):\n",
    "    l = len(nums)\n",
    "    result = []\n",
    "    permutations = deque()\n",
    "    permutations.append([])\n",
    "    \n",
    "    for num in nums:\n",
    "        for i in range(len(permutations)):\n",
    "            perm = permutations.popleft()\n",
    "            for j in range(len(perm)+1):\n",
    "                list_perm = list(perm)\n",
    "                list_perm.insert(j, num)\n",
    "                if len(list_perm) == l:\n",
    "                    print(list_perm)\n",
    "                    result.append(list_perm)\n",
    "                else:\n",
    "                    permutations.append(list_perm)\n",
    "    return result"
   ]
  },
  {
   "cell_type": "code",
   "execution_count": 7,
   "id": "6d50b992",
   "metadata": {},
   "outputs": [
    {
     "name": "stdout",
     "output_type": "stream",
     "text": [
      "[5, 2, 1]\n",
      "[2, 5, 1]\n",
      "[2, 1, 5]\n",
      "[5, 1, 2]\n",
      "[1, 5, 2]\n",
      "[1, 2, 5]\n"
     ]
    },
    {
     "data": {
      "text/plain": [
       "[[5, 2, 1], [2, 5, 1], [2, 1, 5], [5, 1, 2], [1, 5, 2], [1, 2, 5]]"
      ]
     },
     "execution_count": 7,
     "metadata": {},
     "output_type": "execute_result"
    }
   ],
   "source": [
    "find_permutations({1,2,5})"
   ]
  },
  {
   "cell_type": "code",
   "execution_count": 17,
   "id": "a4f2206b",
   "metadata": {},
   "outputs": [
    {
     "name": "stdout",
     "output_type": "stream",
     "text": [
      "######## []\n",
      "######## [1]\n",
      "######## [2, 1]\n",
      "######## [5, 2, 1]\n",
      "######## [2, 5, 1]\n",
      "######## [2, 1, 5]\n",
      "######## [1, 2]\n",
      "######## [5, 1, 2]\n",
      "######## [1, 5, 2]\n",
      "######## [1, 2, 5]\n"
     ]
    },
    {
     "data": {
      "text/plain": [
       "[[5, 2, 1], [2, 5, 1], [2, 1, 5], [5, 1, 2], [1, 5, 2], [1, 2, 5]]"
      ]
     },
     "execution_count": 17,
     "metadata": {},
     "output_type": "execute_result"
    }
   ],
   "source": [
    "## recursive version\n",
    "\n",
    "def gen_permutations(nums):\n",
    "    result = []\n",
    "    generate_permutations_recursive(nums, 0, [], result)\n",
    "    return result\n",
    "\n",
    "def generate_permutations_recursive(nums, index, curr_perm, result):\n",
    "    print('########',curr_perm)\n",
    "    if len(curr_perm) == len(nums):\n",
    "        result.append(curr_perm)\n",
    "    else:\n",
    "        for i in range(len(curr_perm)+1):\n",
    "            curr_perm_ = list(curr_perm)\n",
    "            curr_perm_.insert(i, nums[index])\n",
    "            generate_permutations_recursive(nums, index+1, curr_perm_, result)\n",
    "            \n",
    "gen_permutations([1,2,5])"
   ]
  },
  {
   "cell_type": "markdown",
   "id": "1adcccac",
   "metadata": {},
   "source": [
    "### Given a string, find all of its permutations preserving the character sequence but changing case.\n",
    "\n",
    "O(N*2^N)"
   ]
  },
  {
   "cell_type": "code",
   "execution_count": 30,
   "id": "5f126db6",
   "metadata": {},
   "outputs": [],
   "source": [
    "def swap_case_permutation(s):\n",
    "    permutations = []\n",
    "    permutations.append(s)\n",
    "    \n",
    "    for i in range(len(s)):\n",
    "        if s[i].isalpha():\n",
    "            n = len(permutations)\n",
    "            for j in range(n):\n",
    "                perm = list(permutations[j])\n",
    "                perm[i] = perm[i].swapcase()\n",
    "                permutations.append(''.join(perm))\n",
    "                \n",
    "    return permutations"
   ]
  },
  {
   "cell_type": "code",
   "execution_count": 31,
   "id": "1e597019",
   "metadata": {},
   "outputs": [
    {
     "data": {
      "text/plain": [
       "['ab7c', 'Ab7c', 'aB7c', 'AB7c', 'ab7C', 'Ab7C', 'aB7C', 'AB7C']"
      ]
     },
     "execution_count": 31,
     "metadata": {},
     "output_type": "execute_result"
    }
   ],
   "source": [
    "swap_case_permutation('ab7c')"
   ]
  },
  {
   "cell_type": "markdown",
   "id": "e28bf112",
   "metadata": {},
   "source": [
    "### For a given number ‘N’, generate all combination of ‘N’ pairs of balanced parentheses.\n",
    "\n",
    "complexity: O(2^N)"
   ]
  },
  {
   "cell_type": "code",
   "execution_count": 39,
   "id": "e3e7437e",
   "metadata": {},
   "outputs": [],
   "source": [
    "def generate_paranthesis(N):\n",
    "    result = []\n",
    "    para_combo = [0 for x in range(2*N)]\n",
    "    generate_paranthesis_recursive(N, para_combo, 0,0,0, result)\n",
    "    return result\n",
    "    \n",
    "def generate_paranthesis_recursive(N, para_str, open_count,close_count,index, result):\n",
    "    if open_count == N and close_count == N:\n",
    "        result.append(''.join(para_str))\n",
    "    else:\n",
    "        if open_count < N:\n",
    "            para_str[index]='('\n",
    "            generate_paranthesis_recursive(N, para_str, open_count+1,close_count,index+1, result)\n",
    "        if close_count < open_count:\n",
    "            para_str[index]=')'\n",
    "            generate_paranthesis_recursive(N, para_str, open_count,close_count+1,index+1, result)\n"
   ]
  },
  {
   "cell_type": "code",
   "execution_count": 40,
   "id": "4af53265",
   "metadata": {},
   "outputs": [
    {
     "data": {
      "text/plain": [
       "['((()))', '(()())', '(())()', '()(())', '()()()']"
      ]
     },
     "execution_count": 40,
     "metadata": {},
     "output_type": "execute_result"
    }
   ],
   "source": [
    "generate_paranthesis(3)"
   ]
  },
  {
   "cell_type": "markdown",
   "id": "792a0853",
   "metadata": {},
   "source": [
    "### Given a word, write a function to generate all of its unique generalized abbreviations.\n",
    "\n",
    "O(2^N)"
   ]
  },
  {
   "cell_type": "code",
   "execution_count": 17,
   "id": "bb194154",
   "metadata": {},
   "outputs": [],
   "source": [
    "def generate_abb(s):\n",
    "    result = []\n",
    "    generate_abb_recursive(s, list(), 0,0, result)\n",
    "    return result\n",
    "    \n",
    "def generate_abb_recursive(s, abword, start, count, result):\n",
    "    if start == len(s):\n",
    "        if count!=0:\n",
    "            abword.append(str(count))\n",
    "        result.append(''.join(abword))\n",
    "    else:\n",
    "        generate_abb_recursive(s, abword, start+1, count+1, result)\n",
    "        if count!=0:\n",
    "            abword.append(str(count))\n",
    "        newword = list(abword)\n",
    "        newword.append(s[start])\n",
    "        generate_abb_recursive(s, newword, start+1, count+1, result)"
   ]
  },
  {
   "cell_type": "code",
   "execution_count": 18,
   "id": "dbec1b0d",
   "metadata": {},
   "outputs": [
    {
     "data": {
      "text/plain": [
       "['3',\n",
       " '32t3',\n",
       " '321a3',\n",
       " '321a32t3',\n",
       " '321b3',\n",
       " '321b32t3',\n",
       " '321b321a3',\n",
       " '321b321a32t3']"
      ]
     },
     "execution_count": 18,
     "metadata": {},
     "output_type": "execute_result"
    }
   ],
   "source": [
    "generate_abb('bat')"
   ]
  },
  {
   "cell_type": "markdown",
   "id": "d0806177",
   "metadata": {},
   "source": [
    "### Given an expression containing digits and operations (+, -, *), find all possible ways in which the expression can be evaluated by grouping the numbers and operators using parentheses.\n",
    "\n",
    "O(N∗2^N\n",
    "​​ )"
   ]
  },
  {
   "cell_type": "code",
   "execution_count": 40,
   "id": "4258291d",
   "metadata": {},
   "outputs": [],
   "source": [
    "def compute_rec(exp):\n",
    "    res = []\n",
    "    if exp.isdigit(): #base condition -- no more operators\n",
    "        res.append(int(exp))\n",
    "\n",
    "    for i in range(0, len(exp)):\n",
    "        char = exp[i]\n",
    "        if not char.isdigit():\n",
    "            left = compute_rec(exp[:i])\n",
    "            right = compute_rec(exp[i+1:])\n",
    "            print(left, right, char)\n",
    "            for l in left: # for every \n",
    "                for r in right:\n",
    "                    if char == '*':\n",
    "                        res.append(l * r)\n",
    "                    elif char == '+':\n",
    "                        res.append(l + r)\n",
    "                    else:\n",
    "                        res.append(l - r)\n",
    "    return res\n",
    "            "
   ]
  },
  {
   "cell_type": "code",
   "execution_count": 41,
   "id": "75c7fe3b",
   "metadata": {},
   "outputs": [
    {
     "name": "stdout",
     "output_type": "stream",
     "text": [
      "[2] [3] *\n",
      "[1] [6] +\n",
      "[1] [2] +\n",
      "[3] [3] *\n"
     ]
    },
    {
     "data": {
      "text/plain": [
       "[7, 9]"
      ]
     },
     "execution_count": 41,
     "metadata": {},
     "output_type": "execute_result"
    }
   ],
   "source": [
    "compute_rec('1+2*3')"
   ]
  },
  {
   "cell_type": "code",
   "execution_count": 47,
   "id": "fb077bc4",
   "metadata": {},
   "outputs": [],
   "source": [
    "### memoization\n",
    "\n",
    "def compute_rec_memo(map_, exp):\n",
    "    print(map_)\n",
    "    if exp in map_:\n",
    "        return map_[exp]\n",
    "\n",
    "    res = []\n",
    "    if exp.isdigit(): #base condition -- no more operators\n",
    "        res.append(int(exp))\n",
    "\n",
    "    for i in range(0, len(exp)):\n",
    "        char = exp[i]\n",
    "        if not char.isdigit():\n",
    "            left = compute_rec_memo(map_, exp[:i])\n",
    "            right = compute_rec_memo(map_, exp[i+1:])\n",
    "            for l in left: # for every \n",
    "                for r in right:\n",
    "                    if char == '*':\n",
    "                        res.append(l * r)\n",
    "                    elif char == '+':\n",
    "                        res.append(l + r)\n",
    "                    else:\n",
    "                        res.append(l - r)\n",
    "    map_[exp] = res\n",
    "    return res\n",
    "            "
   ]
  },
  {
   "cell_type": "code",
   "execution_count": 48,
   "id": "71b13c15",
   "metadata": {},
   "outputs": [
    {
     "name": "stdout",
     "output_type": "stream",
     "text": [
      "{}\n",
      "{}\n",
      "{'1': [1]}\n",
      "{'1': [1]}\n",
      "{'1': [1], '2': [2]}\n",
      "{'1': [1], '2': [2], '3': [3], '2*3': [6]}\n",
      "{'1': [1], '2': [2], '3': [3], '2*3': [6]}\n",
      "{'1': [1], '2': [2], '3': [3], '2*3': [6]}\n",
      "{'1': [1], '2': [2], '3': [3], '2*3': [6], '1+2': [3]}\n"
     ]
    },
    {
     "data": {
      "text/plain": [
       "[7, 9]"
      ]
     },
     "execution_count": 48,
     "metadata": {},
     "output_type": "execute_result"
    }
   ],
   "source": [
    "compute_rec_memo({}, '1+2*3')"
   ]
  },
  {
   "cell_type": "markdown",
   "id": "01129b0a",
   "metadata": {},
   "source": [
    "### Given a number ‘n’, write a function to return all structurally unique Binary Search Trees (BST) that can store values 1 to ‘n\n",
    "O(2^N)"
   ]
  },
  {
   "cell_type": "code",
   "execution_count": 65,
   "id": "8992e86e",
   "metadata": {},
   "outputs": [],
   "source": [
    "class TreeNode:\n",
    "    def __init__(self,val):\n",
    "        self.val = val\n",
    "        self.left, self.right = None, None\n",
    "    def __repr__(self):\n",
    "        return str(self.val)\n",
    "        \n",
    "def gen_bst(n):\n",
    "    if n == 0:\n",
    "        return []\n",
    "    return gen_bst_rec(1, n)\n",
    "\n",
    "def gen_bst_rec(start, end):\n",
    "    res = []\n",
    "    if start > end:\n",
    "        res.append(None)\n",
    "        return res\n",
    "    \n",
    "    for i in range(start, end+1):\n",
    "        left_trees = gen_bst_rec(start, i-1)\n",
    "        right_trees = gen_bst_rec(i+1, end)\n",
    "        for l in left_trees:\n",
    "            for r in right_trees:\n",
    "                node = TreeNode(i)\n",
    "                node.left = l\n",
    "                node.right = r\n",
    "                res.append(node)\n",
    "    return res"
   ]
  },
  {
   "cell_type": "code",
   "execution_count": 66,
   "id": "fe1a5b69",
   "metadata": {},
   "outputs": [
    {
     "data": {
      "text/plain": [
       "[1, 1, 2, 3, 3]"
      ]
     },
     "execution_count": 66,
     "metadata": {},
     "output_type": "execute_result"
    }
   ],
   "source": [
    "gen_bst(3)"
   ]
  },
  {
   "cell_type": "markdown",
   "id": "4078393a",
   "metadata": {},
   "source": [
    "### Count of Structurally Unique Binary Search Trees\n",
    "* iterate from 1 to ‘n’ and consider each number as the root of a tree and make two recursive calls to count the number of left and right sub-trees.\n",
    "O(2^N)"
   ]
  },
  {
   "cell_type": "code",
   "execution_count": 76,
   "id": "9437ebc4",
   "metadata": {},
   "outputs": [],
   "source": [
    "def count_bst_rec(N):\n",
    "    if N <= 1:\n",
    "        return 1\n",
    "    \n",
    "    count=0\n",
    "    for i in range(1,N+1):\n",
    "        left_trees = count_bst_rec(i-1)\n",
    "        right_trees = count_bst_rec(N-i)\n",
    "        count+=left_trees * right_trees\n",
    "    return count"
   ]
  },
  {
   "cell_type": "code",
   "execution_count": 77,
   "id": "35ee7442",
   "metadata": {},
   "outputs": [
    {
     "data": {
      "text/plain": [
       "5"
      ]
     },
     "execution_count": 77,
     "metadata": {},
     "output_type": "execute_result"
    }
   ],
   "source": [
    "count_bst_rec(3)"
   ]
  },
  {
   "cell_type": "code",
   "execution_count": null,
   "id": "899fd6c5",
   "metadata": {},
   "outputs": [],
   "source": []
  }
 ],
 "metadata": {
  "kernelspec": {
   "display_name": "Python 3 (ipykernel)",
   "language": "python",
   "name": "python3"
  },
  "language_info": {
   "codemirror_mode": {
    "name": "ipython",
    "version": 3
   },
   "file_extension": ".py",
   "mimetype": "text/x-python",
   "name": "python",
   "nbconvert_exporter": "python",
   "pygments_lexer": "ipython3",
   "version": "3.9.7"
  }
 },
 "nbformat": 4,
 "nbformat_minor": 5
}
