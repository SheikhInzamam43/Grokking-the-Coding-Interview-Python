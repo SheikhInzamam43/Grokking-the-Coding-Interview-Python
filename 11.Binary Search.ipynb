{
 "cells": [
  {
   "cell_type": "markdown",
   "id": "407ab30e",
   "metadata": {},
   "source": [
    "### Order-agnostic Binary Search\n",
    "O(logN)"
   ]
  },
  {
   "cell_type": "code",
   "execution_count": 24,
   "id": "51b8c395",
   "metadata": {},
   "outputs": [],
   "source": [
    "def binary_search(arr, key):\n",
    "    start = 0\n",
    "    end = len(arr)-1\n",
    "    is_asc = arr[start] < arr[end-1]\n",
    "    while start < end:\n",
    "        mid = start+(end-start) // 2\n",
    "        print(arr[mid],arr[start],arr[end-1])\n",
    "\n",
    "        if key == arr[mid]:\n",
    "            return True\n",
    "        elif key < arr[mid]:\n",
    "            if is_asc:\n",
    "                end = mid-1\n",
    "            else:\n",
    "                start = mid+1\n",
    "        else:\n",
    "            if is_asc:\n",
    "                start = mid+1\n",
    "            else:\n",
    "                end = mid-1\n",
    "    return False"
   ]
  },
  {
   "cell_type": "code",
   "execution_count": 25,
   "id": "2a1116b5",
   "metadata": {},
   "outputs": [
    {
     "name": "stdout",
     "output_type": "stream",
     "text": [
      "8 9 5\n",
      "5 5 5\n"
     ]
    },
    {
     "data": {
      "text/plain": [
       "True"
      ]
     },
     "execution_count": 25,
     "metadata": {},
     "output_type": "execute_result"
    }
   ],
   "source": [
    "binary_search([9,7,8,5,1], 5)"
   ]
  },
  {
   "cell_type": "markdown",
   "id": "88f2ca40",
   "metadata": {},
   "source": [
    "### Given an array of numbers sorted in an ascending order, find the ceiling of a given number ‘key’"
   ]
  },
  {
   "cell_type": "code",
   "execution_count": 27,
   "id": "6c8511c6",
   "metadata": {},
   "outputs": [],
   "source": [
    "def find_ceiling(arr, key):\n",
    "    start = 0\n",
    "    end = len(arr)-1\n",
    "    if key > arr[end]:\n",
    "        return -1\n",
    "\n",
    "    while start < end:\n",
    "        mid = start+(end-start) // 2\n",
    "        print(arr[mid],arr[start],arr[end-1])\n",
    "        if key == arr[mid]:\n",
    "            return mid\n",
    "        elif key < arr[mid]:\n",
    "            end = mid-1\n",
    "        else:\n",
    "            start = mid+1\n",
    "        \n",
    "\n",
    "    return start"
   ]
  },
  {
   "cell_type": "code",
   "execution_count": 28,
   "id": "465d1ec9",
   "metadata": {},
   "outputs": [
    {
     "name": "stdout",
     "output_type": "stream",
     "text": [
      "8 4 10\n",
      "10 10 10\n"
     ]
    },
    {
     "data": {
      "text/plain": [
       "3"
      ]
     },
     "execution_count": 28,
     "metadata": {},
     "output_type": "execute_result"
    }
   ],
   "source": [
    "find_ceiling([4,6,8,10,14], 9)"
   ]
  },
  {
   "cell_type": "code",
   "execution_count": 29,
   "id": "07652586",
   "metadata": {},
   "outputs": [],
   "source": [
    "def find_floor(arr, key):\n",
    "    start = 0\n",
    "    end = len(arr)-1\n",
    "    if key < arr[start]:\n",
    "        return -1\n",
    "\n",
    "    while start < end:\n",
    "        mid = start+(end-start) // 2\n",
    "        print(arr[mid],arr[start],arr[end-1])\n",
    "        if key == arr[mid]:\n",
    "            return mid\n",
    "        elif key < arr[mid]:\n",
    "            end = mid-1\n",
    "        else:\n",
    "            start = mid+1\n",
    "        \n",
    "\n",
    "    return end"
   ]
  },
  {
   "cell_type": "code",
   "execution_count": 30,
   "id": "ae841fa4",
   "metadata": {},
   "outputs": [
    {
     "name": "stdout",
     "output_type": "stream",
     "text": [
      "8 4 10\n",
      "10 10 10\n"
     ]
    },
    {
     "data": {
      "text/plain": [
       "2"
      ]
     },
     "execution_count": 30,
     "metadata": {},
     "output_type": "execute_result"
    }
   ],
   "source": [
    "find_floor([4,6,8,10,14], 9)"
   ]
  },
  {
   "cell_type": "markdown",
   "id": "25813dfe",
   "metadata": {},
   "source": [
    "### Given an array of lowercase letters sorted in ascending order, find the smallest letter in the given array greater than a given ‘key’.\n",
    "\n",
    "Assume the given array is a circular list, which means that the last letter is assumed to be connected with the first letter. This also means that the smallest letter in the given array is greater than the last letter of the array and is also the first letter of the array."
   ]
  },
  {
   "cell_type": "code",
   "execution_count": 45,
   "id": "36638ac1",
   "metadata": {},
   "outputs": [],
   "source": [
    "def find_next_letter(arr, key):\n",
    "    start = 0\n",
    "    end = len(arr)-1\n",
    "    if key < arr[start] or key > arr[end]:\n",
    "        return arr[start]\n",
    "\n",
    "\n",
    "    while start <= end:\n",
    "        mid = start+(end-start) // 2\n",
    "        print(arr[mid],arr[start],arr[end-1])\n",
    "\n",
    "        if key < arr[mid]:\n",
    "            end = mid-1\n",
    "        else:\n",
    "            start = mid+1\n",
    "        \n",
    "\n",
    "    return arr[start % end+1]"
   ]
  },
  {
   "cell_type": "code",
   "execution_count": 46,
   "id": "d6e1bb09",
   "metadata": {},
   "outputs": [
    {
     "name": "stdout",
     "output_type": "stream",
     "text": [
      "c a f\n",
      "f f f\n",
      "h h f\n"
     ]
    },
    {
     "data": {
      "text/plain": [
       "'f'"
      ]
     },
     "execution_count": 46,
     "metadata": {},
     "output_type": "execute_result"
    }
   ],
   "source": [
    "find_next_letter(['a', 'c', 'f', 'h'], 'f')"
   ]
  },
  {
   "cell_type": "markdown",
   "id": "442acc2a",
   "metadata": {},
   "source": [
    "### Given an array of numbers sorted in ascending order, find the range of a given number ‘key’. The range of the ‘key’ will be the first and last position of the ‘key’ in the array.\n",
    "\n",
    "Write a function to return the range of the ‘key’. If the ‘key’ is not present return [-1, -1]."
   ]
  },
  {
   "cell_type": "code",
   "execution_count": 47,
   "id": "02fc9efc",
   "metadata": {},
   "outputs": [],
   "source": [
    "def find_range(arr, key):\n",
    "    res = [-1, -1]\n",
    "    res[0] = binary_search(arr, key, False)\n",
    "    res[1] = binary_search(arr, key, True)\n",
    "    return res\n",
    "\n",
    "def binary_search(arr, key, maxIndex):\n",
    "    start = 0\n",
    "    end = len(arr)-1\n",
    "    keyindex = -1\n",
    "\n",
    "    while start < end:\n",
    "        mid = start+(end-start) // 2\n",
    "        if key == arr[mid]:\n",
    "            if maxIndex:\n",
    "                start = mid+1\n",
    "            else:\n",
    "                end = mid-1\n",
    "            keyindex = mid\n",
    "        elif key < arr[mid]:\n",
    "            end = mid-1\n",
    "        else:\n",
    "            start = mid+1\n",
    "        \n",
    "\n",
    "    return keyindex"
   ]
  },
  {
   "cell_type": "code",
   "execution_count": 49,
   "id": "23a1526b",
   "metadata": {},
   "outputs": [
    {
     "data": {
      "text/plain": [
       "[4, 4]"
      ]
     },
     "execution_count": 49,
     "metadata": {},
     "output_type": "execute_result"
    }
   ],
   "source": [
    "find_range([1,2,6,7,8,10], 8)"
   ]
  },
  {
   "cell_type": "markdown",
   "id": "f5fff9d0",
   "metadata": {},
   "source": [
    "### Given an array of numbers sorted in ascending order, find the element in the array that has the minimum difference with the given ‘key’."
   ]
  },
  {
   "cell_type": "code",
   "execution_count": 59,
   "id": "e6fb4a03",
   "metadata": {},
   "outputs": [],
   "source": [
    "def find_min_diff(arr, key):\n",
    "    start = 0\n",
    "    end = len(arr)-1\n",
    "    if key < arr[0]:\n",
    "        return arr[0]\n",
    "    if key > arr[end]:\n",
    "        return arr[end]\n",
    "\n",
    "    while start <= end:\n",
    "        mid = start+(end-start) // 2\n",
    "        if key == arr[mid]:\n",
    "            return arr[mid]\n",
    "        elif key < arr[mid]:\n",
    "            end = mid-1\n",
    "        else:\n",
    "            start = mid+1\n",
    "    print(start,mid, end)\n",
    "    if arr[start] - key < key-arr[end]:\n",
    "        return arr[start]\n",
    "        \n",
    "    return arr[end]"
   ]
  },
  {
   "cell_type": "code",
   "execution_count": 60,
   "id": "25eadb06",
   "metadata": {},
   "outputs": [
    {
     "name": "stdout",
     "output_type": "stream",
     "text": [
      "2 2 1\n"
     ]
    },
    {
     "data": {
      "text/plain": [
       "6"
      ]
     },
     "execution_count": 60,
     "metadata": {},
     "output_type": "execute_result"
    }
   ],
   "source": [
    "find_min_diff([4,6,10], 7)"
   ]
  },
  {
   "cell_type": "markdown",
   "id": "03f462fd",
   "metadata": {},
   "source": [
    "### Find the maximum value in a given Bitonic array. An array is considered bitonic if it is monotonically increasing and then monotonically decreasing. Monotonically increasing or decreasing means that for any index i in the array arr[i] != arr[i+1]."
   ]
  },
  {
   "cell_type": "code",
   "execution_count": 63,
   "id": "3b05b41e",
   "metadata": {},
   "outputs": [],
   "source": [
    "def search_monotonic_arr(arr):\n",
    "    start = 0\n",
    "    end = len(arr)-1\n",
    "\n",
    "    while start != end:\n",
    "        mid = start+(end-start) // 2\n",
    "\n",
    "        if arr[mid] > arr[mid+1]:\n",
    "            end = mid\n",
    "        else:\n",
    "            start = mid+1\n",
    "    return arr[start]"
   ]
  },
  {
   "cell_type": "code",
   "execution_count": 64,
   "id": "0f25180f",
   "metadata": {},
   "outputs": [
    {
     "data": {
      "text/plain": [
       "8"
      ]
     },
     "execution_count": 64,
     "metadata": {},
     "output_type": "execute_result"
    }
   ],
   "source": [
    "search_monotonic_arr([1,3,5,8,4,2,0])"
   ]
  },
  {
   "cell_type": "markdown",
   "id": "74a7898e",
   "metadata": {},
   "source": [
    "### Given a Bitonic array, find if a given ‘key’ is present in it"
   ]
  },
  {
   "cell_type": "code",
   "execution_count": 79,
   "id": "ddd407ea",
   "metadata": {},
   "outputs": [],
   "source": [
    "def find_max_index(arr):\n",
    "    start = 0\n",
    "    end = len(arr)-1\n",
    "\n",
    "    while start != end:\n",
    "        mid = start+(end-start) // 2\n",
    "\n",
    "        if arr[mid] > arr[mid+1]:\n",
    "                end = mid\n",
    "        else:\n",
    "            start = mid+1\n",
    "    return start\n",
    "\n",
    "def binary_search(arr, key):\n",
    "    start = 0\n",
    "    end = len(arr)-1\n",
    "    \n",
    "    while start<=end:\n",
    "        mid = start+(end-start)//2\n",
    "        \n",
    "        if key == arr[mid]:\n",
    "            return mid\n",
    "        elif key < arr[mid]:\n",
    "            end = mid-1\n",
    "        else:\n",
    "            start = mid + 1\n",
    "    return -1\n",
    "\n",
    "def search_monotonic_arr(arr, key):\n",
    "    \n",
    "    max_index = find_max_index(arr)\n",
    "    return max(binary_search(arr[:max_index], key), binary_search(arr[max_index+1:], key))\n"
   ]
  },
  {
   "cell_type": "code",
   "execution_count": 80,
   "id": "997f7b8f",
   "metadata": {},
   "outputs": [
    {
     "data": {
      "text/plain": [
       "2"
      ]
     },
     "execution_count": 80,
     "metadata": {},
     "output_type": "execute_result"
    }
   ],
   "source": [
    "search_monotonic_arr([1,3,5,8,4,2,0], 5)"
   ]
  },
  {
   "cell_type": "markdown",
   "id": "7c738eae",
   "metadata": {},
   "source": [
    "### Given an array of numbers which is sorted in ascending order and also rotated by some arbitrary number, find if a given ‘key’ is present in it.\n",
    "\n",
    "Write a function to return the index of the ‘key’ in the rotated array. If the ‘key’ is not present, return -1. You can assume that the given array does not have any duplicates."
   ]
  },
  {
   "cell_type": "code",
   "execution_count": 82,
   "id": "1522f30b",
   "metadata": {},
   "outputs": [],
   "source": [
    "def search_rotated_arr(arr, key):\n",
    "    start = 0\n",
    "    end = len(arr)-1\n",
    "\n",
    "    while start <= end:\n",
    "        mid = start+(end-start) // 2\n",
    "        if arr[mid] == key:\n",
    "            return mid\n",
    "        if arr[start] <= arr[mid]: # first half is asc\n",
    "            if key >= arr[start] and key < arr[mid]:\n",
    "                end = mid-1\n",
    "            else:\n",
    "                start = mid+1\n",
    "        else:\n",
    "            if key > arr[mid] and key <= arr[end]:\n",
    "                start = mid+1\n",
    "            else:\n",
    "                end = mid-1\n",
    "    return -1"
   ]
  },
  {
   "cell_type": "code",
   "execution_count": 84,
   "id": "2ec266bd",
   "metadata": {},
   "outputs": [
    {
     "data": {
      "text/plain": [
       "4"
      ]
     },
     "execution_count": 84,
     "metadata": {},
     "output_type": "execute_result"
    }
   ],
   "source": [
    "search_rotated_arr([1,3,5,8,0,2,4], 0)"
   ]
  },
  {
   "cell_type": "markdown",
   "id": "64e1cb68",
   "metadata": {},
   "source": [
    "### Rotation Count \n",
    "Given an array of numbers which is sorted in ascending order and is rotated ‘k’ times around a pivot, find ‘k’.\n",
    "\n",
    "- This will be the index of the smallest element in the array, as the numver of times its been moved is the number of rotations "
   ]
  },
  {
   "cell_type": "code",
   "execution_count": 85,
   "id": "86d586f3",
   "metadata": {},
   "outputs": [],
   "source": [
    "def find_rotations(arr):\n",
    "    start = 0\n",
    "    end = len(arr)-1\n",
    "    \n",
    "    while start <= end:\n",
    "        mid = start + (end-start)//2\n",
    "        if arr[mid] < arr[mid-1]:\n",
    "            return mid\n",
    "        if arr[mid+1] < arr[mid]:\n",
    "            return mid+1\n",
    "        \n",
    "        if arr[start] < arr[mid]:\n",
    "            start = mid + 1\n",
    "        else:\n",
    "            end = mid - 1\n",
    "    return 0"
   ]
  },
  {
   "cell_type": "code",
   "execution_count": 86,
   "id": "e0391b6b",
   "metadata": {},
   "outputs": [
    {
     "data": {
      "text/plain": [
       "2"
      ]
     },
     "execution_count": 86,
     "metadata": {},
     "output_type": "execute_result"
    }
   ],
   "source": [
    "find_rotations([8, 10, 1, 3, 5])"
   ]
  },
  {
   "cell_type": "code",
   "execution_count": null,
   "id": "38a84654",
   "metadata": {},
   "outputs": [],
   "source": []
  }
 ],
 "metadata": {
  "kernelspec": {
   "display_name": "Python 3 (ipykernel)",
   "language": "python",
   "name": "python3"
  },
  "language_info": {
   "codemirror_mode": {
    "name": "ipython",
    "version": 3
   },
   "file_extension": ".py",
   "mimetype": "text/x-python",
   "name": "python",
   "nbconvert_exporter": "python",
   "pygments_lexer": "ipython3",
   "version": "3.9.7"
  }
 },
 "nbformat": 4,
 "nbformat_minor": 5
}
