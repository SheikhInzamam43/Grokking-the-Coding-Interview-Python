{
 "cells": [
  {
   "cell_type": "markdown",
   "id": "984e44f5",
   "metadata": {},
   "source": [
    "### Sort array of integers between 1-n in place without extra space\n",
    "1. Iterate over array\n",
    "2. If value at right index i.e. value-1, swap\n",
    "3. Don't move pointer until right value is at current index\n",
    "* O(N)"
   ]
  },
  {
   "cell_type": "code",
   "execution_count": 5,
   "id": "8f450267",
   "metadata": {},
   "outputs": [],
   "source": [
    "def sort_in_place(arr):\n",
    "    i = 0\n",
    "    while i < len(arr):\n",
    "        j = arr[i] - 1\n",
    "        if arr[i] != arr[j]:\n",
    "            arr[i],arr[j] = arr[j],arr[i]\n",
    "        else:\n",
    "            i+=1\n",
    "    return arr"
   ]
  },
  {
   "cell_type": "code",
   "execution_count": 6,
   "id": "aec0a48c",
   "metadata": {},
   "outputs": [
    {
     "data": {
      "text/plain": [
       "[1, 2, 3, 4, 5, 6]"
      ]
     },
     "execution_count": 6,
     "metadata": {},
     "output_type": "execute_result"
    }
   ],
   "source": [
    "sort_in_place([2, 6, 4, 3, 1, 5])"
   ]
  },
  {
   "cell_type": "markdown",
   "id": "6177753b",
   "metadata": {},
   "source": [
    "### Given an array containing ‘n’ distinct numbers in range 0 to ‘n’, find the missing number.\n",
    "* each number should be equal to its index\n",
    "* Ignore number n as it can't be placed in the array\n",
    "\n",
    " - O(N) + O(N) = O(N)"
   ]
  },
  {
   "cell_type": "code",
   "execution_count": 7,
   "id": "41d212a1",
   "metadata": {},
   "outputs": [],
   "source": [
    "def find_missing_num(arr):\n",
    "    i = 0\n",
    "    n = len(arr)\n",
    "    while i < n:\n",
    "        j = arr[i]\n",
    "        if arr[i] < n and arr[i] != arr[j]:\n",
    "            arr[i],arr[j] = arr[j],arr[i]\n",
    "        else:\n",
    "            i+=1\n",
    "            \n",
    "    for i in range(n):\n",
    "        if i != arr[i]:\n",
    "            return i\n",
    "        \n",
    "    return n"
   ]
  },
  {
   "cell_type": "code",
   "execution_count": 8,
   "id": "3abe2b29",
   "metadata": {},
   "outputs": [
    {
     "data": {
      "text/plain": [
       "1"
      ]
     },
     "execution_count": 8,
     "metadata": {},
     "output_type": "execute_result"
    }
   ],
   "source": [
    "find_missing_num([4,0,2,3])"
   ]
  },
  {
   "cell_type": "markdown",
   "id": "506e40fe",
   "metadata": {},
   "source": [
    "### Given an array containing ‘n’ distinct numbers in range 0 to ‘n’, find all missing numbers.\n",
    "* each number should be equal to its index\n",
    "* Ignore number n as it can't be placed in the array\n",
    "\n",
    " - O(N) + O(N) = O(N)"
   ]
  },
  {
   "cell_type": "code",
   "execution_count": 10,
   "id": "8605f542",
   "metadata": {},
   "outputs": [],
   "source": [
    "def find_all_missing_nums(arr):\n",
    "    i = 0\n",
    "    n = len(arr)\n",
    "    results = []\n",
    "    while i < n:\n",
    "        j = arr[i]-1\n",
    "        if arr[i] != arr[j]:\n",
    "            arr[i],arr[j] = arr[j],arr[i]\n",
    "        else:\n",
    "            i+=1\n",
    "            \n",
    "    for i in range(n):\n",
    "        if i+1 != arr[i]:\n",
    "            results.append(i+1)\n",
    "        \n",
    "    return results"
   ]
  },
  {
   "cell_type": "code",
   "execution_count": 11,
   "id": "f4a9970b",
   "metadata": {},
   "outputs": [
    {
     "data": {
      "text/plain": [
       "[4, 6, 7]"
      ]
     },
     "execution_count": 11,
     "metadata": {},
     "output_type": "execute_result"
    }
   ],
   "source": [
    "find_all_missing_nums([2, 3, 1, 8, 2, 3, 5, 1])"
   ]
  },
  {
   "cell_type": "markdown",
   "id": "34716e45",
   "metadata": {},
   "source": [
    "### given an unsorted array containing ‘n+1’ numbers in range 1 to ‘n’, find the duplicate number "
   ]
  },
  {
   "cell_type": "code",
   "execution_count": 14,
   "id": "7f774032",
   "metadata": {},
   "outputs": [],
   "source": [
    "def find_duplicate_num(arr):\n",
    "    i = 0\n",
    "    n = len(arr)\n",
    "    while i < n:\n",
    "        if arr[i] != i+1:\n",
    "            j = arr[i]-1\n",
    "            if arr[i] != arr[j]:\n",
    "                arr[i],arr[j] = arr[j],arr[i]\n",
    "            else:\n",
    "                return arr[j]\n",
    "        else:\n",
    "            i+=1\n",
    "        \n",
    "    return -1"
   ]
  },
  {
   "cell_type": "code",
   "execution_count": 15,
   "id": "8d8fa886",
   "metadata": {},
   "outputs": [
    {
     "name": "stdout",
     "output_type": "stream",
     "text": [
      "[1, 2, 3, 3, 5, 4]\n"
     ]
    },
    {
     "data": {
      "text/plain": [
       "3"
      ]
     },
     "execution_count": 15,
     "metadata": {},
     "output_type": "execute_result"
    }
   ],
   "source": [
    "find_duplicate_num([2, 1, 3, 3, 5, 4])"
   ]
  },
  {
   "cell_type": "markdown",
   "id": "c30c9443",
   "metadata": {},
   "source": [
    "### given an unsorted array containing ‘n+1’ numbers in range 1 to ‘n’, find all duplicate numbers"
   ]
  },
  {
   "cell_type": "code",
   "execution_count": 26,
   "id": "26b47e1e",
   "metadata": {},
   "outputs": [],
   "source": [
    "def find__all_duplicates(arr):\n",
    "    i = 0\n",
    "    n = len(arr)\n",
    "    results = []\n",
    "    while i < n:\n",
    "        j = arr[i]-1\n",
    "        if arr[i] != arr[j]:\n",
    "            arr[i], arr[j] = arr[j],arr[i]\n",
    "        else:\n",
    "            i+=1\n",
    "    print(arr)\n",
    "    for i in range(n):\n",
    "        if arr[i] != i+1: # index+1 should be equal to value if it's not a duplicate\n",
    "            results.append(arr[i])\n",
    "        \n",
    "    return results"
   ]
  },
  {
   "cell_type": "code",
   "execution_count": 27,
   "id": "6b48ceb4",
   "metadata": {},
   "outputs": [
    {
     "name": "stdout",
     "output_type": "stream",
     "text": [
      "[1, 2, 3, 4, 5, 1, 2]\n"
     ]
    },
    {
     "data": {
      "text/plain": [
       "[1, 2]"
      ]
     },
     "execution_count": 27,
     "metadata": {},
     "output_type": "execute_result"
    }
   ],
   "source": [
    "find__all_duplicates([2,1,1,2,3,5,4])"
   ]
  },
  {
   "cell_type": "markdown",
   "id": "53f7a225",
   "metadata": {},
   "source": [
    "### Given an unsorted array containing ‘n’ numbers in range 1 to ‘n, find one missing and one duplicate\n",
    "* Once we are done with the cyclic sort, we will iterate through the array to find the number that is not at the correct index. \n",
    "* Since only one number got corrupted, the number at the wrong index is the duplicated number and the index itself represents the missing number."
   ]
  },
  {
   "cell_type": "code",
   "execution_count": 30,
   "id": "0ffd858b",
   "metadata": {},
   "outputs": [],
   "source": [
    "def find_corrupt_pair(arr):\n",
    "    i = 0\n",
    "    n = len(arr)\n",
    "    results = []\n",
    "    while i < n:\n",
    "        j = arr[i]-1\n",
    "        if arr[i] != arr[j]:\n",
    "            arr[i], arr[j] = arr[j],arr[i]\n",
    "        else:\n",
    "            i+=1\n",
    "            \n",
    "    for i in range(n):\n",
    "        if arr[i] != i+1:\n",
    "            return [i+1,arr[i]]"
   ]
  },
  {
   "cell_type": "code",
   "execution_count": 31,
   "id": "44682216",
   "metadata": {},
   "outputs": [
    {
     "data": {
      "text/plain": [
       "[5, 3]"
      ]
     },
     "execution_count": 31,
     "metadata": {},
     "output_type": "execute_result"
    }
   ],
   "source": [
    "find_corrupt_pair([3, 1, 2, 3, 6, 4])"
   ]
  },
  {
   "cell_type": "markdown",
   "id": "91d278d1",
   "metadata": {},
   "source": [
    "### Given an unsorted array containing numbers, find the smallest missing positive number in it.\n",
    "\n",
    "* place the numbers on their correct indices and ignore all numbers that are out of the range of the array (i.e., all negative numbers and all numbers greater than or equal to the length of the array). \n",
    "* Once we are done with the cyclic sort we will iterate the array and the first index that does not have the correct number will be the smallest missing positive number!\n",
    "* O(N)"
   ]
  },
  {
   "cell_type": "code",
   "execution_count": 34,
   "id": "473c95ec",
   "metadata": {},
   "outputs": [],
   "source": [
    "def smallest_missing_int(arr):\n",
    "    i = 0\n",
    "    n = len(arr)\n",
    "    results = []\n",
    "    while i < n:\n",
    "        j = arr[i]-1\n",
    "        if arr[i] > 0 and arr[i] < n and arr[i] != arr[j]:\n",
    "            arr[i], arr[j] = arr[j],arr[i]\n",
    "        else:\n",
    "            i+=1\n",
    "    print(arr)\n",
    "    for i in range(n):\n",
    "        if arr[i] != i+1:\n",
    "            return i+1"
   ]
  },
  {
   "cell_type": "code",
   "execution_count": 35,
   "id": "d4694fd6",
   "metadata": {},
   "outputs": [
    {
     "name": "stdout",
     "output_type": "stream",
     "text": [
      "[1, 2, 5, 4, -3]\n"
     ]
    },
    {
     "data": {
      "text/plain": [
       "3"
      ]
     },
     "execution_count": 35,
     "metadata": {},
     "output_type": "execute_result"
    }
   ],
   "source": [
    "smallest_missing_int([-3, 1, 5, 4, 2])"
   ]
  },
  {
   "cell_type": "markdown",
   "id": "09f259f5",
   "metadata": {},
   "source": [
    "### Find the First K Missing Positive Numbers\n",
    "* place the numbers on their correct indices and ignore all numbers that are out of the range of the array. \n",
    "* Once we are done with the cyclic sort we will iterate through the array to find indices that do not have the correct numbers.\n",
    "* If we are not able to find ‘k’ missing numbers from the array, we need to add additional numbers to the output array. \n",
    "* keep track of all numbers from those indices that have missing numbers so the missing numbers would be greater than n but not equal to these\n",
    "\n"
   ]
  },
  {
   "cell_type": "code",
   "execution_count": 51,
   "id": "b9e48036",
   "metadata": {},
   "outputs": [],
   "source": [
    "def smallest_k_missing_int(arr, k):\n",
    "    i = 0\n",
    "    n = len(arr)\n",
    "    results = []\n",
    "    add_nums = []\n",
    "    while i < n:\n",
    "        j = arr[i]-1\n",
    "        if arr[i] > 0 and arr[i] <= n and arr[i] != arr[j]: # include n cause k can be above n and we need all numbers to be sorted\n",
    "            arr[i], arr[j] = arr[j],arr[i]\n",
    "        else:\n",
    "            i+=1\n",
    "    print(arr)\n",
    "    for i in range(n):\n",
    "        if arr[i] != i+1:\n",
    "            results.append(i+1)\n",
    "            add_nums.append(arr[i])\n",
    "\n",
    "    i=1\n",
    "    while len(results) < k:\n",
    "        candidate = n+i\n",
    "        if candidate not in add_nums:\n",
    "            results.append(candidate)\n",
    "        i+=1\n",
    "\n",
    "    return results"
   ]
  },
  {
   "cell_type": "code",
   "execution_count": 50,
   "id": "59a5f376",
   "metadata": {},
   "outputs": [
    {
     "name": "stdout",
     "output_type": "stream",
     "text": [
      "[4, 2, 3]\n"
     ]
    },
    {
     "data": {
      "text/plain": [
       "[1, 5, 6]"
      ]
     },
     "execution_count": 50,
     "metadata": {},
     "output_type": "execute_result"
    }
   ],
   "source": [
    "smallest_k_missing_int([2, 3, 4], k=3)"
   ]
  },
  {
   "cell_type": "code",
   "execution_count": null,
   "id": "ae930c77",
   "metadata": {},
   "outputs": [],
   "source": []
  }
 ],
 "metadata": {
  "kernelspec": {
   "display_name": "Python 3 (ipykernel)",
   "language": "python",
   "name": "python3"
  },
  "language_info": {
   "codemirror_mode": {
    "name": "ipython",
    "version": 3
   },
   "file_extension": ".py",
   "mimetype": "text/x-python",
   "name": "python",
   "nbconvert_exporter": "python",
   "pygments_lexer": "ipython3",
   "version": "3.9.7"
  }
 },
 "nbformat": 4,
 "nbformat_minor": 5
}
