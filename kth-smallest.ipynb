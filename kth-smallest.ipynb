{
 "cells": [
  {
   "cell_type": "markdown",
   "id": "a342a237",
   "metadata": {},
   "source": [
    "### Given an unsorted array of numbers, find Kth smallest number in it.\n",
    "\n"
   ]
  },
  {
   "cell_type": "markdown",
   "id": "85e20198",
   "metadata": {},
   "source": [
    "1. Brute-Force O(N*k)"
   ]
  },
  {
   "cell_type": "code",
   "execution_count": 15,
   "id": "278fcb4d",
   "metadata": {},
   "outputs": [],
   "source": [
    "def find_kth(arr,k):\n",
    "    for i in range(k):\n",
    "        smallest, index = float('inf'),-1\n",
    "        for j in range(len(arr)):\n",
    "            if arr[j] < smallest:\n",
    "                smallest=arr[j]\n",
    "                index=j\n",
    "        arr.pop(index)\n",
    "    return smallest"
   ]
  },
  {
   "cell_type": "code",
   "execution_count": 16,
   "id": "70771057",
   "metadata": {},
   "outputs": [
    {
     "data": {
      "text/plain": [
       "2"
      ]
     },
     "execution_count": 16,
     "metadata": {},
     "output_type": "execute_result"
    }
   ],
   "source": [
    "arr= [1,6,8,2,4,0]\n",
    "find_kth(arr,3)"
   ]
  },
  {
   "cell_type": "markdown",
   "id": "1c6433fb",
   "metadata": {},
   "source": [
    "2. Using Sorting\n",
    "\n",
    "O(NlogN"
   ]
  },
  {
   "cell_type": "code",
   "execution_count": 19,
   "id": "b3001b6b",
   "metadata": {},
   "outputs": [],
   "source": [
    "def find_kth_by_sort(arr,k):\n",
    "    return sorted(arr)[k-1]"
   ]
  },
  {
   "cell_type": "code",
   "execution_count": 20,
   "id": "14b8be3e",
   "metadata": {},
   "outputs": [
    {
     "data": {
      "text/plain": [
       "2"
      ]
     },
     "execution_count": 20,
     "metadata": {},
     "output_type": "execute_result"
    }
   ],
   "source": [
    "arr= [1,6,8,2,4,0]\n",
    "find_kth_by_sort(arr,3)"
   ]
  },
  {
   "cell_type": "markdown",
   "id": "b98656a3",
   "metadata": {},
   "source": [
    "3. Using MinHeap\n",
    "\n",
    "Inserting all numbers in the heap will take O(N∗logN) and extracting ‘K’ numbers will take \n",
    "O(K∗logN). Overall, the time complexity of this algorithm will be \n",
    "O(N∗logN+K∗logN) and the space complexity will be O(N)."
   ]
  },
  {
   "cell_type": "code",
   "execution_count": 21,
   "id": "b243360d",
   "metadata": {},
   "outputs": [],
   "source": [
    "from heapq import *\n",
    "def kth_from_min_heap(arr, k):\n",
    "    min_heap = []\n",
    "    for i in arr:\n",
    "        heappush(min_heap,i)\n",
    "    for i in range(k):\n",
    "        ans=heappop(min_heap)\n",
    "    return ans"
   ]
  },
  {
   "cell_type": "code",
   "execution_count": 22,
   "id": "3c78d693",
   "metadata": {},
   "outputs": [
    {
     "data": {
      "text/plain": [
       "2"
      ]
     },
     "execution_count": 22,
     "metadata": {},
     "output_type": "execute_result"
    }
   ],
   "source": [
    "arr= [1,6,8,2,4,0]\n",
    "kth_from_min_heap(arr,3)"
   ]
  },
  {
   "cell_type": "markdown",
   "id": "f473b4d0",
   "metadata": {},
   "source": [
    "4. Using Partition of QuickSort\n",
    "\n",
    " known as QuickSelect and has a Worst case time complexity of O(N*2) The best and average case is O(N)"
   ]
  },
  {
   "cell_type": "code",
   "execution_count": 35,
   "id": "cb6e6068",
   "metadata": {},
   "outputs": [],
   "source": [
    "def quickselect(arr, k):\n",
    "    return quickselect_rec(arr,k,0,len(arr)-1)\n",
    "\n",
    "def quickselect_rec(arr,k,low,high):\n",
    "    pi = partition(arr,low,high)\n",
    "    if pi == k-1:\n",
    "        print(arr[pi])\n",
    "        return arr[pi]\n",
    "    elif pi < k-1:\n",
    "        quickselect_rec(arr,k,pi+1,high)\n",
    "    else:\n",
    "        quickselect_rec(arr,k,low,pi-1)\n",
    "\n",
    "def partition(arr, low, high):\n",
    "    \n",
    "    i = low-1\n",
    "    p = arr[high]\n",
    "    for j in range(low,high):\n",
    "        if arr[j] < p:\n",
    "            i+=1\n",
    "            arr[i], arr[j] = arr[j], arr[i]\n",
    "    arr[i+1], arr[high] = arr[high], arr[i+1]\n",
    "    return i+1\n",
    "        "
   ]
  },
  {
   "cell_type": "code",
   "execution_count": 36,
   "id": "fdc84993",
   "metadata": {},
   "outputs": [
    {
     "name": "stdout",
     "output_type": "stream",
     "text": [
      "2\n"
     ]
    }
   ],
   "source": [
    "arr= [1,6,8,2,4,0]\n",
    "quickselect(arr,3)"
   ]
  },
  {
   "cell_type": "markdown",
   "id": "32afce5a",
   "metadata": {},
   "source": [
    "5. Using Randomized Partitioning Scheme of Quicksort\n",
    "\n",
    "the worst case for Quicksort occurs when the partition procedure splits the N-length array into arrays of size ‘\n",
    "1\n",
    "1’ and ‘N−1’. To mitigate this, instead of always picking a fixed index for pivot  we can randomly select an element as pivot. \n",
    "O(N) in most cases but absolute worst case O(N*N) but lot faster in practice"
   ]
  },
  {
   "cell_type": "code",
   "execution_count": 37,
   "id": "ee665a3b",
   "metadata": {},
   "outputs": [],
   "source": [
    "import random\n",
    "def random_quickselect(arr, k):\n",
    "    return quickselect_rec(arr,k,0,len(arr)-1)\n",
    "\n",
    "def quickselect_rec(arr,k,low,high):\n",
    "    pi = partition(arr,low,high)\n",
    "    if pi == k-1:\n",
    "        print(arr[pi])\n",
    "        return arr[pi]\n",
    "    elif pi < k-1:\n",
    "        quickselect_rec(arr,k,pi+1,high)\n",
    "    else:\n",
    "        quickselect_rec(arr,k,low,pi-1)\n",
    "\n",
    "def partition(arr, low, high):\n",
    "    \n",
    "    i = low-1\n",
    "    pivot = random.randint(low,high)\n",
    "    arr[pivot], arr[high] = arr[high],arr[pivot]\n",
    "    p = arr[high]\n",
    "    for j in range(low,high):\n",
    "        if arr[j] < p:\n",
    "            i+=1\n",
    "            arr[i], arr[j] = arr[j], arr[i]\n",
    "    arr[i+1], arr[high] = arr[high], arr[i+1]\n",
    "    return i+1\n",
    "        "
   ]
  },
  {
   "cell_type": "code",
   "execution_count": 38,
   "id": "c1b88bd3",
   "metadata": {},
   "outputs": [
    {
     "name": "stdout",
     "output_type": "stream",
     "text": [
      "2\n"
     ]
    }
   ],
   "source": [
    "arr= [1,6,8,2,4,0]\n",
    "random_quickselect(arr,3)"
   ]
  },
  {
   "cell_type": "markdown",
   "id": "ec2f3f59",
   "metadata": {},
   "source": [
    "###  the Median of Medians algorithm \n",
    "To choose a good pivot for the partitioning algorithm of the Quicksort. This algorithm finds an approximate median of an array in linear time \n",
    "O(N). When this approximate median is used as the pivot, the worst-case complexity of the partitioning procedure reduces to linear \n",
    "O(N), which is also the asymptotically optimal worst-case complexity of any sorting/selection algorithm. \n",
    "\n",
    "\n",
    "1. If we have 5 or less than 5 elements in the input array, we simply take its first element as the pivot. If not then we divide the input array into subarrays of five elements (for simplicity we can ignore any subarray having less than five elements).\n",
    "2. Sort each subarray to determine its median. Sorting a small and fixed numbered array takes constant time. At the end of this step, we have an array containing medians of all the subarray.\n",
    "3.Recursively call the partitioning algorithm on the array containing medians until we get our pivot.\n",
    "Every time the partition procedure needs to find a pivot, it will follow the above three steps.\n",
    "\n",
    "In practice, similar speed to randomized quicksort"
   ]
  },
  {
   "cell_type": "code",
   "execution_count": null,
   "id": "a86234f3",
   "metadata": {},
   "outputs": [],
   "source": []
  }
 ],
 "metadata": {
  "kernelspec": {
   "display_name": "Python 3 (ipykernel)",
   "language": "python",
   "name": "python3"
  },
  "language_info": {
   "codemirror_mode": {
    "name": "ipython",
    "version": 3
   },
   "file_extension": ".py",
   "mimetype": "text/x-python",
   "name": "python",
   "nbconvert_exporter": "python",
   "pygments_lexer": "ipython3",
   "version": "3.9.7"
  }
 },
 "nbformat": 4,
 "nbformat_minor": 5
}
