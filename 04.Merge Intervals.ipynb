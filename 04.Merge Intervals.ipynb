{
 "cells": [
  {
   "cell_type": "code",
   "execution_count": 3,
   "id": "aef60c57",
   "metadata": {},
   "outputs": [],
   "source": [
    "class Interval:\n",
    "    def __init__(self,start,end):\n",
    "        self.start = start\n",
    "        self.end = end\n",
    "    def __repr__(self):\n",
    "        return f\"[{self.start},{self.end}]\""
   ]
  },
  {
   "cell_type": "markdown",
   "id": "f29246db",
   "metadata": {},
   "source": [
    "### Merge all the overlapping intervals to produce a list that has only mutually exclusive intervals.\n",
    "* Four possible cases : do not overlap, a completely overlaps b, same start time, diff ends, b starts after a starts and ends after a\n",
    "* ‘a’ overlaps ‘b’ means b.start <= a.end == > merge into c:\n",
    "    c.start = a.start\n",
    "    c.end = max(a.end, b.end)\n",
    "* O(NlogN) for sort + O(N) for iteration ~ O(NlogN)"
   ]
  },
  {
   "cell_type": "code",
   "execution_count": 6,
   "id": "0c963bb5",
   "metadata": {},
   "outputs": [],
   "source": [
    "def merge_intervals(intervals):\n",
    "    if len(intervals) < 2:\n",
    "        return intervals\n",
    "    \n",
    "    intervals.sort(key=lambda x:x.start) #sort by start time\n",
    "    \n",
    "    merged = []\n",
    "    start = intervals[0].start\n",
    "    end = intervals[0].end\n",
    "    \n",
    "    for i in range(1,len(intervals)):\n",
    "        print(intervals[i])\n",
    "        if intervals[i].start <= end: #if overlapping, continue iteration until end is found\n",
    "            end = max(end,intervals[i].end)\n",
    "        else:\n",
    "            start = intervals[i].start # not overlapping, append to result as is\n",
    "            end = intervals[i].end\n",
    "            merged.append(intervals[i])\n",
    "    merged.append(Interval(start, end))\n",
    "    return merged"
   ]
  },
  {
   "cell_type": "code",
   "execution_count": 7,
   "id": "6360ea88",
   "metadata": {},
   "outputs": [
    {
     "name": "stdout",
     "output_type": "stream",
     "text": [
      "[2,6]\n",
      "[3,5]\n"
     ]
    },
    {
     "data": {
      "text/plain": [
       "[[1,6]]"
      ]
     },
     "execution_count": 7,
     "metadata": {},
     "output_type": "execute_result"
    }
   ],
   "source": [
    "merge_intervals([Interval(1,4),Interval(2,6),Interval(3,5)])"
   ]
  },
  {
   "cell_type": "markdown",
   "id": "47d866b4",
   "metadata": {},
   "source": [
    "### Given a list of non-overlapping intervals sorted by their start time, insert a given interval at the correct position and merge all necessary intervals to produce a list that has only mutually exclusive intervals.\n",
    "* Find position to insert by iterating over intervals and skipping all where end < new.start\n",
    "* Find overlapping intervals with the new one, merge into exclusive interval\n",
    "* Insert remaining intervals\n",
    "* O(N)"
   ]
  },
  {
   "cell_type": "code",
   "execution_count": 41,
   "id": "24c210db",
   "metadata": {},
   "outputs": [],
   "source": [
    "def insert_and_merge_intervals(intervals, new):\n",
    "    merged = []\n",
    "    i, start, end = 0, 0, 1\n",
    "    while i < len(intervals) and intervals[i][end]<new[start]:\n",
    "        merged.append(intervals[i])\n",
    "        i+=1\n",
    "    while i < len(intervals) and intervals[i][start]<=new[end]:\n",
    "        new[start] = min(intervals[i][start], new[start])\n",
    "        new[end] = max(intervals[i][end], new[end])\n",
    "        i+=1\n",
    "\n",
    "    merged.append(new)\n",
    "    while i < len(intervals):\n",
    "        merged.append(intervals[i])\n",
    "        i+=1\n",
    "    return merged\n",
    "        \n",
    "        "
   ]
  },
  {
   "cell_type": "code",
   "execution_count": 42,
   "id": "df902102",
   "metadata": {},
   "outputs": [
    {
     "data": {
      "text/plain": [
       "[[1, 3], [4, 7], [8, 12]]"
      ]
     },
     "execution_count": 42,
     "metadata": {},
     "output_type": "execute_result"
    }
   ],
   "source": [
    "insert_and_merge_intervals([[1,3], [5,7], [8,12]], [4,6])"
   ]
  },
  {
   "cell_type": "markdown",
   "id": "6bb08d24",
   "metadata": {},
   "source": [
    "### Given two lists of intervals, find the intersection of these two lists. \n",
    "Each list consists of disjoint intervals sorted on their start time.\n",
    "\n",
    "1. a overlaps b if start of b lies between start and end of a.\n",
    "2. b overlaps a if b starts between interval a.\n",
    "3. Intersection is given by max(a.start, b.start) & min(a.end,b.end)\n",
    "* O(N+M)\n",
    "\n"
   ]
  },
  {
   "cell_type": "code",
   "execution_count": 43,
   "id": "495d606e",
   "metadata": {},
   "outputs": [],
   "source": [
    "def find_intersection(interval1, interval2):\n",
    "    results = []\n",
    "    i, j, start, end = 0, 0, 0, 1\n",
    "    while i < len(interval1) and j < len(interval2):\n",
    "        \n",
    "        a_overlaps_b = interval1[i][start] <= interval2[j][start] and interval1[i][start] >= interval2[j][end]\n",
    "        b_overlaps_a = interval1[i][start] >= interval2[j][start] and interval1[i][start] <= interval2[j][end]\n",
    "        \n",
    "        if a_overlaps_b or b_overlaps_a:\n",
    "            results.append(\n",
    "                [max(interval1[i][start],interval2[j][start]), min(interval1[i][end], interval2[j][end])])\n",
    "        if interval1[i][end] < interval2[j][end]:\n",
    "            i+=1\n",
    "        else:\n",
    "            j+=1\n",
    "    return results"
   ]
  },
  {
   "cell_type": "code",
   "execution_count": 45,
   "id": "b454414c",
   "metadata": {},
   "outputs": [
    {
     "data": {
      "text/plain": [
       "[[5, 6], [7, 7]]"
      ]
     },
     "execution_count": 45,
     "metadata": {},
     "output_type": "execute_result"
    }
   ],
   "source": [
    "find_intersection([[1, 3], [5, 6], [7, 9]], [[2, 3], [5, 7]])"
   ]
  },
  {
   "cell_type": "markdown",
   "id": "d7cf4f92",
   "metadata": {},
   "source": [
    "### Given an array of intervals representing ‘N’ appointments, find out if a person can attend all the appointments.\n",
    "1. Sort by start time\n",
    "2. Appointments will conflict if one begins before the previous one starts\n",
    "* O(NlogN)"
   ]
  },
  {
   "cell_type": "code",
   "execution_count": 49,
   "id": "aee33ca0",
   "metadata": {},
   "outputs": [],
   "source": [
    "def find_conflicts(intervals):\n",
    "    i, start, end = 1,0,1\n",
    "    intervals.sort(key=lambda x:x[0])\n",
    "    while i < len(intervals):\n",
    "        if intervals[i][start] < intervals[i-1][end]:\n",
    "            return False\n",
    "        i+=1\n",
    "    return True\n",
    "        "
   ]
  },
  {
   "cell_type": "code",
   "execution_count": 51,
   "id": "169d1e2a",
   "metadata": {},
   "outputs": [
    {
     "name": "stdout",
     "output_type": "stream",
     "text": [
      "False\n",
      "True\n",
      "False\n"
     ]
    }
   ],
   "source": [
    "print(find_conflicts([[1,4], [2,5], [7,9]]))\n",
    "print(find_conflicts([[6,7], [2,4], [8,12]]))\n",
    "print(find_conflicts([[4,5], [2,3], [3,6]]))"
   ]
  },
  {
   "cell_type": "markdown",
   "id": "f09dc041",
   "metadata": {},
   "source": [
    "### Given a list of intervals representing the start and end time of ‘N’ meetings, find the minimum number of rooms required to hold all the meetings.\n",
    "-- Or time of trains and required platforms\n",
    "1. Use a minheap to keep track of ongoing meetings\n",
    "2. Will need as many rooms as the max length of minheap at any point\n",
    "3. Pop meetings if end time <= start of current meeting\n",
    "* O(NlogN)"
   ]
  },
  {
   "cell_type": "code",
   "execution_count": 61,
   "id": "7fe666e3",
   "metadata": {},
   "outputs": [],
   "source": [
    "from heapq import *\n",
    "class Meeting:\n",
    "    def __init__(self, start, end):\n",
    "        self.start = start\n",
    "        self.end = end\n",
    "    def __lt__(self, other):\n",
    "        return self.end < other.end\n",
    "\n",
    "def find_rooms(meetings):\n",
    "    meetings.sort(key=lambda x:x.start)\n",
    "    min_rooms = 0\n",
    "    minheap = []\n",
    "    heapify(minheap)\n",
    "    for meeting in meetings:\n",
    "        while len(minheap) > 0 and meeting.start >= minheap[0].end:\n",
    "            heappop(minheap)\n",
    "        heappush(minheap, meeting)\n",
    "        minrooms = max(min_rooms, len(minheap))\n",
    "    return minrooms        "
   ]
  },
  {
   "cell_type": "code",
   "execution_count": 62,
   "id": "2c936f7f",
   "metadata": {},
   "outputs": [
    {
     "data": {
      "text/plain": [
       "2"
      ]
     },
     "execution_count": 62,
     "metadata": {},
     "output_type": "execute_result"
    }
   ],
   "source": [
    "find_rooms([Meeting(2,3), Meeting(4,5), Meeting(2,4), Meeting(3,5)])"
   ]
  },
  {
   "cell_type": "markdown",
   "id": "8c4bf840",
   "metadata": {},
   "source": [
    "### Given a list of Jobs with Start time, an End time, and a CPU load, find the maximum CPU load at any time if all the jobs are running on the same machine.\n",
    "- Sort by start time\n",
    "- Use a min heap to keep track of all current jobs\n",
    "- Pop if jobs have ended\n",
    "- Push current job\n",
    "- Add current load to those in min heap at each step\n",
    "- Keep track of max at each step\n",
    "* O(NLogN)"
   ]
  },
  {
   "cell_type": "code",
   "execution_count": 65,
   "id": "f6f107dc",
   "metadata": {},
   "outputs": [],
   "source": [
    "from heapq import *\n",
    "class Job:\n",
    "    def __init__(self, start, end, load):\n",
    "        self.start = start\n",
    "        self.end = end\n",
    "        self.load = load\n",
    "    def __lt__(self, other):\n",
    "        return self.end < other.end\n",
    "\n",
    "def max_job_load(jobs):\n",
    "    jobs.sort(key=lambda x:x.start)\n",
    "    minheap = []\n",
    "    heapify(minheap)\n",
    "    curr_load, max_load = 0, 0\n",
    "    for job in jobs:\n",
    "        while len(minheap) > 0 and job.start >= minheap[0].end:\n",
    "            curr_load-= minheap[0].load\n",
    "            heappop(minheap)\n",
    "        heappush(minheap, job)\n",
    "        curr_load+=job.load\n",
    "        max_load = max(curr_load, max_load)\n",
    "    return max_load        "
   ]
  },
  {
   "cell_type": "code",
   "execution_count": 66,
   "id": "a26c3b70",
   "metadata": {},
   "outputs": [
    {
     "data": {
      "text/plain": [
       "7"
      ]
     },
     "execution_count": 66,
     "metadata": {},
     "output_type": "execute_result"
    }
   ],
   "source": [
    "max_job_load([Job(1,4,3), Job(2,5,4), Job(7,9,6)])"
   ]
  },
  {
   "cell_type": "markdown",
   "id": "5e2373de",
   "metadata": {},
   "source": [
    "#### For ‘K’ employees, we are given a list of intervals representing the working hours of each employee. Find out if there is a free interval that is common to all employees. \n",
    "- You can assume that each list of employee working hours is sorted on the start time.\n",
    "- Combine into one list and sort by start time\n",
    "- If not overlapping i.e start of b > end of a, add interval(a.end, b.start) as free to the results\n",
    "* O(NlogN) + O(N*N) + O(N) = O(N*N)\n",
    "- Better approach would be to use minheap and utilize the sorted sublist of intervals."
   ]
  },
  {
   "cell_type": "code",
   "execution_count": 77,
   "id": "24b9fafd",
   "metadata": {},
   "outputs": [],
   "source": [
    "def find_free_intervals(intervals):\n",
    "    intervals = [i for emp in intervals for i in emp]\n",
    "    \n",
    "    intervals.sort(key=lambda x:x.start) #sort by start time\n",
    "    \n",
    "    results = []\n",
    "    start = intervals[0].start\n",
    "    end = intervals[0].end\n",
    "    \n",
    "    for i in range(1,len(intervals)):\n",
    "        if intervals[i].start <= end: #if overlapping, continue iteration until end is found\n",
    "            end = max(end,intervals[i].end)\n",
    "        else:\n",
    "            results.append(Interval(end,intervals[i].start))\n",
    "\n",
    "    return results"
   ]
  },
  {
   "cell_type": "code",
   "execution_count": 78,
   "id": "17f55f19",
   "metadata": {},
   "outputs": [
    {
     "data": {
      "text/plain": [
       "[[5,7]]"
      ]
     },
     "execution_count": 78,
     "metadata": {},
     "output_type": "execute_result"
    }
   ],
   "source": [
    "find_free_intervals([[Interval(1,3), Interval(2,4)], [Interval(3,5), Interval(7,9)]])"
   ]
  },
  {
   "cell_type": "code",
   "execution_count": null,
   "id": "e79e8294",
   "metadata": {},
   "outputs": [],
   "source": []
  }
 ],
 "metadata": {
  "kernelspec": {
   "display_name": "Python 3 (ipykernel)",
   "language": "python",
   "name": "python3"
  },
  "language_info": {
   "codemirror_mode": {
    "name": "ipython",
    "version": 3
   },
   "file_extension": ".py",
   "mimetype": "text/x-python",
   "name": "python",
   "nbconvert_exporter": "python",
   "pygments_lexer": "ipython3",
   "version": "3.9.7"
  }
 },
 "nbformat": 4,
 "nbformat_minor": 5
}
