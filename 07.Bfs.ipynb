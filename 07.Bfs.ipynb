{
 "cells": [
  {
   "cell_type": "code",
   "execution_count": 67,
   "id": "3ddf5f0f",
   "metadata": {},
   "outputs": [],
   "source": [
    "class TreeNode:\n",
    "    def __init__(self,val):\n",
    "        self.val = val\n",
    "        self.left, self.right = None, None\n",
    "        \n",
    "root = TreeNode(1)\n",
    "root.left = TreeNode(2)\n",
    "root.right = TreeNode(3)\n",
    "root.left.left = TreeNode(4)\n",
    "root.left.right = TreeNode(5)\n",
    "root.right.left = TreeNode(6)\n",
    "root.right.right = TreeNode(7)\n",
    "root.right.right.right = TreeNode(9)\n"
   ]
  },
  {
   "cell_type": "code",
   "execution_count": 64,
   "id": "1e2cad1b",
   "metadata": {},
   "outputs": [],
   "source": [
    "from collections import deque"
   ]
  },
  {
   "cell_type": "markdown",
   "id": "82cc638a",
   "metadata": {},
   "source": [
    "### BFS\n",
    "Push root to a queue\n",
    "Iterate until queue is empty:\n",
    " - Current length of queue is number of nodes at current level. Pop all elements in queue and add to result. \n",
    " - Push child nodes of all elements to queue.\n",
    " \n",
    "* O(N) space and time"
   ]
  },
  {
   "cell_type": "code",
   "execution_count": 3,
   "id": "93e97076",
   "metadata": {},
   "outputs": [],
   "source": [
    "def bfs(root):\n",
    "    result = []\n",
    "    if not root:\n",
    "        return result\n",
    "    \n",
    "    q = deque()\n",
    "    q.append(root)\n",
    "    while q:\n",
    "        level_len = len(q)\n",
    "        curr_lvl = []\n",
    "        for i in range(level_len):\n",
    "            curr_node = q.popleft()\n",
    "            curr_lvl.append(curr_node.val)\n",
    "            \n",
    "            if curr_node.left:\n",
    "                q.append(curr_node.left)\n",
    "            if curr_node.right:\n",
    "                q.append(curr_node.right)\n",
    "        result.append(curr_lvl)\n",
    "        \n",
    "    return result"
   ]
  },
  {
   "cell_type": "code",
   "execution_count": 4,
   "id": "875bdc10",
   "metadata": {},
   "outputs": [
    {
     "data": {
      "text/plain": [
       "[[12], [7, 1], [9, 10, 5]]"
      ]
     },
     "execution_count": 4,
     "metadata": {},
     "output_type": "execute_result"
    }
   ],
   "source": [
    "bfs(root)"
   ]
  },
  {
   "cell_type": "markdown",
   "id": "d370849e",
   "metadata": {},
   "source": [
    "### Given a binary tree, populate an array to represent its level-by-level traversal in reverse order\n",
    "- Append to the front\n",
    "- O(N)"
   ]
  },
  {
   "cell_type": "code",
   "execution_count": 7,
   "id": "c9916dfa",
   "metadata": {},
   "outputs": [],
   "source": [
    "def reverse_bfs(root):\n",
    "    result = []\n",
    "    if not root:\n",
    "        return result\n",
    "    \n",
    "    q = deque()\n",
    "    q.append(root)\n",
    "    while q:\n",
    "        level_len = len(q)\n",
    "        curr_lvl = []\n",
    "        for i in range(level_len):\n",
    "            curr_node = q.popleft()\n",
    "            curr_lvl.append(curr_node.val)\n",
    "            \n",
    "            if curr_node.left:\n",
    "                q.append(curr_node.left)\n",
    "            if curr_node.right:\n",
    "                q.append(curr_node.right)\n",
    "        result.insert(0, curr_lvl)\n",
    "        \n",
    "    return result"
   ]
  },
  {
   "cell_type": "code",
   "execution_count": 8,
   "id": "c7d7e66f",
   "metadata": {},
   "outputs": [
    {
     "data": {
      "text/plain": [
       "[[9, 10, 5], [7, 1], [12]]"
      ]
     },
     "execution_count": 8,
     "metadata": {},
     "output_type": "execute_result"
    }
   ],
   "source": [
    "reverse_bfs(root)"
   ]
  },
  {
   "cell_type": "markdown",
   "id": "8de91021",
   "metadata": {},
   "source": [
    "### Given a binary tree, populate an array to represent its zigzag level order traversal\n",
    "- populate the values of all nodes of the first level from left to right, then right to left for the next level and keep alternating in the same manner for the following levels\n",
    "\n",
    "* for every other level, we will traverse similar to Reverse Level Order Traversal"
   ]
  },
  {
   "cell_type": "code",
   "execution_count": 9,
   "id": "ebc68cf7",
   "metadata": {},
   "outputs": [],
   "source": [
    "def zigzag_lvl_bfs(root):\n",
    "    result = []\n",
    "    if not root:\n",
    "        return result\n",
    "    \n",
    "    q = deque()\n",
    "    q.append(root)\n",
    "    reverse = True\n",
    "    while q:\n",
    "        level_len = len(q)\n",
    "        curr_lvl = []\n",
    "        for i in range(level_len):\n",
    "            curr_node = q.popleft()\n",
    "            if reverse:\n",
    "                curr_lvl.insert(0, curr_node.val)\n",
    "            else:\n",
    "                curr_lvl.append(curr_node.val)\n",
    "            \n",
    "            if curr_node.left:\n",
    "                q.append(curr_node.left)\n",
    "            if curr_node.right:\n",
    "                q.append(curr_node.right)\n",
    "        \n",
    "        result.append(curr_lvl)    \n",
    "        reverse = not reverse\n",
    "        \n",
    "    return result"
   ]
  },
  {
   "cell_type": "code",
   "execution_count": 10,
   "id": "daee431d",
   "metadata": {},
   "outputs": [
    {
     "data": {
      "text/plain": [
       "[[12], [7, 1], [5, 10, 9]]"
      ]
     },
     "execution_count": 10,
     "metadata": {},
     "output_type": "execute_result"
    }
   ],
   "source": [
    "zigzag_lvl_bfs(root)"
   ]
  },
  {
   "cell_type": "markdown",
   "id": "5b0f9997",
   "metadata": {},
   "source": [
    "### Given a binary tree, populate an array to represent the averages of all of its levels.\n",
    "\n"
   ]
  },
  {
   "cell_type": "code",
   "execution_count": 15,
   "id": "dc6570b3",
   "metadata": {},
   "outputs": [],
   "source": [
    "def lvl_avg_bfs(root):\n",
    "    result = []\n",
    "    if not root:\n",
    "        return result\n",
    "    \n",
    "    q = deque()\n",
    "    q.append(root)\n",
    "    while q:\n",
    "        level_len = len(q)\n",
    "        sum_ = 0\n",
    "        for i in range(level_len):\n",
    "            curr_node = q.popleft()\n",
    "            sum_+= curr_node.val\n",
    "            \n",
    "            if curr_node.left:\n",
    "                q.append(curr_node.left)\n",
    "            if curr_node.right:\n",
    "                q.append(curr_node.right)\n",
    "        \n",
    "        result.append(sum_/level_len)            \n",
    "    return result"
   ]
  },
  {
   "cell_type": "code",
   "execution_count": 16,
   "id": "0936d2bf",
   "metadata": {},
   "outputs": [
    {
     "data": {
      "text/plain": [
       "[1.0, 2.5, 5.0]"
      ]
     },
     "execution_count": 16,
     "metadata": {},
     "output_type": "execute_result"
    }
   ],
   "source": [
    "lvl_avg_bfs(root)"
   ]
  },
  {
   "cell_type": "markdown",
   "id": "9a4426fd",
   "metadata": {},
   "source": [
    "### Find the minimum depth of a binary tree\n",
    "* Go breadth first. If at any level there's a leaf node, that's the minimum depth. No need to go to next level."
   ]
  },
  {
   "cell_type": "code",
   "execution_count": 17,
   "id": "70de81c3",
   "metadata": {},
   "outputs": [],
   "source": [
    "def min_depth_bfs(root):    \n",
    "    q = deque()\n",
    "    q.append(root)\n",
    "    min_depth = 0\n",
    "    while q:\n",
    "        level_len = len(q)\n",
    "        min_depth+=1\n",
    "        for i in range(level_len):\n",
    "            curr_node = q.popleft()\n",
    "            \n",
    "            if not curr_node.left and not curr_node.right:\n",
    "                return min_depth\n",
    "            \n",
    "            if curr_node.left:\n",
    "                q.append(curr_node.left)\n",
    "            if curr_node.right:\n",
    "                q.append(curr_node.right)"
   ]
  },
  {
   "cell_type": "code",
   "execution_count": 18,
   "id": "2af54d60",
   "metadata": {},
   "outputs": [
    {
     "data": {
      "text/plain": [
       "3"
      ]
     },
     "execution_count": 18,
     "metadata": {},
     "output_type": "execute_result"
    }
   ],
   "source": [
    "min_depth_bfs(root)"
   ]
  },
  {
   "cell_type": "markdown",
   "id": "2d086cb0",
   "metadata": {},
   "source": [
    "### Given a binary tree and a node, find the level order successor of the given node in the tree. The level order successor is the node that appears right after the given node in the level order traversal.\n",
    "* Traverse using bfs across levels\n",
    "* only difference is we will not keep track of all the levels.  keep inserting child nodes to the queue. As soon as we find the given node, we will return the next node from the queue as the level order successor.\n",
    "* If current node matches value, the level order successor will be at the front of queue"
   ]
  },
  {
   "cell_type": "code",
   "execution_count": 31,
   "id": "54b53f20",
   "metadata": {},
   "outputs": [],
   "source": [
    "def lvl_successor_bfs(root, key):    \n",
    "    q = deque()\n",
    "    q.append(root)\n",
    "\n",
    "    while q:\n",
    "        curr_node = q.popleft()\n",
    "\n",
    "        if curr_node.left:\n",
    "            q.append(curr_node.left)\n",
    "        if curr_node.right:\n",
    "            q.append(curr_node.right)\n",
    "        if curr_node.val == key:\n",
    "            break;\n",
    "    return q[0].val if q else None"
   ]
  },
  {
   "cell_type": "code",
   "execution_count": 32,
   "id": "a61f0c72",
   "metadata": {},
   "outputs": [
    {
     "data": {
      "text/plain": [
       "4"
      ]
     },
     "execution_count": 32,
     "metadata": {},
     "output_type": "execute_result"
    }
   ],
   "source": [
    "lvl_successor_bfs(root, 3)"
   ]
  },
  {
   "cell_type": "markdown",
   "id": "4b121481",
   "metadata": {},
   "source": [
    "### Given a binary tree, connect each node with its level order successor. \n",
    "- The last node of each level should point to a null node.\n",
    "* follow the same BFS approach. while traversing a level, remember the previous node to connect it with the current node."
   ]
  },
  {
   "cell_type": "code",
   "execution_count": 51,
   "id": "87c75713",
   "metadata": {},
   "outputs": [],
   "source": [
    "class TreeNode:\n",
    "    def __init__(self,val):\n",
    "        self.val = val\n",
    "        self.left, self.right, self.next = None, None, None    \n",
    "        \n",
    "    def __str__(self):\n",
    "        return str(self.val)\n",
    "        \n",
    "root = TreeNode(1)\n",
    "root.left = TreeNode(2)\n",
    "root.right = TreeNode(3)\n",
    "root.left.left = TreeNode(4)\n",
    "root.left.right = TreeNode(5)\n",
    "root.right.left = TreeNode(6)\n",
    "root.right.right = TreeNode(7)\n",
    "\n",
    "def print_lvls(root):\n",
    "    curr_node = root\n",
    "    next_lvl_node = root\n",
    "    while(next_lvl_node):\n",
    "        curr_node = next_lvl_node\n",
    "        next_lvl_node = curr_node.left\n",
    "        while curr_node:\n",
    "            print(curr_node)\n",
    "            curr_node = curr_node.next\n",
    "\n",
    "    \n",
    "def traverse_lvls(root):\n",
    "    q = deque()\n",
    "    q.append(root)\n",
    "\n",
    "    while q:\n",
    "        level_len = len(q)\n",
    "        prev_node = None\n",
    "        for i in range(level_len):\n",
    "            curr_node = q.popleft()\n",
    "            \n",
    "            if prev_node:\n",
    "                prev_node.next = curr_node\n",
    "            prev_node = curr_node\n",
    "            \n",
    "            if curr_node.left:\n",
    "                q.append(curr_node.left)\n",
    "            if curr_node.right:\n",
    "                q.append(curr_node.right)\n",
    "    "
   ]
  },
  {
   "cell_type": "code",
   "execution_count": 52,
   "id": "6ad1c311",
   "metadata": {},
   "outputs": [],
   "source": [
    "traverse_lvls(root)"
   ]
  },
  {
   "cell_type": "code",
   "execution_count": 53,
   "id": "1472bb35",
   "metadata": {},
   "outputs": [
    {
     "name": "stdout",
     "output_type": "stream",
     "text": [
      "1\n",
      "2\n",
      "3\n",
      "4\n",
      "5\n",
      "6\n",
      "7\n"
     ]
    }
   ],
   "source": [
    "print_lvls(root)"
   ]
  },
  {
   "cell_type": "markdown",
   "id": "7ecefa1b",
   "metadata": {},
   "source": [
    "### The last node of each level should point to the first node of the next level.\n",
    "*  while traversing remember (irrespective of the level) the previous node to connect it with the current node."
   ]
  },
  {
   "cell_type": "code",
   "execution_count": 55,
   "id": "048a5f97",
   "metadata": {},
   "outputs": [],
   "source": [
    "class TreeNode:\n",
    "    def __init__(self,val):\n",
    "        self.val = val\n",
    "        self.left, self.right, self.next = None, None, None    \n",
    "        \n",
    "    def __str__(self):\n",
    "        return str(self.val)\n",
    "        \n",
    "root = TreeNode(1)\n",
    "root.left = TreeNode(2)\n",
    "root.right = TreeNode(3)\n",
    "root.left.left = TreeNode(4)\n",
    "root.left.right = TreeNode(5)\n",
    "root.right.left = TreeNode(6)\n",
    "root.right.right = TreeNode(7)\n",
    "\n",
    "def print_lvls(root):\n",
    "    while(root):\n",
    "        print(root)\n",
    "        root = root.next\n",
    "\n",
    "    \n",
    "def connect_lvls(root):\n",
    "    q = deque()\n",
    "    q.append(root)\n",
    "\n",
    "    prev_node = None\n",
    "    while q:        \n",
    "        curr_node = q.popleft()\n",
    "\n",
    "        if prev_node:\n",
    "            prev_node.next = curr_node\n",
    "        prev_node = curr_node\n",
    "\n",
    "        if curr_node.left:\n",
    "            q.append(curr_node.left)\n",
    "        if curr_node.right:\n",
    "            q.append(curr_node.right)\n",
    "    "
   ]
  },
  {
   "cell_type": "code",
   "execution_count": 56,
   "id": "a8e39167",
   "metadata": {},
   "outputs": [],
   "source": [
    "connect_lvls(root)"
   ]
  },
  {
   "cell_type": "code",
   "execution_count": 57,
   "id": "a79c4b1e",
   "metadata": {},
   "outputs": [
    {
     "name": "stdout",
     "output_type": "stream",
     "text": [
      "1\n",
      "2\n",
      "3\n",
      "4\n",
      "5\n",
      "6\n",
      "7\n"
     ]
    }
   ],
   "source": [
    "print_lvls(root)"
   ]
  },
  {
   "cell_type": "markdown",
   "id": "9d8486d4",
   "metadata": {},
   "source": [
    "### Right View of a Binary Tree \n",
    "Given a binary tree, return an array containing nodes in its right view i.e. the set of nodes visible when the tree is seen from the right side.\n",
    "- Traverse bfs. Append last node in level to a result list\n",
    "- For left view, append first node in level to result"
   ]
  },
  {
   "cell_type": "code",
   "execution_count": 65,
   "id": "8b32bea5",
   "metadata": {},
   "outputs": [],
   "source": [
    "def right_view_bfs(root): \n",
    "    result = []\n",
    "    q = deque()\n",
    "    q.append(root)\n",
    "    while q:\n",
    "        level_len = len(q)\n",
    "        for i in range(level_len):\n",
    "            curr_node = q.popleft()\n",
    "            \n",
    "            if i == level_len-1:\n",
    "                result.append(curr_node.val)\n",
    "            \n",
    "            if curr_node.left:\n",
    "                q.append(curr_node.left)\n",
    "            if curr_node.right:\n",
    "                q.append(curr_node.right)\n",
    "    return result"
   ]
  },
  {
   "cell_type": "code",
   "execution_count": 68,
   "id": "c0816b9e",
   "metadata": {},
   "outputs": [
    {
     "data": {
      "text/plain": [
       "[1, 3, 7, 9]"
      ]
     },
     "execution_count": 68,
     "metadata": {},
     "output_type": "execute_result"
    }
   ],
   "source": [
    "right_view_bfs(root)"
   ]
  },
  {
   "cell_type": "code",
   "execution_count": null,
   "id": "fec0a151",
   "metadata": {},
   "outputs": [],
   "source": []
  }
 ],
 "metadata": {
  "kernelspec": {
   "display_name": "Python 3 (ipykernel)",
   "language": "python",
   "name": "python3"
  },
  "language_info": {
   "codemirror_mode": {
    "name": "ipython",
    "version": 3
   },
   "file_extension": ".py",
   "mimetype": "text/x-python",
   "name": "python",
   "nbconvert_exporter": "python",
   "pygments_lexer": "ipython3",
   "version": "3.9.7"
  }
 },
 "nbformat": 4,
 "nbformat_minor": 5
}
