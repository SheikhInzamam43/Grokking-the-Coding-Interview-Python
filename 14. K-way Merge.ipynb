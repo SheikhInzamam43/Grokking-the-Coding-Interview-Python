{
 "cells": [
  {
   "cell_type": "markdown",
   "id": "f3df4bd4",
   "metadata": {},
   "source": [
    "### Given an array of ‘K’ sorted LinkedLists, merge them into one sorted list.\n",
    " - Brute force: add all elements of the given ‘K’ lists to one list and sort it. time complexity - O(N∗logN)\n",
    " - Use heap. Insert the first value from all the lists. Pop the min, that'll be the first. Insert its next and so on.\n",
    " - O(N∗logK), where ‘N’ is the total number of elements in all the ‘K’ input arrays.\n",
    "\n",
    "Space complexity- O(K) because, at any time, our min-heap will be storing one number from all the ‘K’ input arrays."
   ]
  },
  {
   "cell_type": "code",
   "execution_count": 54,
   "id": "2aba32cb",
   "metadata": {},
   "outputs": [],
   "source": [
    "class ListNode(object):\n",
    "    def __init__(self, val=0, next=None):\n",
    "        self.val = val\n",
    "        self.next = None\n",
    "        \n",
    "    def __lt__(self, other):\n",
    "        return self.val <= other.val\n",
    "    \n",
    "    def __repr__(self):\n",
    "        return str(self.val)\n",
    "        "
   ]
  },
  {
   "cell_type": "code",
   "execution_count": 71,
   "id": "ab6ed3d7",
   "metadata": {},
   "outputs": [],
   "source": [
    "from heapq import heappush, heappop\n",
    "def merge_lists(lists):\n",
    "    heap = []\n",
    "    for i in lists:\n",
    "        heappush(heap, i)\n",
    "        \n",
    "    result_head = node = heappop(heap)\n",
    "    result = result_head\n",
    "    while heap:\n",
    "        node = node.next\n",
    "        if node is not None:\n",
    "            heappush(heap, node)\n",
    "        node = heappop(heap)\n",
    "        result_head.next = node\n",
    "        result_head = result_head.next\n",
    "        \n",
    "        \n",
    "    \n",
    "    return result\n",
    "    "
   ]
  },
  {
   "cell_type": "code",
   "execution_count": 72,
   "id": "6c655c87",
   "metadata": {},
   "outputs": [],
   "source": [
    "l1 = ListNode(1)\n",
    "l1.next = ListNode(2)\n",
    "l1.next.next = ListNode(6)\n",
    "\n",
    "l2 = ListNode(3)\n",
    "l2.next = ListNode(7)\n",
    "l2.next.next = ListNode(8)\n",
    "\n",
    "l3 = ListNode(4)\n",
    "l3.next = ListNode(5)\n",
    "l3.next.next = ListNode(9)"
   ]
  },
  {
   "cell_type": "code",
   "execution_count": 73,
   "id": "dffce87b",
   "metadata": {},
   "outputs": [],
   "source": [
    "res = merge_lists([l1,l2,l3])"
   ]
  },
  {
   "cell_type": "code",
   "execution_count": 74,
   "id": "a38b709f",
   "metadata": {},
   "outputs": [
    {
     "name": "stdout",
     "output_type": "stream",
     "text": [
      "1\n",
      "2\n",
      "3\n",
      "4\n",
      "5\n",
      "6\n",
      "7\n",
      "8\n",
      "9\n"
     ]
    }
   ],
   "source": [
    "while res:\n",
    "    print(res.val)\n",
    "    res = res.next"
   ]
  },
  {
   "cell_type": "markdown",
   "id": "9c3d6b03",
   "metadata": {},
   "source": [
    "### Given ‘M’ sorted arrays, find the K’th smallest number among all the arrays. (or a n x n matrix)\n",
    "Time = O(K∗logM) where ‘M’ is the total number of input arrays.\n",
    "\n",
    "Space complexity =O (M) because, at any time, our min-heap will be storing one number from all the ‘M’ input arrays.\n"
   ]
  },
  {
   "cell_type": "code",
   "execution_count": 86,
   "id": "56d4e4d5",
   "metadata": {},
   "outputs": [],
   "source": [
    "from heapq import heappush, heappop\n",
    "def merge_lists(lists, k):\n",
    "    heap = []\n",
    "    for i in range(0, min(k,len(lists))): # only need to insert k \n",
    "        heappush(heap, (lists[i][0], 0, i)) # track value, index of list, and index of value so next can be found\n",
    "        \n",
    "    count = 0\n",
    "    while heap:\n",
    "        num, i, list_index = heappop(heap)\n",
    "        count+=1\n",
    "        if count == k:\n",
    "            return num\n",
    "\n",
    "        if len(lists[list_index]) > i+1:\n",
    "            heappush(heap, (lists[list_index][i+1], i+1, list_index))\n",
    "    "
   ]
  },
  {
   "cell_type": "code",
   "execution_count": 88,
   "id": "00a2a1e0",
   "metadata": {},
   "outputs": [
    {
     "data": {
      "text/plain": [
       "3"
      ]
     },
     "execution_count": 88,
     "metadata": {},
     "output_type": "execute_result"
    }
   ],
   "source": [
    "merge_lists([\n",
    "    [2, 6, 8], \n",
    "    [3, 7, 10],\n",
    "    [5, 8, 11]\n",
    "  ], 2)"
   ]
  },
  {
   "cell_type": "markdown",
   "id": "01e499cd",
   "metadata": {},
   "source": [
    "### Given ‘M’ sorted arrays, find the smallest range that includes at least one number from each of the ‘M’ lists.\n",
    "\n",
    "- start by inserting the first number from all the arrays in a min-heap.  track of the largest number that we have inserted in the heap \n",
    "- pop the smallest (top) element from the min-heap. If currentMaxNumber and the smallest give us a smaller range, we’ll update our range. If the array of the top element has more elements, we’ll insert the next element to the heap.\n",
    "\n",
    "- Finish searching the minimum range as soon as an array is completed or, in other terms, the heap has less than ‘M’ elements.\n",
    "\n",
    "- the time complexity O(N∗logM) where ‘N’ is the total number of elements in all the ‘M’ input arrays.\n",
    "\n",
    "Space complexity O(M) because, at any time, our min-heap will be store one number from all the ‘M’ input arrays."
   ]
  },
  {
   "cell_type": "code",
   "execution_count": 91,
   "id": "98df87fb",
   "metadata": {},
   "outputs": [],
   "source": [
    "import math\n",
    "from heapq import heappush, heappop\n",
    "def smallest_range(lists):\n",
    "    heap = []\n",
    "    max_num = -math.inf\n",
    "    for i in range(0, len(lists)): \n",
    "        max_num = max(max_num, lists[i][0])\n",
    "        heappush(heap, (lists[i][0], 0, i)) # track value, index of list, and index of value so next can be found\n",
    "        \n",
    "    range_start, range_end = 0, math.inf\n",
    "    while len(heap) == len(lists):\n",
    "        num, i, list_index = heappop(heap)\n",
    "        if range_end - range_start > max_num - num:\n",
    "            range_start = num\n",
    "            range_end = max_num\n",
    "\n",
    "        if len(lists[list_index]) > i+1:\n",
    "            heappush(heap, (lists[list_index][i+1], i+1, list_index))\n",
    "            max_num = max(max_num, lists[list_index][i+1])\n",
    "            \n",
    "    return [range_start, range_end]\n",
    "    "
   ]
  },
  {
   "cell_type": "code",
   "execution_count": 92,
   "id": "7b837ad8",
   "metadata": {},
   "outputs": [
    {
     "data": {
      "text/plain": [
       "[4, 7]"
      ]
     },
     "execution_count": 92,
     "metadata": {},
     "output_type": "execute_result"
    }
   ],
   "source": [
    "smallest_range([[1, 5, 8],[4, 12],[7, 8, 10]])"
   ]
  },
  {
   "cell_type": "markdown",
   "id": "5823d32c",
   "metadata": {},
   "source": [
    "### Given two sorted arrays in descending order, find ‘K’ pairs with the largest sum where each pair consists of numbers from both the arrays.\n",
    " -Go through all the numbers of the two input arrays to create pairs and initially insert them all in the heap until we have ‘K’ pairs in Min Heap. \n",
    " - If a pair is bigger than the top (smallest) pair in the heap, we can remove the smallest pair and insert this pair instead.\n",
    "\n",
    "- Iterate only the first ‘K’ numbers from both arrays. Since the arrays are sorted in descending order, the pairs with the maximum sum will be constituted by the first ‘K’ numbers from both the arrays.\n",
    " - As soon as we encounter a pair with a sum that is smaller than the smallest (top) element of the heap, end the  process. Since the arrays are sorted in descending order, we won’t be able to find a pair with a higher sum moving forward.\n",
    " \n",
    " the time complexity can be simplified to \n",
    "O(K^2 * logK), because we are not iterating more than ‘K’ elements in both arrays.\n",
    "\n",
    "Space complexity-O(K) because, at any time, our Min Heap will be storing ‘K’ largest pairs"
   ]
  },
  {
   "cell_type": "code",
   "execution_count": 98,
   "id": "10f517b7",
   "metadata": {},
   "outputs": [],
   "source": [
    "def find_k_largest_pairs(l1, l2, k):\n",
    "    heap = []\n",
    "    for i in range(0, min(k,len(l1))):\n",
    "        for j in range(0, min(k, len(l2))):\n",
    "            if len(heap) < k:\n",
    "                heappush(heap, (l1[i]+l2[j], i, j)) \n",
    "            else:\n",
    "                \n",
    "                if l1[i]+l2[j] > heap[0][0]:\n",
    "                    num, i, j = heappop(heap)\n",
    "                    heappush(heap, (l1[i]+l2[j], i, j))\n",
    "                else:\n",
    "                    break\n",
    "    result = []\n",
    "    while heap:\n",
    "        _, i, j = heappop(heap)\n",
    "        result.append((l1[i], l2[j]))\n",
    "    return result"
   ]
  },
  {
   "cell_type": "code",
   "execution_count": 99,
   "id": "31d60bb3",
   "metadata": {},
   "outputs": [
    {
     "data": {
      "text/plain": [
       "[(5, -1), (2, 2), (5, 2)]"
      ]
     },
     "execution_count": 99,
     "metadata": {},
     "output_type": "execute_result"
    }
   ],
   "source": [
    "find_k_largest_pairs([5, 2, 1], [2, -1], 3)"
   ]
  },
  {
   "cell_type": "code",
   "execution_count": null,
   "id": "6c59224b",
   "metadata": {},
   "outputs": [],
   "source": []
  }
 ],
 "metadata": {
  "kernelspec": {
   "display_name": "Python 3 (ipykernel)",
   "language": "python",
   "name": "python3"
  },
  "language_info": {
   "codemirror_mode": {
    "name": "ipython",
    "version": 3
   },
   "file_extension": ".py",
   "mimetype": "text/x-python",
   "name": "python",
   "nbconvert_exporter": "python",
   "pygments_lexer": "ipython3",
   "version": "3.9.7"
  }
 },
 "nbformat": 4,
 "nbformat_minor": 5
}
