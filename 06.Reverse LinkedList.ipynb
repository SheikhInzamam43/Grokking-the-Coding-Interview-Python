{
 "cells": [
  {
   "cell_type": "code",
   "execution_count": 56,
   "id": "01b0d7cd",
   "metadata": {},
   "outputs": [],
   "source": [
    "class Node:\n",
    "    def __init__(self, value, next=None):\n",
    "        self.value = value\n",
    "        self.next = next\n",
    "    def __str__(self):\n",
    "        return str(self.value)\n",
    "\n",
    "\n",
    "head = Node(1)\n",
    "head.next = Node(2)\n",
    "head.next.next = Node(3)\n",
    "head.next.next.next = Node(4)\n",
    "head.next.next.next.next = Node(5)\n",
    "head.next.next.next.next.next = Node(6)\n",
    "head.next.next.next.next.next.next = Node(7)\n",
    "head.next.next.next.next.next.next.next = Node(8)"
   ]
  },
  {
   "cell_type": "code",
   "execution_count": 46,
   "id": "f2cac5bd",
   "metadata": {},
   "outputs": [],
   "source": [
    "def print_linkedlist(head):\n",
    "    curr = head\n",
    "    while curr:\n",
    "        print(curr)\n",
    "        curr = curr.next"
   ]
  },
  {
   "cell_type": "markdown",
   "id": "9b7f81a7",
   "metadata": {},
   "source": [
    "### Reverse a Singly LinkedList\n",
    "* In place with no extra Nodes\n",
    "- O(N)"
   ]
  },
  {
   "cell_type": "code",
   "execution_count": 21,
   "id": "ab0b3ac6",
   "metadata": {},
   "outputs": [],
   "source": [
    "def reverse_linked_list(head):\n",
    "    prev = None\n",
    "    curr = head\n",
    "    while curr:\n",
    "        next_ = curr.next\n",
    "        curr.next = prev\n",
    "        prev = curr\n",
    "        curr = next_\n",
    "    return prev"
   ]
  },
  {
   "cell_type": "code",
   "execution_count": 22,
   "id": "1669f4a3",
   "metadata": {},
   "outputs": [
    {
     "name": "stdout",
     "output_type": "stream",
     "text": [
      "1\n",
      "2\n",
      "3\n",
      "4\n",
      "4\n",
      "3\n",
      "2\n",
      "1\n"
     ]
    }
   ],
   "source": [
    "print_linkedlist(head)\n",
    "head = reverse_linked_list(head)\n",
    "print_linkedlist(head)"
   ]
  },
  {
   "cell_type": "markdown",
   "id": "3a6e336a",
   "metadata": {},
   "source": [
    "### Reverse sublist of LinkedList from position ‘p’ to ‘q’"
   ]
  },
  {
   "cell_type": "code",
   "execution_count": 29,
   "id": "d3089783",
   "metadata": {},
   "outputs": [],
   "source": [
    "def reverse_sublist(head, p, q):\n",
    "    if p == q:\n",
    "        return head\n",
    "    \n",
    "    i = 0\n",
    "    current = head\n",
    "    prev = None\n",
    "    while current is not None and i < p-1:\n",
    "        prev = current\n",
    "        current = current.next\n",
    "        i+=1\n",
    "        \n",
    "    first_node_of_sublist = current\n",
    "    last_node_before_sublist = prev\n",
    "    \n",
    "    i = 0\n",
    "    while current is not None and i < q-p+1:\n",
    "        next_ = current.next\n",
    "        current.next = prev\n",
    "        prev = current\n",
    "        current = next_\n",
    "        i+=1\n",
    "\n",
    "    if last_node_before_sublist is not None:\n",
    "        last_node_before_sublist.next = prev\n",
    "    else:\n",
    "        # meaning p == 1 so we need to change head\n",
    "        head = prev\n",
    "        \n",
    "    first_node_of_sublist.next = current\n",
    "    \n",
    "    return head\n",
    "    "
   ]
  },
  {
   "cell_type": "code",
   "execution_count": 31,
   "id": "450aff43",
   "metadata": {},
   "outputs": [
    {
     "name": "stdout",
     "output_type": "stream",
     "text": [
      "1\n",
      "4\n",
      "2\n",
      "3\n",
      "5\n"
     ]
    }
   ],
   "source": [
    "new_head = reverse_sublist(head, 2, 4)\n",
    "print_linkedlist(new_head)"
   ]
  },
  {
   "cell_type": "markdown",
   "id": "5770c2df",
   "metadata": {},
   "source": [
    "### Reverse every K-element Sub-list \n",
    "- O(N)"
   ]
  },
  {
   "cell_type": "code",
   "execution_count": 40,
   "id": "4d3ea871",
   "metadata": {},
   "outputs": [],
   "source": [
    "def reverse_k_sublist(head, k):\n",
    "    if k < 1 or head is None:\n",
    "        return head\n",
    "    \n",
    "    current = head\n",
    "    prev = None\n",
    "    while current is not None:\n",
    "        node_before_sublist = prev\n",
    "        last_node_of_sublist_after_rev = current\n",
    "\n",
    "        i = 0\n",
    "        while current is not None and i < k:\n",
    "            next_ = current.next\n",
    "            current.next = prev\n",
    "            prev = current\n",
    "            current = next_\n",
    "            i+=1\n",
    "\n",
    "        if node_before_sublist is not None:\n",
    "            node_before_sublist.next = prev\n",
    "        else:\n",
    "            head = prev\n",
    "\n",
    "        last_node_of_sublist_after_rev.next = current\n",
    "    \n",
    "        prev = last_node_of_sublist_after_rev\n",
    "    return head\n",
    "    "
   ]
  },
  {
   "cell_type": "code",
   "execution_count": 41,
   "id": "02fd3323",
   "metadata": {},
   "outputs": [
    {
     "name": "stdout",
     "output_type": "stream",
     "text": [
      "3\n",
      "2\n",
      "1\n",
      "6\n",
      "5\n",
      "4\n",
      "8\n",
      "7\n"
     ]
    }
   ],
   "source": [
    "new = reverse_k_sublist(head, 3)\n",
    "print_linkedlist(new)"
   ]
  },
  {
   "cell_type": "markdown",
   "id": "ca73a86e",
   "metadata": {},
   "source": [
    "### Reverse alternating K-element Sub-list\n",
    "- O(N)"
   ]
  },
  {
   "cell_type": "code",
   "execution_count": 47,
   "id": "da25a5d7",
   "metadata": {},
   "outputs": [],
   "source": [
    "def reverse_alt_k_sublist(head, k):\n",
    "    if k < 1 or head is None:\n",
    "        return head\n",
    "    \n",
    "    current = head\n",
    "    prev = None\n",
    "    while current is not None:\n",
    "        node_before_sublist = prev\n",
    "        last_node_of_sublist_after_rev = current\n",
    "\n",
    "        i = 0\n",
    "        while current is not None and i < k:\n",
    "            next_ = current.next\n",
    "            current.next = prev\n",
    "            prev = current\n",
    "            current = next_\n",
    "            i+=1\n",
    "\n",
    "        if node_before_sublist is not None:\n",
    "            node_before_sublist.next = prev\n",
    "        else:\n",
    "            head = prev\n",
    "\n",
    "        last_node_of_sublist_after_rev.next = current\n",
    "    \n",
    "        i=0\n",
    "        while current is not None and i <k:\n",
    "            prev = current\n",
    "            current = current.next\n",
    "            i+=1\n",
    "            \n",
    "    return head\n",
    "    "
   ]
  },
  {
   "cell_type": "code",
   "execution_count": 48,
   "id": "ed63051f",
   "metadata": {},
   "outputs": [
    {
     "name": "stdout",
     "output_type": "stream",
     "text": [
      "3\n",
      "2\n",
      "1\n",
      "4\n",
      "5\n",
      "6\n",
      "8\n",
      "7\n"
     ]
    }
   ],
   "source": [
    "new = reverse_alt_k_sublist(head, 3)\n",
    "print_linkedlist(new)"
   ]
  },
  {
   "cell_type": "markdown",
   "id": "4a3ae107",
   "metadata": {},
   "source": [
    "### Rotate a LinkedList\n",
    "- i.e. take the sub-list of ‘k’ ending nodes of the LinkedList and connect them to the beginning.\n",
    "- Connect the last node to the head, because the list will have a different tail after the rotation.\n",
    "- new head of the LinkedList will be the node at the beginning of the sublist.\n",
    "- The node right before the start of sub-list will be the new tail of the rotated LinkedList.\n",
    "** O(N)"
   ]
  },
  {
   "cell_type": "code",
   "execution_count": 57,
   "id": "4350ccdc",
   "metadata": {},
   "outputs": [],
   "source": [
    "def rotate(head, k):\n",
    "    if k <= 1 or head is None or head.next is None:\n",
    "        return head\n",
    "    \n",
    "    last = head\n",
    "    length = 1\n",
    "    while last.next is not None:\n",
    "        last = last.next\n",
    "        length+=1\n",
    "        \n",
    "    last.next = head\n",
    "    k %= length # no need to rotate for more than length of list\n",
    "    skip = length - k\n",
    "    last_node_of_rotated_list = head\n",
    "    \n",
    "    for i in range(skip-1):\n",
    "        last_node_of_rotated_list = last_node_of_rotated_list.next\n",
    "        \n",
    "    head = last_node_of_rotated_list.next\n",
    "    last_node_of_rotated_list.next = None\n",
    "\n",
    "    return head\n",
    "    "
   ]
  },
  {
   "cell_type": "code",
   "execution_count": 58,
   "id": "1a1cf7be",
   "metadata": {},
   "outputs": [
    {
     "name": "stdout",
     "output_type": "stream",
     "text": [
      "6\n",
      "7\n",
      "8\n",
      "1\n",
      "2\n",
      "3\n",
      "4\n",
      "5\n"
     ]
    }
   ],
   "source": [
    "new = rotate(head, 3)\n",
    "print_linkedlist(new)"
   ]
  },
  {
   "cell_type": "code",
   "execution_count": null,
   "id": "dba79d64",
   "metadata": {},
   "outputs": [],
   "source": []
  }
 ],
 "metadata": {
  "kernelspec": {
   "display_name": "Python 3 (ipykernel)",
   "language": "python",
   "name": "python3"
  },
  "language_info": {
   "codemirror_mode": {
    "name": "ipython",
    "version": 3
   },
   "file_extension": ".py",
   "mimetype": "text/x-python",
   "name": "python",
   "nbconvert_exporter": "python",
   "pygments_lexer": "ipython3",
   "version": "3.9.7"
  }
 },
 "nbformat": 4,
 "nbformat_minor": 5
}
