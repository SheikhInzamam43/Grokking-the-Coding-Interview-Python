{
 "cells": [
  {
   "cell_type": "markdown",
   "id": "d17935a2",
   "metadata": {},
   "source": [
    "### Given an unsorted array of numbers, find the ‘K’ largest numbers in it.\n",
    "\n",
    "1. Insert first k into a minheap\n",
    "2. Iterate over the remaining numbers. If num > root of min heap, insert to heap\n",
    "\n",
    "it will take us \n",
    "O(logK) to extract the minimum number from the min-heap. So the overall time complexity of our algorithm will be \n",
    "O(K∗logK+(N−K)∗logK) since, first, we insert ‘K’ numbers in the heap and then iterate through the remaining numbers and at every step, in the worst case, we need to extract the minimum number and insert a new number in the heap. This algorithm is better than O(N∗logN)."
   ]
  },
  {
   "cell_type": "code",
   "execution_count": 3,
   "id": "bfcadfaa",
   "metadata": {},
   "outputs": [],
   "source": [
    "from heapq import *\n",
    "def find_k_larges(arr, k):\n",
    "    heap = []\n",
    "    for i in range(k):\n",
    "        heappush(heap, arr[i])\n",
    "    for i in range(k,len(arr)):\n",
    "        if heap[-1] < arr[i]:\n",
    "            heappop(heap)\n",
    "            heappush(heap, arr[i])\n",
    "    return heap"
   ]
  },
  {
   "cell_type": "code",
   "execution_count": 4,
   "id": "28133437",
   "metadata": {},
   "outputs": [
    {
     "data": {
      "text/plain": [
       "[5, 6, 7]"
      ]
     },
     "execution_count": 4,
     "metadata": {},
     "output_type": "execute_result"
    }
   ],
   "source": [
    "arr = [3,5,6,1,4,7]\n",
    "find_k_larges(arr, 3)"
   ]
  },
  {
   "cell_type": "markdown",
   "id": "c34a1851",
   "metadata": {},
   "source": [
    "### Given an unsorted array of numbers, find Kth smallest number in it.\n",
    "\n",
    "1. Use a max heap. Insert k numbers to it. root will be the largest. Iteraritvely replace it with the smallest remaining. This will be largest of the k in the heap, hence kth smallest.\n",
    "2. O(K∗logK+(N−K)∗logK) and O(K) space complexity\n",
    "Alternatively insert all N to min heap and pop k times. O(N + KlogN)"
   ]
  },
  {
   "cell_type": "code",
   "execution_count": 23,
   "id": "d7e5ce33",
   "metadata": {},
   "outputs": [],
   "source": [
    "from heapq import *\n",
    "def find_kth_smallest(arr, k):\n",
    "    heap = []\n",
    "    for i in range(k):\n",
    "        heappush(heap, -arr[i])\n",
    "    for i in range(k,len(arr)):\n",
    "        if arr[i] < -heap[0]:\n",
    "            heappop(heap)\n",
    "            heappush(heap, -arr[i])\n",
    "    return -heap[0]"
   ]
  },
  {
   "cell_type": "code",
   "execution_count": 24,
   "id": "930af95a",
   "metadata": {},
   "outputs": [
    {
     "data": {
      "text/plain": [
       "4"
      ]
     },
     "execution_count": 24,
     "metadata": {},
     "output_type": "execute_result"
    }
   ],
   "source": [
    "arr = [3,5,6,1,4,7]\n",
    "find_kth_smallest(arr,3)"
   ]
  },
  {
   "cell_type": "markdown",
   "id": "652c0406",
   "metadata": {},
   "source": [
    "### Given an array of points in the a 2D plane, find ‘K’ closest points to the origin\n",
    "\n",
    "1. Euclidean distance of a point p(x,y) from origin is sqrt(x^2 + y^2)\n",
    "2. Insert the distances for k points into a max heap. Iterate over the rest. Replace top if any point has distance smaller than top.\n",
    "O(N * logK)"
   ]
  },
  {
   "cell_type": "code",
   "execution_count": 46,
   "id": "ded2e577",
   "metadata": {},
   "outputs": [],
   "source": [
    "from heapq import heappush, heappop\n",
    "from math import sqrt\n",
    "class Point:\n",
    "    def __init__(self,x,y):\n",
    "        self.x = x\n",
    "        self.y = y\n",
    "        \n",
    "    def __lt__(self, other):\n",
    "        return self.get_euclidean_distance() < other.get_euclidean_distance()\n",
    "        \n",
    "        \n",
    "    def get_euclidean_distance(self):\n",
    "        return sqrt(pow(self.x,2)+pow(self.y,2))\n",
    "    \n",
    "    def __repr__(self):\n",
    "        return '('+str(self.x)+','+str(self.y)+')'\n",
    "        \n",
    "def k_closest_points(arr,k):\n",
    "    max_heap = []\n",
    "    for i in range(0,k):\n",
    "        heappush(max_heap, arr[i])\n",
    "        \n",
    "    for i in range(k,len(arr)):\n",
    "        if arr[i].get_euclidean_distance() < max_heap[0].get_euclidean_distance():\n",
    "            heappop(max_heap)\n",
    "            heappush(max_heap, arr[i])\n",
    "    return max_heap"
   ]
  },
  {
   "cell_type": "code",
   "execution_count": 47,
   "id": "342b9452",
   "metadata": {},
   "outputs": [
    {
     "data": {
      "text/plain": [
       "[(2,-1), (1,3)]"
      ]
     },
     "execution_count": 47,
     "metadata": {},
     "output_type": "execute_result"
    }
   ],
   "source": [
    "k_closest_points([Point(2,2),Point(1,3),Point(3,4),Point(2,-1)],2)"
   ]
  },
  {
   "cell_type": "markdown",
   "id": "6a622d6e",
   "metadata": {},
   "source": [
    "### Given ‘N’ ropes with different lengths, we need to connect these ropes into one big rope with minimum cost. \n",
    "The cost of connecting two ropes is equal to the sum of their lengths.\n",
    "1. Insert all lenghts into a min heap.\n",
    "2. Add the elements at top. Push new cost to min heap\n",
    "3 Iterate until heap is empty\n",
    "\n",
    "O(N * logN) - N for iteration, logN for retrieval"
   ]
  },
  {
   "cell_type": "code",
   "execution_count": 52,
   "id": "1cf19e59",
   "metadata": {},
   "outputs": [],
   "source": [
    "from heapq import heappop, heappush\n",
    "def min_join_ropes(ropes):\n",
    "    min_heap = []\n",
    "    for i in ropes:\n",
    "        heappush(min_heap,i)\n",
    "        \n",
    "    result = 0\n",
    "    while len(min_heap) > 1:\n",
    "        cost = heappop(min_heap) + heappop(min_heap)\n",
    "        result+=cost\n",
    "        heappush(min_heap, cost)\n",
    "        \n",
    "    return result\n",
    "    "
   ]
  },
  {
   "cell_type": "code",
   "execution_count": 54,
   "id": "835994b5",
   "metadata": {},
   "outputs": [
    {
     "data": {
      "text/plain": [
       "29"
      ]
     },
     "execution_count": 54,
     "metadata": {},
     "output_type": "execute_result"
    }
   ],
   "source": [
    "min_join_ropes([4,3,2,6])"
   ]
  },
  {
   "cell_type": "markdown",
   "id": "4cff2d64",
   "metadata": {},
   "source": [
    "### Given an unsorted array of numbers, find the top ‘K’ frequently occurring numbers in it.\n",
    "\n",
    "- Use a hashmap to store frequency\n",
    "- Use a max heap to sort numbers by frequency. Pop the top k for k frequent ones.\n",
    "Time - O(N +  K * logK)\n",
    "Space - O(N)"
   ]
  },
  {
   "cell_type": "code",
   "execution_count": 110,
   "id": "9418b808",
   "metadata": {},
   "outputs": [],
   "source": [
    "def k_frequent_nums(arr,k):\n",
    "    frequency_dict = {}\n",
    "    for i in arr:\n",
    "        frequency_dict[i] = frequency_dict.get(i,0)+1\n",
    "    \n",
    "    heap = []\n",
    "    for key,val in frequency_dict.items():\n",
    "        heappush(heap, (-val, key))\n",
    "    \n",
    "    res = []\n",
    "    for i in range(k):\n",
    "        res.append(heappop(heap)[1])\n",
    "    return res\n",
    "    "
   ]
  },
  {
   "cell_type": "code",
   "execution_count": 112,
   "id": "19649562",
   "metadata": {},
   "outputs": [
    {
     "data": {
      "text/plain": [
       "[3, 11, 5]"
      ]
     },
     "execution_count": 112,
     "metadata": {},
     "output_type": "execute_result"
    }
   ],
   "source": [
    "k_frequent_nums([5, 12, 11, 3, 11, 3],3)"
   ]
  },
  {
   "cell_type": "markdown",
   "id": "240fba29",
   "metadata": {},
   "source": [
    "### Given a string, sort it based on the decreasing frequency of its characters.\n",
    " - Use hashmap to get frequency of chars, use maxheap to sort by decreasing frequency. Pop and join to form string.\n",
    "  - O(D∗logD) where ‘D’ is the number of distinct characters in the input string. This means, in the worst case, when all characters are unique the time complexity of the algorithm will be \n",
    "O(N∗logN) where ‘N’ is the total number of characters in the string.\n",
    "\n",
    "Space complexity O(N)\n"
   ]
  },
  {
   "cell_type": "code",
   "execution_count": 142,
   "id": "95d97769",
   "metadata": {},
   "outputs": [],
   "source": [
    "def dec_frequency_str(s):\n",
    "    frequency_dict = {}\n",
    "    for i in s:\n",
    "        frequency_dict[i] = frequency_dict.get(i,0)+1\n",
    "    \n",
    "    heap = []\n",
    "    for key,val in frequency_dict.items():\n",
    "        heappush(heap, (-val, key))\n",
    "        \n",
    "    res = []\n",
    "    while heap:\n",
    "        count, char = heappop(heap)\n",
    "        res.append(char*-count)\n",
    "\n",
    "    return ''.join(res)\n"
   ]
  },
  {
   "cell_type": "code",
   "execution_count": 143,
   "id": "2b065e51",
   "metadata": {},
   "outputs": [
    {
     "data": {
      "text/plain": [
       "'ggmmrrainop'"
      ]
     },
     "execution_count": 143,
     "metadata": {},
     "output_type": "execute_result"
    }
   ],
   "source": [
    "dec_frequency_str('programming')"
   ]
  },
  {
   "cell_type": "markdown",
   "id": "53234ff7",
   "metadata": {},
   "source": [
    "### Design a class to efficiently find the Kth largest element in a stream of numbers.\n",
    "\n",
    "The class should have the following two things:\n",
    "\n",
    "The constructor of the class should accept an integer array containing initial numbers from the stream and an integer ‘K’.\n",
    "The class should expose a function add(int num) which will store the given number and return the Kth largest number.\n",
    "\n",
    "- O(logK)\n"
   ]
  },
  {
   "cell_type": "code",
   "execution_count": 148,
   "id": "6b2099a7",
   "metadata": {},
   "outputs": [],
   "source": [
    "class KLargestInStream:\n",
    "    minheap = []\n",
    "\n",
    "    def __init__(self, nums, k):\n",
    "        self.k = k\n",
    "        for n in nums:\n",
    "            self.add(n)\n",
    "            \n",
    "    def __repr__(self):\n",
    "        return str(self.minheap[0])\n",
    "            \n",
    "    def add(self,num):\n",
    "        heappush(self.minheap,num)\n",
    "        \n",
    "        if len(self.minheap) > self.k:\n",
    "            heappop(self.minheap) # always have only k large numbers. pop will remove smallest\n",
    "            \n",
    "        return self.minheap[0]\n",
    "            \n",
    "        "
   ]
  },
  {
   "cell_type": "code",
   "execution_count": 149,
   "id": "2de129bc",
   "metadata": {},
   "outputs": [
    {
     "data": {
      "text/plain": [
       "3"
      ]
     },
     "execution_count": 149,
     "metadata": {},
     "output_type": "execute_result"
    }
   ],
   "source": [
    "KLargestInStream([3, 1, 5, 12, 2, 11], k = 4)"
   ]
  },
  {
   "cell_type": "markdown",
   "id": "3cbbe020",
   "metadata": {},
   "source": [
    "### Given a sorted number array and two integers ‘K’ and ‘X’, find ‘K’ closest numbers to ‘X’ in the array. Return the numbers in the sorted order\n",
    "- Sorted, so use binary search to find number closest to X\n",
    "- Use a min heap sorted by absolute difference with X to get k numbers, or use two pointers\n",
    " Complexity in case of min heap - O(logN + K*logK)"
   ]
  },
  {
   "cell_type": "code",
   "execution_count": 166,
   "id": "eba96992",
   "metadata": {},
   "outputs": [],
   "source": [
    "def binary_search(arr, key):\n",
    "    low, high = 0, len(arr)-1\n",
    "    while low <= high:\n",
    "        mid = low + (high-low)//2\n",
    "        if arr[mid] == key:\n",
    "            return mid\n",
    "        elif key < arr[mid]:\n",
    "            high = mid -1\n",
    "        else:\n",
    "            low = mid +1\n",
    "    if low > 0:\n",
    "        low-=1\n",
    "    return low\n",
    "\n",
    "def find_k_close_nums(arr, k, x):\n",
    "    closest_index = binary_search(arr,x)\n",
    "    low, high = closest_index-k, closest_index+k\n",
    "    \n",
    "    low = max(low, 0) # index can't be lower than 0\n",
    "    high = min(len(arr)-1,high) #index can't be higher than range\n",
    "    \n",
    "    heap = []\n",
    "    for i in range(low, high+1):\n",
    "        heappush(heap, (abs(arr[i]-x),arr[i]))\n",
    "        \n",
    "    res = []\n",
    "    for i in range(k):\n",
    "        res.append(heappop(heap)[1])\n",
    "    return res\n",
    "        \n",
    "    \n",
    "    "
   ]
  },
  {
   "cell_type": "code",
   "execution_count": 168,
   "id": "e4de463a",
   "metadata": {},
   "outputs": [
    {
     "data": {
      "text/plain": [
       "[9, 6, 5]"
      ]
     },
     "execution_count": 168,
     "metadata": {},
     "output_type": "execute_result"
    }
   ],
   "source": [
    "find_k_close_nums([2, 4, 5, 6, 9], 3, 10)"
   ]
  },
  {
   "cell_type": "markdown",
   "id": "7d68c247",
   "metadata": {},
   "source": [
    "### Given an array of numbers and a number ‘K’, we need to remove ‘K’ numbers from the array such that we are left with maximum distinct numbers.\n",
    "1. Find frequency of each number\n",
    "2. Push duplicates and their frequency to a min heap.\n",
    "3. Keep popping the least frequent\n",
    "4. If k is still left, remove some more.\n",
    "\n",
    "Since we will insert all numbers in a HashMap and a Min Heap, this will take \n",
    "(N∗logN) where ‘N’ is the total input numbers. While extracting numbers from the heap, in the worst case, we will need to take out ‘K’ numbers.Extracting ‘K’ numbers will take \n",
    "O(KlogN). So overall, the time complexity of our algorithm will be \n",
    "\n",
    "O(N∗logN+KlogN)."
   ]
  },
  {
   "cell_type": "code",
   "execution_count": 178,
   "id": "12dd677a",
   "metadata": {},
   "outputs": [],
   "source": [
    "def remove_k_elements(nums, k):\n",
    "    distinct_nums = 0\n",
    "    if len(nums) <= k:\n",
    "        # will have to delete all\n",
    "        return distinct_nums\n",
    "    freq_dict = {}\n",
    "    for i in nums:\n",
    "        freq_dict[i] = freq_dict.get(i,0)+1\n",
    "        \n",
    "    heap = []\n",
    "    for n,c in freq_dict.items():\n",
    "        if c > 1:\n",
    "            heappush(heap, (c,n))\n",
    "        else:\n",
    "            distinct_nums+=1\n",
    "            \n",
    "    while k>0 and heap:\n",
    "        count, num = heappop(heap)\n",
    "        k-= count-1\n",
    "        if k>=0:\n",
    "            distinct_nums+=1\n",
    "            \n",
    "    if k > 0:\n",
    "        distinct_nums-=k\n",
    "        \n",
    "    return distinct_nums"
   ]
  },
  {
   "cell_type": "code",
   "execution_count": 179,
   "id": "4934c9ed",
   "metadata": {},
   "outputs": [
    {
     "data": {
      "text/plain": [
       "3"
      ]
     },
     "execution_count": 179,
     "metadata": {},
     "output_type": "execute_result"
    }
   ],
   "source": [
    "remove_k_elements([7, 3, 5, 8, 5, 3, 3],k=2)"
   ]
  },
  {
   "cell_type": "markdown",
   "id": "287f308d",
   "metadata": {},
   "source": [
    "### Given an array, find the sum of all numbers between the K1’th and K2’th smallest elements of that array.\n",
    "\n",
    "First, insert all numbers in a min-heap.\n",
    "Remove the first K1 smallest numbers from the min-heap.\n",
    "Now take the next K2-K1-1 numbers out of the heap and add them. This sum will be our required output.\n",
    "\n",
    "O(NlogN)"
   ]
  },
  {
   "cell_type": "code",
   "execution_count": 180,
   "id": "f7268350",
   "metadata": {},
   "outputs": [],
   "source": [
    "def sum_between_k(arr, k1,k2):\n",
    "    heap = []\n",
    "    for i in arr:\n",
    "        heappush(heap,i)\n",
    "        \n",
    "    for i in range(k1):\n",
    "        heappop(heap)\n",
    "        \n",
    "    sums = 0\n",
    "    for i in range(k2-k1-1):\n",
    "        sums+=heappop(heap)\n",
    "        \n",
    "    return sums\n",
    "         "
   ]
  },
  {
   "cell_type": "code",
   "execution_count": 181,
   "id": "ab85fe80",
   "metadata": {},
   "outputs": [
    {
     "data": {
      "text/plain": [
       "23"
      ]
     },
     "execution_count": 181,
     "metadata": {},
     "output_type": "execute_result"
    }
   ],
   "source": [
    "sum_between_k([1, 3, 12, 5, 15, 11],3,6)"
   ]
  },
  {
   "cell_type": "markdown",
   "id": "57e5514f",
   "metadata": {},
   "source": [
    "### Given a string, find if its letters can be rearranged in such a way that no two same characters come next to each other.\n",
    "\n",
    "\n",
    "Build a Priority_queue or max_heap, pq that stores characters with their frequencies. \n",
    "Priority_queue or max_heap is built on the basis of the frequency of character. \n",
    "Create a temporary Key that will be used as the previously visited element (the previous element in the resultant string. Initialize it { char = ‘#’ , freq = ‘-1’ } \n",
    "While pq is not empty. \n",
    "Pop an element and add it to the result. \n",
    "Decrease the frequency of the popped element by ‘1’ \n",
    "Push the previous element back into the priority_queue if its frequency is greater than zero. \n",
    "Make the current element as the previous element for the next iteration. \n",
    "If the length of the resultant string and the original string is not equal, then print “not possible”, else print the resultant string.\n",
    "\n",
    "Time complexity : O(N log(N))\n",
    "Auxiliary Space: O(N), Extra space is used to store the resultant string"
   ]
  },
  {
   "cell_type": "code",
   "execution_count": 188,
   "id": "a918b040",
   "metadata": {},
   "outputs": [],
   "source": [
    "def rearrange_string(s):\n",
    "\n",
    "    freq_dict = {}\n",
    "    for i in s:\n",
    "        freq_dict[i] = freq_dict.get(i,0)+1\n",
    "        \n",
    "    heap = []\n",
    "    for char,count in freq_dict.items():\n",
    "        heappush(heap, (-count,char))\n",
    "            \n",
    "    res = []\n",
    "    prev_count, prev_char = 0, None\n",
    "    while heap:\n",
    "        count, char = heappop(heap)\n",
    "        res.append(char)\n",
    "        if -prev_count > 0 and prev_char:\n",
    "            heappush(heap, (prev_count,prev_char))\n",
    "        prev_char = char\n",
    "        prev_count = count + 1 #decrement\n",
    "        \n",
    "    \n",
    "        \n",
    "    return ''.join(res) if len(res) == len(s) else ''"
   ]
  },
  {
   "cell_type": "code",
   "execution_count": 189,
   "id": "5d227b1f",
   "metadata": {},
   "outputs": [
    {
     "data": {
      "text/plain": [
       "'gmragimnopr'"
      ]
     },
     "execution_count": 189,
     "metadata": {},
     "output_type": "execute_result"
    }
   ],
   "source": [
    "rearrange_string('programming')"
   ]
  },
  {
   "cell_type": "markdown",
   "id": "731837b8",
   "metadata": {},
   "source": [
    "### Given a string and a number ‘K’, find if the string can be rearranged such that the same characters are at least ‘K’ distance apart from each other.\n",
    "\n",
    "Let the given string be str and size of string be n\n",
    "Traverse str, store all characters and their frequencies in a Max Heap MH(implemented using priority queue). The value of frequency decides the order in MH, i.e., the most frequent character is at the root of MH.\n",
    "Make all characters of str as ‘\\0’.\n",
    "Do the following while MH is not empty.\n",
    "Extract the Most frequent character. Let the extracted character be x and its frequency be f.\n",
    "Find the first available position in str, i.e., find the first ‘\\0’ in str.\n",
    "Let the first position be p. Fill x at p, p+d,.. p+(f-1)d\n",
    "\n",
    "Time Complexity: Time complexity of above implementation is O(n + mLog(MAX)). Here n is the length of str, m is the count of distinct characters in str[] and MAX is the maximum possible different characters.\n",
    "\n",
    "Auxiliary Space : O(N)"
   ]
  },
  {
   "cell_type": "code",
   "execution_count": 193,
   "id": "e50f5417",
   "metadata": {},
   "outputs": [],
   "source": [
    "from collections import deque\n",
    "def space_string(s, k):\n",
    "\n",
    "    freq_dict = {}\n",
    "    for i in s:\n",
    "        freq_dict[i] = freq_dict.get(i,0)+1\n",
    "        \n",
    "    heap = []\n",
    "    for char,count in freq_dict.items():\n",
    "        heappush(heap, (-count,char))\n",
    "            \n",
    "    res = []\n",
    "    queue = deque()\n",
    "    while heap:\n",
    "        count, char = heappop(heap)\n",
    "        res.append(char)\n",
    "        queue.append((char, count+1)) #dcrement\n",
    "        if len(queue) == k:\n",
    "            char, count = queue.popleft()\n",
    "            if -count > 0:\n",
    "                heappush(heap, (count, char))\n",
    "        \n",
    "    return ''.join(res) if len(res) == len(s) else ''"
   ]
  },
  {
   "cell_type": "code",
   "execution_count": 194,
   "id": "4c40d114",
   "metadata": {},
   "outputs": [
    {
     "data": {
      "text/plain": [
       "'mpmp'"
      ]
     },
     "execution_count": 194,
     "metadata": {},
     "output_type": "execute_result"
    }
   ],
   "source": [
    "space_string(\"mmpp\",2)"
   ]
  },
  {
   "cell_type": "markdown",
   "id": "9dbc565d",
   "metadata": {},
   "source": [
    "### rearrange tasks such that same tasks are ‘K’ distance apart.\n",
    "You are given a list of tasks that need to be run, in any order, on a server.\n",
    "Each task will take one CPU interval to execute but once a task has finished, it has a cooling period during which it can’t be run again. If the cooling period for all tasks is ‘K’ intervals, find the minimum number of CPU intervals that the server needs to finish all tasks.\n",
    "\n",
    "If at any time the server can’t execute any task then it must stay idle.\n",
    "\n",
    "1. use a Max Heap to execute the highest frequency task first. \n",
    "2. After executing a task we decrease its frequency and put it in a waiting list. \n",
    "3. In each iteration, we will try to execute as many as k+1 tasks. \n",
    "4. For the next iteration, we will put all the waiting tasks back in the Max Heap. If, for any iteration, we are not able to execute k+1 tasks, the CPU has to remain idle for the remaining time in the next iteration."
   ]
  },
  {
   "cell_type": "code",
   "execution_count": 202,
   "id": "06b1c5a4",
   "metadata": {},
   "outputs": [],
   "source": [
    "def schedule_tasks(tasks, k):\n",
    "\n",
    "    intervals = 0\n",
    "    freq_dict = {}\n",
    "    for i in tasks:\n",
    "        freq_dict[i] = freq_dict.get(i,0)+1\n",
    "        \n",
    "    heap = []\n",
    "    for task,count in freq_dict.items():\n",
    "        heappush(heap, (-count,task))\n",
    "            \n",
    "    while heap:\n",
    "        waitlist= []\n",
    "        n=k+1 # try to execute as many\n",
    "        while n >0 and heap:\n",
    "            intervals+=1\n",
    "            count, task = heappop(heap)\n",
    "            if -count > 1:\n",
    "                # decement and add to wait\n",
    "                waitlist.append((count+1, task))\n",
    "            n-=1\n",
    "        for count, task in waitlist:\n",
    "            # push waiting tasks onto heap\n",
    "            heappush(heap, (count,task))\n",
    "            \n",
    "        if heap:\n",
    "            intervals+=n\n",
    "        \n",
    "    return intervals"
   ]
  },
  {
   "cell_type": "code",
   "execution_count": 203,
   "id": "841cabc5",
   "metadata": {},
   "outputs": [
    {
     "data": {
      "text/plain": [
       "7"
      ]
     },
     "execution_count": 203,
     "metadata": {},
     "output_type": "execute_result"
    }
   ],
   "source": [
    "schedule_tasks(['a', 'a', 'a', 'b', 'c', 'c'], 2)"
   ]
  },
  {
   "cell_type": "markdown",
   "id": "2da7d668",
   "metadata": {},
   "source": [
    "### Design a class that simulates a Stack data structure, implementing the following two operations:\n",
    "\n",
    "push(int num): Pushes the number ‘num’ on the stack.\n",
    "pop(): Returns the most frequent number in the stack. If there is a tie, return the number which was pushed later.\n",
    "\n",
    "1. maintain a HashMap to store the current frequency of each number. Thus whenever we push a new number in the heap, we will increment its frequency in the HashMap and when we pop, we will decrement its frequency.\n",
    "2. If two numbers have the same frequency, we will need to return the number which was pushed later while popping. To resolve this, we need to attach a sequence number to every number to know which number came first."
   ]
  },
  {
   "cell_type": "code",
   "execution_count": 205,
   "id": "a4bcd108",
   "metadata": {},
   "outputs": [],
   "source": [
    "class Element:\n",
    "    def __init__(self, num, count, seq):\n",
    "        self.num = num\n",
    "        self.count = count\n",
    "        self.seq = seq\n",
    "        \n",
    "    def __lt__(self, other):\n",
    "        if self.count != other.count:\n",
    "            return self.count > other.count # > cause max heap\n",
    "        return self.seq > other.seq\n",
    "    \n",
    "class FrequencyStack:\n",
    "    max_heap = []\n",
    "    freq_dict = {}\n",
    "    seq = 0\n",
    "    \n",
    "    def push(self, num):\n",
    "        self.freq_dict[num] = self.freq_dict.get(num,0)+1\n",
    "        heappush(self.max_heap, Element(num,self.freq_dict[num],seq))\n",
    "        seq+=1\n",
    "        \n",
    "    def pop(self):\n",
    "        num = heappop(self.max_heap).number\n",
    "        if self.freq_dict[num] > 1:\n",
    "            self.freq_dict[num]-=1\n",
    "        else:\n",
    "            del self.freq_dict[num]\n",
    "        \n",
    "    \n",
    "#The time complexity of push() and pop() is O(logN) where ‘N’ is the current number of elements in the heap."
   ]
  },
  {
   "cell_type": "code",
   "execution_count": null,
   "id": "00f1c6c6",
   "metadata": {},
   "outputs": [],
   "source": []
  }
 ],
 "metadata": {
  "kernelspec": {
   "display_name": "Python 3 (ipykernel)",
   "language": "python",
   "name": "python3"
  },
  "language_info": {
   "codemirror_mode": {
    "name": "ipython",
    "version": 3
   },
   "file_extension": ".py",
   "mimetype": "text/x-python",
   "name": "python",
   "nbconvert_exporter": "python",
   "pygments_lexer": "ipython3",
   "version": "3.9.7"
  }
 },
 "nbformat": 4,
 "nbformat_minor": 5
}
