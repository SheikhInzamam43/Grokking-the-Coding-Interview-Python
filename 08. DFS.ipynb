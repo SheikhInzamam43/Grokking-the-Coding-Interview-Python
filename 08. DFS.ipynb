{
 "cells": [
  {
   "cell_type": "markdown",
   "id": "0c722952",
   "metadata": {},
   "source": [
    "## DFS\n",
    "1. Start a root\n",
    "2. If node is not visited, push to stack\n",
    "3. Select an adjacent node\n",
    "4. Repeat steps 2-3 until leaf node is reached\n",
    "5. If there's no adjacent node, go back to n-1 node and pick one of it's unvisited adjacent nodes and repeat process\n"
   ]
  },
  {
   "cell_type": "code",
   "execution_count": 51,
   "id": "2535cc57",
   "metadata": {},
   "outputs": [],
   "source": [
    "def dfs(graph, node, visited):\n",
    "    ''' To recursively traverse a binary tree in a DFS fashion,\n",
    "        we can start from the root and at every step, \n",
    "        make two recursive calls one for the left and one for the right child.'''\n",
    "    if node not in visited:\n",
    "        visited.append(node)\n",
    "        for k in graph[node]: \n",
    "            dfs(graph,k, visited)\n",
    "    return visited"
   ]
  },
  {
   "cell_type": "markdown",
   "id": "42f27d67",
   "metadata": {},
   "source": [
    "### Binary Tree Path Sum\n",
    "- Given a binary tree and a number ‘S’, find if the tree has a path from root-to-leaf such that the sum of all the node values of that path equals ‘S’.\n",
    "1. Start DFS with the root of the tree.\n",
    "2. If the current node is not a leaf node, Subtract the value of the current node from the given number to get a new sum => S = S - node.value and Make two recursive calls for both the children of the current node with the new S\n",
    "3. At every step, see if the current node being visited is a leaf node and if its value is equal to the given number ‘S’, return true.\n",
    "4. If the current node is a leaf but its value is not equal to the given number ‘S’, return false.\n"
   ]
  },
  {
   "cell_type": "code",
   "execution_count": 1,
   "id": "a393618b",
   "metadata": {},
   "outputs": [],
   "source": [
    "class TreeNode:\n",
    "    def __init__(self,val):\n",
    "        self.val = val\n",
    "        self.left, self.right = None, None\n",
    "        \n",
    "root = TreeNode(1)\n",
    "root.left = TreeNode(2)\n",
    "root.right = TreeNode(3)\n",
    "root.left.left = TreeNode(4)\n",
    "root.left.right = TreeNode(5)\n",
    "root.right.left = TreeNode(6)\n",
    "root.right.right = TreeNode(7)\n"
   ]
  },
  {
   "cell_type": "code",
   "execution_count": 12,
   "id": "e3a777da",
   "metadata": {},
   "outputs": [],
   "source": [
    "def check_path_sum(root, s):\n",
    "    if root is None:\n",
    "        return False\n",
    "\n",
    "    if root.val == s and root.left is None and root.right is None:\n",
    "        return True # found a leaf so that sum of nodes from root to there is s\n",
    "\n",
    "    s = s - root.val\n",
    "    return check_path_sum(root.left, s) or check_path_sum(root.right, s) #traverse both left and right paths until all leaves are reached or a path is found\n",
    "        \n",
    "    \n",
    "    "
   ]
  },
  {
   "cell_type": "code",
   "execution_count": 13,
   "id": "9789dae7",
   "metadata": {},
   "outputs": [
    {
     "name": "stdout",
     "output_type": "stream",
     "text": [
      "1 10\n",
      "2 9\n",
      "4 7\n",
      "5 7\n",
      "3 9\n",
      "6 6\n"
     ]
    },
    {
     "data": {
      "text/plain": [
       "True"
      ]
     },
     "execution_count": 13,
     "metadata": {},
     "output_type": "execute_result"
    }
   ],
   "source": [
    "check_path_sum(root, s=10)"
   ]
  },
  {
   "cell_type": "markdown",
   "id": "336d0eae",
   "metadata": {},
   "source": [
    "### find all paths from root-to-leaf such that the sum of all the node values of each path equals ‘S’."
   ]
  },
  {
   "cell_type": "code",
   "execution_count": 33,
   "id": "964af003",
   "metadata": {},
   "outputs": [],
   "source": [
    "def find_paths(root, s):\n",
    "    res = []\n",
    "    check_path_sum(root, s, [], res)\n",
    "    return res\n",
    "    \n",
    "def check_path_sum(root, s, curr_path, res):\n",
    "    \n",
    "    if root is None:\n",
    "        return \n",
    "    \n",
    "    curr_path.append(root.val)\n",
    "\n",
    "    if root.val == s and root.left is None and root.right is None:\n",
    "        res.append(list(curr_path)) # found a leaf so that sum of nodes from root to there is s\n",
    "    else:\n",
    "        s = s - root.val\n",
    "        check_path_sum(root.left, s, curr_path, res)\n",
    "        check_path_sum(root.right, s, curr_path, res) #traverse both left and right paths until all leaves are reached or a path is found\n",
    "        \n",
    "    curr_path.pop() # removing last node to backtrack to n-1 node\n",
    "\n",
    "    \n",
    "    "
   ]
  },
  {
   "cell_type": "code",
   "execution_count": 34,
   "id": "fed9757d",
   "metadata": {},
   "outputs": [
    {
     "data": {
      "text/plain": [
       "[[1, 3, 6]]"
      ]
     },
     "execution_count": 34,
     "metadata": {},
     "output_type": "execute_result"
    }
   ],
   "source": [
    "find_paths(root, s=10)"
   ]
  },
  {
   "cell_type": "markdown",
   "id": "46b6d01b",
   "metadata": {},
   "source": [
    "### Sum of Path Numbers\n",
    "Given a binary tree where each node can only have a digit (0-9) value, each root-to-leaf path will represent a number. Find the total sum of all the numbers represented by all paths.\n",
    "* curr_num = prev_node * 10 + curr.value\n",
    "* O(N)"
   ]
  },
  {
   "cell_type": "code",
   "execution_count": 13,
   "id": "d69c2729",
   "metadata": {},
   "outputs": [],
   "source": [
    "def find_tree_sum(root):\n",
    "    return find_path_sum(root, 0)\n",
    "    \n",
    "def find_path_sum(node, path_sum):\n",
    "    \n",
    "    if node is None:\n",
    "        return 0\n",
    "    \n",
    "    path_sum = path_sum * 10 + node.val\n",
    "    if node.left is None and node.right is None:\n",
    "        return path_sum\n",
    "    return find_path_sum(node.left, path_sum) + find_path_sum(node.right, path_sum)\n",
    "\n",
    "    \n",
    "    "
   ]
  },
  {
   "cell_type": "code",
   "execution_count": 14,
   "id": "e636ba00",
   "metadata": {},
   "outputs": [
    {
     "data": {
      "text/plain": [
       "522"
      ]
     },
     "execution_count": 14,
     "metadata": {},
     "output_type": "execute_result"
    }
   ],
   "source": [
    "find_tree_sum(root)"
   ]
  },
  {
   "cell_type": "markdown",
   "id": "067bb1fa",
   "metadata": {},
   "source": [
    "### Path With Given Sequence\n",
    "Given a binary tree and a number sequence, find if the sequence is present as a root-to-leaf path in the given tree.\n",
    "\n",
    "*  track the element of the given sequence that we should match with the current node, return false as soon as we find a mismatch between the sequence and the node value.\n",
    "* O(N)"
   ]
  },
  {
   "cell_type": "code",
   "execution_count": 16,
   "id": "38b83486",
   "metadata": {},
   "outputs": [],
   "source": [
    "def find_seq(root, seq):\n",
    "    if not root:\n",
    "        return len(seq) == 0\n",
    "    return find_path_seq(root, seq, 0)\n",
    "    \n",
    "    \n",
    "def find_path_seq(node, seq, index):\n",
    "    \n",
    "    if node is None:\n",
    "        return False\n",
    "    \n",
    "    seq_len = len(seq)\n",
    "    if index >= seq_len or node.val != seq[index]:\n",
    "        # if the current index exceeds seq lenght or current value is a mismatch to corresponding value in the sequence\n",
    "        return False\n",
    "\n",
    "    if node.left is None and node.right is None and index == seq_len-1:\n",
    "        # if it's a leaf node and the lenght of the sequence is met\n",
    "        return True\n",
    "\n",
    "    return find_path_seq(node.left, seq, index+1) or find_path_seq(node.right, seq, index+1)\n",
    "\n",
    "    \n",
    "    "
   ]
  },
  {
   "cell_type": "code",
   "execution_count": 18,
   "id": "1ae25aa9",
   "metadata": {},
   "outputs": [
    {
     "data": {
      "text/plain": [
       "False"
      ]
     },
     "execution_count": 18,
     "metadata": {},
     "output_type": "execute_result"
    }
   ],
   "source": [
    "find_seq(root, [1,3,8])"
   ]
  },
  {
   "cell_type": "markdown",
   "id": "ebdc0808",
   "metadata": {},
   "source": [
    "### Count Paths for a Sum\n",
    "Given a binary tree and a number ‘S’, find all paths in the tree such that the sum of all the node values of each path equals ‘S’. The paths can start or end at any node but all paths must follow direction from parent to child (top to bottom).\n",
    "* O(NxN)\n",
    "* Keep track of the current path in a list which will be passed to every recursive call.\n",
    "* Whenever we traverse a node, add the current node to the current path and find the sums of all sub-paths ending at the current node. If the sum of any sub-path is equal to ‘S’ increment our path count.\n",
    "* Traverse all paths and will not stop processing after finding the first path.\n",
    "* Remove the current node from the current path before returning from the function. This is needed to Backtrack while we are going up the recursive call stack to process other paths."
   ]
  },
  {
   "cell_type": "code",
   "execution_count": 31,
   "id": "deec1162",
   "metadata": {},
   "outputs": [],
   "source": [
    "def count_paths(root, s):\n",
    "    return count_paths_recursive(root, s, [])\n",
    "    \n",
    "def count_paths_recursive(node, s, curr_path):\n",
    "    \n",
    "    if node is None:\n",
    "        return 0\n",
    "    \n",
    "    curr_path.append(node.val)\n",
    "    path_count, path_sum = 0, 0\n",
    "    \n",
    "    for i in range(len(curr_path)-1, -1, -1): # check if any part of this path matches the sum\n",
    "        path_sum += curr_path[i]\n",
    "        if path_sum == s:\n",
    "            path_count+=1\n",
    "            \n",
    "    path_count+= count_paths_recursive(node.left, s, curr_path) # traverse left tree\n",
    "    path_count+= count_paths_recursive(node.right, s, curr_path)# traverse right tree\n",
    "\n",
    "    curr_path.pop() # removing last node to backtrack to n-1 node\n",
    "    return path_count\n",
    "\n",
    "    \n",
    "    "
   ]
  },
  {
   "cell_type": "code",
   "execution_count": 32,
   "id": "fee16c87",
   "metadata": {},
   "outputs": [
    {
     "name": "stdout",
     "output_type": "stream",
     "text": [
      "[1]\n",
      "[1, 2]\n",
      "[1, 2, 4]\n",
      "[1, 2, 5]\n",
      "[1, 3]\n",
      "[1, 3, 6]\n",
      "[1, 3, 7]\n"
     ]
    },
    {
     "data": {
      "text/plain": [
       "3"
      ]
     },
     "execution_count": 32,
     "metadata": {},
     "output_type": "execute_result"
    }
   ],
   "source": [
    "count_paths(root, 7)"
   ]
  },
  {
   "cell_type": "markdown",
   "id": "08bc453d",
   "metadata": {},
   "source": [
    "### Tree Diameter\n",
    "Given a binary tree, find the length of its diameter. The diameter of a tree is the number of nodes on the longest path between any two leaf nodes.\n",
    "1. At every step, we need to find the height of both children of the current node wrt curr node using dfs\n",
    "2. The height of the current node will be equal to the maximum of the heights of its left or right children, plus ‘1’ for the current node.\n",
    "3. The tree diameter at the current node will be equal to the height of the left child plus the height of the right child plus ‘1’ for the current node\n",
    "4. store the maximum diameter of all the nodes visited so far, to get the final tree diameter eventually.\n",
    " O(N) - space and time"
   ]
  },
  {
   "cell_type": "code",
   "execution_count": 5,
   "id": "4800b309",
   "metadata": {},
   "outputs": [],
   "source": [
    "class Solution:\n",
    "    def __init__(self):\n",
    "        self.max_diam = 0\n",
    "\n",
    "    def calc_tree_diameter(self,root):\n",
    "        self.calc_height(root)\n",
    "        return self.max_diam\n",
    "    \n",
    "    def calc_height(self,node):\n",
    "\n",
    "        if node is None:\n",
    "            return 0\n",
    "\n",
    "        h_left = self.calc_height(node.left)\n",
    "        h_right = self.calc_height(node.right)\n",
    "\n",
    "        curr_diam = h_left + h_right + 1\n",
    "        self.max_diam = max(curr_diam, self.max_diam)\n",
    "        return max(h_left, h_right) + 1\n",
    "    \n",
    "    "
   ]
  },
  {
   "cell_type": "code",
   "execution_count": 6,
   "id": "97ce79f7",
   "metadata": {},
   "outputs": [],
   "source": [
    "s = Solution()"
   ]
  },
  {
   "cell_type": "code",
   "execution_count": 7,
   "id": "eb2e38b0",
   "metadata": {},
   "outputs": [
    {
     "data": {
      "text/plain": [
       "5"
      ]
     },
     "execution_count": 7,
     "metadata": {},
     "output_type": "execute_result"
    }
   ],
   "source": [
    "s.calc_tree_diameter(root)"
   ]
  },
  {
   "cell_type": "markdown",
   "id": "bcd7070b",
   "metadata": {},
   "source": [
    "### Path with Maximum Sum\n",
    "Find the path with the maximum sum in a given binary tree. Write a function that returns the maximum sum. A path can be defined as a sequence of nodes between any two nodes and doesn’t necessarily pass through the root.\n",
    "* Same as tree diameter problem -- only need to weedle out paths with negative sums"
   ]
  },
  {
   "cell_type": "code",
   "execution_count": 11,
   "id": "24367b06",
   "metadata": {},
   "outputs": [],
   "source": [
    "class Solution:\n",
    "    def __init__(self):\n",
    "        self.max_sum = 0\n",
    "\n",
    "    def calc_tree_max_sum(self,root):\n",
    "        self.calc_path_sum(root)\n",
    "        return self.max_sum\n",
    "    \n",
    "    def calc_path_sum(self,node):\n",
    "\n",
    "        if node is None:\n",
    "            return 0\n",
    "\n",
    "        l_sum = max(self.calc_path_sum(node.left),0)\n",
    "        r_sum = max(self.calc_path_sum(node.right),0)\n",
    "\n",
    "        curr_sum = l_sum + r_sum + node.val\n",
    "        self.max_sum = max(curr_sum, self.max_sum)\n",
    "        return max(l_sum, r_sum) + node.val\n",
    "    \n",
    "    "
   ]
  },
  {
   "cell_type": "code",
   "execution_count": 12,
   "id": "ecc12593",
   "metadata": {},
   "outputs": [
    {
     "data": {
      "text/plain": [
       "18"
      ]
     },
     "execution_count": 12,
     "metadata": {},
     "output_type": "execute_result"
    }
   ],
   "source": [
    "s = Solution()\n",
    "s.calc_tree_max_sum(root)"
   ]
  },
  {
   "cell_type": "code",
   "execution_count": null,
   "id": "0914f385",
   "metadata": {},
   "outputs": [],
   "source": []
  }
 ],
 "metadata": {
  "kernelspec": {
   "display_name": "Python 3 (ipykernel)",
   "language": "python",
   "name": "python3"
  },
  "language_info": {
   "codemirror_mode": {
    "name": "ipython",
    "version": 3
   },
   "file_extension": ".py",
   "mimetype": "text/x-python",
   "name": "python",
   "nbconvert_exporter": "python",
   "pygments_lexer": "ipython3",
   "version": "3.9.7"
  }
 },
 "nbformat": 4,
 "nbformat_minor": 5
}
