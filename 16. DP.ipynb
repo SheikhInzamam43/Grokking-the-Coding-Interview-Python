{
 "cells": [
  {
   "cell_type": "markdown",
   "id": "b30c86b8",
   "metadata": {},
   "source": [
    "### Zero One Knapsack Problem\n",
    "Given two integer arrays to represent weights and profits of ‘N’ items, we need to find a subset of these items which will give us maximum profit such that their cumulative weight is not more than a given number ‘C’. Each item can only be selected once, which means either we put an item in the knapsack or we skip it.\n",
    "\n",
    "Time - O(2^N)\n",
    "Space - O(N"
   ]
  },
  {
   "cell_type": "code",
   "execution_count": 11,
   "id": "d110b364",
   "metadata": {},
   "outputs": [],
   "source": [
    "# Brute Force solution -- compares every combo\n",
    "# At every index, skip or add it to the knapsack\n",
    "\n",
    "def knapsack(weights, profits, capacity):\n",
    "    return knapsack_rec(weights, profits, capacity, 0)\n",
    "\n",
    "def knapsack_rec(weights, profits, capacity, cur_i):\n",
    "    if cur_i >= len(weights) or capacity <= 0:\n",
    "        # base condition -- end of list or no more space in knapsack \n",
    "        return 0\n",
    "    \n",
    "    p1 = 0\n",
    "    # path 1 : add current item to knapsack and proceed to the next\n",
    "    if weights[cur_i] <= capacity:\n",
    "        p1 = profits[cur_i] + knapsack_rec(weights, profits, capacity-weights[cur_i], cur_i+1)\n",
    "        \n",
    "    # path 2: skip current and proceed to next\n",
    "    p2 = knapsack_rec(weights, profits, capacity, cur_i+1)\n",
    "    \n",
    "    return max(p1, p2) # return whichever gave max profit "
   ]
  },
  {
   "cell_type": "code",
   "execution_count": 12,
   "id": "597dcb4c",
   "metadata": {},
   "outputs": [
    {
     "data": {
      "text/plain": [
       "10"
      ]
     },
     "execution_count": 12,
     "metadata": {},
     "output_type": "execute_result"
    }
   ],
   "source": [
    "knapsack([ 2, 3, 1, 4 ], [4, 5, 3, 7 ],5)"
   ]
  },
  {
   "cell_type": "markdown",
   "id": "d9ad2b6a",
   "metadata": {},
   "source": [
    "### Top-down Dynamic Programming with Memoization\n",
    "\n",
    "#### Use a matrix since we've two params - cur_i and capacity\n",
    "Since our memoization array stores the results for all subproblems, we can conclude that we will not have more than \n",
    "N∗C subproblems (where ‘N’ is the number of items and ‘C’ is the knapsack capacity). This means that our time complexity will be O(N∗C).\n",
    "\n",
    "The above algorithm will use O(N∗C) space for the memoization array. Other than that we will use \n",
    "O(N) space for the recursion call-stack. So the total space complexity will be O(N∗C+N), which is asymptotically equivalent to O(N∗C)."
   ]
  },
  {
   "cell_type": "code",
   "execution_count": 16,
   "id": "def589ef",
   "metadata": {},
   "outputs": [],
   "source": [
    "\n",
    "def knapsack_memo(weights, profits, capacity):\n",
    "    dp = [[-1 for x in range(capacity+1)]for y in range(len(profits))]\n",
    "    return knapsack_memo_rec(dp, weights, profits, capacity, 0)\n",
    "\n",
    "def knapsack_memo_rec(dp, weights, profits, capacity, cur_i):\n",
    "    if cur_i >= len(weights) or capacity <= 0:\n",
    "        # base condition -- end of list or no more space in knapsack \n",
    "        return 0\n",
    "    \n",
    "    if dp[cur_i][capacity] != -1:\n",
    "        return dp[cur_i][capacity]\n",
    "    \n",
    "    p1 = 0\n",
    "    # path 1 : add current item to knapsack and proceed to the next\n",
    "    if weights[cur_i] <= capacity:\n",
    "        p1 = profits[cur_i] + knapsack_memo_rec(dp, weights, profits, capacity-weights[cur_i], cur_i+1)\n",
    "        \n",
    "    # path 2: skip current and proceed to next\n",
    "    p2 = knapsack_memo_rec(dp, weights, profits, capacity, cur_i+1)\n",
    "    \n",
    "    dp[cur_i][capacity] = max(p1, p2) # store whichever gave max profit \n",
    "    \n",
    "    return dp[cur_i][capacity]\n"
   ]
  },
  {
   "cell_type": "code",
   "execution_count": 17,
   "id": "56bba423",
   "metadata": {},
   "outputs": [
    {
     "data": {
      "text/plain": [
       "10"
      ]
     },
     "execution_count": 17,
     "metadata": {},
     "output_type": "execute_result"
    }
   ],
   "source": [
    "knapsack_memo([ 2, 3, 1, 4 ], [4, 5, 3, 7 ],5)"
   ]
  },
  {
   "cell_type": "markdown",
   "id": "38cc8aab",
   "metadata": {},
   "source": [
    "### Bottom-up dynamic programming approach\n",
    "\n",
    "dp[i][c] will represent the maximum knapsack profit for capacity ‘c’ calculated from the first ‘i’ items.\n",
    "\n",
    "So, for each item at index ‘i’ (0 <= i < items.length) and capacity ‘c’ (0 <= c <= capacity), we have two options:\n",
    "\n",
    "Exclude the item at index ‘i’. take whatever profit we get from the sub-array excluding this item => dp[i-1][c]\n",
    "\n",
    "Include the item at index ‘i’ if its weight is not more than the capacity. Include its profit plus whatever profit we get from the remaining capacity and from remaining items => profit[i] + dp[i-1][c-weight[i]]\n",
    "\n",
    "Finally, our optimal solution will be maximum of the above two values:\n",
    "\n",
    "    dp[i][c] = max (dp[i-1][c], profit[i] + dp[i-1][c-weight[i]])\n",
    "    \n",
    "####  the time and space complexity is O(N∗C), where ‘N’ represents total items and ‘C’ is the maximum capacity."
   ]
  },
  {
   "cell_type": "code",
   "execution_count": 26,
   "id": "9da2840b",
   "metadata": {},
   "outputs": [],
   "source": [
    "def print_selected_weights(dp, weights, profits, capacity):\n",
    "    n = len(weights)\n",
    "    total = dp[n-1][capacity]\n",
    "    for i in range(n-1, 0, -1):\n",
    "        if total != dp[i-1][capacity]:\n",
    "            print(weights[i])\n",
    "            capacity -= weights[i]\n",
    "            total -= profits[i]\n",
    "    if total != 0:\n",
    "        print(weights[0])\n",
    "\n",
    "def knapsack_bottom_up(weights, profits, capacity):\n",
    "    n = len(weights)\n",
    "    if capacity <= 0 or n==0 or n!=len(profits):\n",
    "        # base conditions\n",
    "        return 0\n",
    "    \n",
    "    # initialize dp\n",
    "    dp = [[0 for x in range(capacity+1)]for y in range(len(profits))]\n",
    "    \n",
    "    # set profits to 0 when capacity is zero\n",
    "    for i in range(0,n):\n",
    "        dp[i][0] = 0\n",
    "        \n",
    "    for c in range(0, capacity+1):\n",
    "        # if we consider the sub-array till index '0', we have only one item to put in the knapsack,\n",
    "        # we will take it if it is not more than the capacity\n",
    "        if weights[0] <= c:\n",
    "            dp[0][c] = profits[0]\n",
    "            \n",
    "    for i in range(1, n):\n",
    "        for c in range(1, capacity+1):\n",
    "            p1 = p2 = 0\n",
    "            if weights[i] <= c:\n",
    "                # include the current item\n",
    "                p1 = profits[i] + dp[i-1][c-weights[i]]\n",
    "            p2 = dp[i-1][c] # skip the current item\n",
    "            dp[i][c] = max(p1, p2) # store max\n",
    "            \n",
    "    print_selected_weights(dp, weights, profits, capacity)\n",
    "    \n",
    "    return dp[n-1][capacity] # return the max profit at bottom-right corner"
   ]
  },
  {
   "cell_type": "code",
   "execution_count": 27,
   "id": "4d3ea700",
   "metadata": {},
   "outputs": [
    {
     "name": "stdout",
     "output_type": "stream",
     "text": [
      "4\n",
      "1\n"
     ]
    },
    {
     "data": {
      "text/plain": [
       "10"
      ]
     },
     "execution_count": 27,
     "metadata": {},
     "output_type": "execute_result"
    }
   ],
   "source": [
    "knapsack_bottom_up([ 2, 3, 1, 4 ], [4, 5, 3, 7 ],5)"
   ]
  },
  {
   "cell_type": "markdown",
   "id": "8c02c573",
   "metadata": {},
   "source": [
    "### Given a set of positive numbers, find if we can partition it into two subsets such that the sum of elements in both subsets is equal.\n",
    "-- translates to Find a subset of the given numbers that has a total sum of S/2\n",
    "\n"
   ]
  },
  {
   "cell_type": "code",
   "execution_count": 33,
   "id": "4349bec0",
   "metadata": {},
   "outputs": [],
   "source": [
    "# Brute force - O(2^n)\n",
    "def partition_bf(nums):\n",
    "    s = sum(nums)\n",
    "    if s % 2!=0:\n",
    "        return False\n",
    "    return partition_bf_rec(nums, s/2, 0)\n",
    "\n",
    "def partition_bf_rec(nums, s, cur_i):\n",
    "    if s == 0:\n",
    "        return True\n",
    "    \n",
    "    if len(nums) == 0 or cur_i >= len(nums):\n",
    "        return False\n",
    "    \n",
    "    if nums[cur_i] <= s:\n",
    "        # take the cur num\n",
    "        if partition_bf_rec(nums, s-nums[cur_i], cur_i+1):\n",
    "            return True\n",
    "    #skip the cur num\n",
    "    return partition_bf_rec(nums, s, cur_i+1)\n",
    "    "
   ]
  },
  {
   "cell_type": "code",
   "execution_count": 34,
   "id": "dbd4e3ba",
   "metadata": {},
   "outputs": [
    {
     "data": {
      "text/plain": [
       "True"
      ]
     },
     "execution_count": 34,
     "metadata": {},
     "output_type": "execute_result"
    }
   ],
   "source": [
    "partition_bf([1, 2, 3, 4])"
   ]
  },
  {
   "cell_type": "code",
   "execution_count": 56,
   "id": "8b164d24",
   "metadata": {},
   "outputs": [],
   "source": [
    "# Top down memoization\n",
    "\n",
    "# time and space complexity of O(N∗S), where ‘N’ represents total numbers and ‘S’ is the total sum of all the numbers.\n",
    "def partition_memo(nums):\n",
    "    s = sum(nums)\n",
    "    if s % 2!=0:\n",
    "        return False\n",
    "    dp = [[-1 for x in range(int(s/2)+1)] for y in range(len(nums))]\n",
    "    return True if partition_memo_rec(dp, nums, int(s/2), 0) ==1 else False\n",
    "\n",
    "def partition_memo_rec(dp, nums, s, cur_i):\n",
    "    if s == 0:\n",
    "        return 1\n",
    "    \n",
    "    if len(nums) == 0 or cur_i >= len(nums):\n",
    "        return 0\n",
    "    if dp[cur_i][s] != -1:\n",
    "        # check if its already solved\n",
    "        return dp[cur_i][s]\n",
    "    if nums[cur_i] <= s:\n",
    "        # take the cur num\n",
    "        if partition_bf_rec(nums, s-nums[cur_i], cur_i+1) == 1:\n",
    "            dp[cur_i][s-nums[cur_i]] = 1\n",
    "            return 1\n",
    "    #skip the cur num\n",
    "    dp[cur_i][s] = partition_bf_rec(nums, s, cur_i+1)\n",
    "    return dp[cur_i][s]\n",
    "    "
   ]
  },
  {
   "cell_type": "code",
   "execution_count": 54,
   "id": "e0940c01",
   "metadata": {},
   "outputs": [
    {
     "name": "stdout",
     "output_type": "stream",
     "text": [
      "[[-1, -1, -1, -1, -1, -1], [-1, -1, -1, -1, -1, -1], [-1, -1, -1, -1, -1, -1], [-1, -1, -1, -1, -1, -1]]\n"
     ]
    },
    {
     "data": {
      "text/plain": [
       "True"
      ]
     },
     "execution_count": 54,
     "metadata": {},
     "output_type": "execute_result"
    }
   ],
   "source": [
    "partition_memo([1, 2, 3, 4])"
   ]
  },
  {
   "cell_type": "code",
   "execution_count": 62,
   "id": "eb3b9fbf",
   "metadata": {},
   "outputs": [],
   "source": [
    "# Bottom-up Dynamic Programming \n",
    "\n",
    "# - dp[i][s] will be ‘true’ if we can make the sum ‘s’ from the first ‘i’ numbers\n",
    "# - If we exclude the number we can get ‘s’ from the subset excluding this number: dp[i-1][s]\n",
    "# - If we include the number we can find a subset to get the remaining sum: dp[i-1][s-num[i]]\n",
    "# - time and space complexity of O(N∗S), where ‘N’ represents total numbers and ‘S’ is the total sum of all the numbers.\n",
    "\n",
    "def partition_bottom_up(nums):\n",
    "    s = sum(nums)\n",
    "    if s % 2 != 0:\n",
    "        return False\n",
    "    \n",
    "    s = int(s/2)\n",
    "    n = len(nums)\n",
    "    dp = [[False for x in range(s+1)]for y in range(n)]\n",
    "    \n",
    "    # sum will be 0 for empty set\n",
    "    for i in range(0,n):\n",
    "        dp[i][0] = True\n",
    "        \n",
    "    for j in range(0, s+1):\n",
    "        # if there's only number in the set it has to be equal to sum to be included\n",
    "        dp[0][j] = nums[0] == j\n",
    "            \n",
    "    for i in range(1, n):\n",
    "        for j in range(1, s+1):\n",
    "            if dp[i-1][j]:\n",
    "                # can get s without the current item\n",
    "                dp[i][j] = dp[i-1][j]\n",
    "            elif j >= nums[i]:\n",
    "                dp[i][j] = dp[i-1][j-nums[i]]\n",
    "                \n",
    "    return dp[n-1][s] # return the max profit at bottom-right corner"
   ]
  },
  {
   "cell_type": "code",
   "execution_count": 61,
   "id": "bf3d9885",
   "metadata": {},
   "outputs": [
    {
     "data": {
      "text/plain": [
       "True"
      ]
     },
     "execution_count": 61,
     "metadata": {},
     "output_type": "execute_result"
    }
   ],
   "source": [
    "partition_bottom_up([1,2,3,4])"
   ]
  },
  {
   "cell_type": "markdown",
   "id": "b110f734",
   "metadata": {},
   "source": [
    "### Given a set of positive numbers, determine if a subset exists whose sum is equal to a given number ‘S’.\n",
    "\n",
    "1. Need to find if we can make all possible sums with every subset to populate the array dp[TotalNumbers][S+1].\n",
    "\n",
    "2. For every possible sum ‘s’ (where 0 <= s <= S), we have two options:\n",
    "\n",
    " - Exclude the number and see if we can get the sum ‘s’ from the subset excluding this number => dp[index-1][s]\n",
    " - Include the number if its value is not more than ‘s’ and see if we can find a subset to get the remaining sum => dp[index-1][s-num[index]]\n",
    "    \n",
    " time and space complexity : O(N∗S), where ‘N’ represents total numbers and ‘S’ is the required sum."
   ]
  },
  {
   "cell_type": "code",
   "execution_count": 64,
   "id": "a77d105c",
   "metadata": {},
   "outputs": [],
   "source": [
    "# Bottom-up Dynamic Programming \n",
    "\n",
    "def subset_sum(nums, s):\n",
    "    \n",
    "    n = len(nums)\n",
    "    dp = [[False for x in range(s+1)]for y in range(n)]\n",
    "    \n",
    "    # sum will be 0 for empty set\n",
    "    for i in range(0,n):\n",
    "        dp[i][0] = True\n",
    "        \n",
    "    for j in range(0, s+1):\n",
    "        # if there's only number in the set it has to be equal to sum to be included\n",
    "        dp[0][j] = True if nums[0] == j else False\n",
    "            \n",
    "    for i in range(1, n):\n",
    "        for j in range(1, s+1):\n",
    "            if dp[i-1][j]:\n",
    "                # can get s without the current item\n",
    "                dp[i][j] = dp[i-1][j]\n",
    "            elif j >= nums[i]:\n",
    "                dp[i][j] = dp[i-1][j-nums[i]]\n",
    "                \n",
    "    return dp[n-1][s] # return the max profit at bottom-right corner"
   ]
  },
  {
   "cell_type": "code",
   "execution_count": 67,
   "id": "0696c6fe",
   "metadata": {},
   "outputs": [
    {
     "name": "stdout",
     "output_type": "stream",
     "text": [
      "False\n",
      "True\n"
     ]
    }
   ],
   "source": [
    "print(subset_sum([1, 3, 4, 8], 6))\n",
    "print(subset_sum([1, 2, 3, 7], 6))"
   ]
  },
  {
   "cell_type": "markdown",
   "id": "f4102bf6",
   "metadata": {},
   "source": [
    "### Given a set of positive numbers, partition the set into two subsets with minimum difference between their subset sums."
   ]
  },
  {
   "cell_type": "code",
   "execution_count": 73,
   "id": "fd5ed259",
   "metadata": {},
   "outputs": [],
   "source": [
    "# Brute force - O(2^n)\n",
    "def min_diff_partition(nums):\n",
    "    return min_diff_partition_rec(nums, 0, 0, 0)\n",
    "\n",
    "def min_diff_partition_rec(nums, s1, s2, cur_i):\n",
    "    if cur_i == len(nums):\n",
    "        return abs(s1-s2)\n",
    "    \n",
    "    diff1 = min_diff_partition_rec(nums, s1 + nums[cur_i], s2, cur_i+1) # add current number to s1\n",
    "    diff2 = min_diff_partition_rec(nums, s1, s2 + nums[cur_i], cur_i+1) # add current number to s2\n",
    "    \n",
    "    return min(diff1, diff2)\n",
    "    "
   ]
  },
  {
   "cell_type": "code",
   "execution_count": 74,
   "id": "779ae031",
   "metadata": {},
   "outputs": [
    {
     "data": {
      "text/plain": [
       "92"
      ]
     },
     "execution_count": 74,
     "metadata": {},
     "output_type": "execute_result"
    }
   ],
   "source": [
    "min_diff_partition([1, 3, 100, 4])"
   ]
  },
  {
   "cell_type": "code",
   "execution_count": 77,
   "id": "10ad781c",
   "metadata": {},
   "outputs": [],
   "source": [
    "# Top Down Memoization\n",
    "\n",
    "def min_diff_partition_memo(nums):\n",
    "    s = sum(nums)\n",
    "    dp = [[-1 for x in range(s+1)] for y in range(len(nums))]\n",
    "    return min_diff_partition_memo_rec(dp, nums, 0,0, 0)\n",
    "\n",
    "def min_diff_partition_memo_rec(dp, nums, s1, s2, cur_i):\n",
    "    if cur_i == len(nums):\n",
    "        return abs(s1-s2)\n",
    "    \n",
    "    if dp[cur_i][s1] == -1:\n",
    "    \n",
    "        diff1 = min_diff_partition_memo_rec(dp, nums, s1 + nums[cur_i], s2, cur_i+1) # add current number to s1\n",
    "        diff2 = min_diff_partition_memo_rec(dp, nums, s1, s2 + nums[cur_i], cur_i+1) # add current number to s2\n",
    "        \n",
    "        dp[cur_i][s1] = min(diff1, diff2)\n",
    "    \n",
    "    return dp[cur_i][s1]\n",
    "    "
   ]
  },
  {
   "cell_type": "code",
   "execution_count": 78,
   "id": "b1c666ca",
   "metadata": {},
   "outputs": [
    {
     "data": {
      "text/plain": [
       "92"
      ]
     },
     "execution_count": 78,
     "metadata": {},
     "output_type": "execute_result"
    }
   ],
   "source": [
    "min_diff_partition_memo([1, 3, 100, 4])"
   ]
  },
  {
   "cell_type": "code",
   "execution_count": 79,
   "id": "a28acb5b",
   "metadata": {},
   "outputs": [],
   "source": [
    "# Bottom-up Dynamic Programming - time and space complexity of O(N∗S)\n",
    "\n",
    "def min_diff(nums):\n",
    "    \n",
    "    n = len(nums)\n",
    "    s = sum(nums)\n",
    "    dp = [[False for x in range(s+1)]for y in range(n)]\n",
    "    \n",
    "    # sum will be 0 for empty set\n",
    "    for i in range(0,n):\n",
    "        dp[i][0] = True\n",
    "        \n",
    "    for j in range(0, s+1):\n",
    "        # if there's only number in the set it has to be equal to sum to be included\n",
    "        dp[0][j] = True if nums[0] == j else False\n",
    "            \n",
    "    for i in range(1, n):\n",
    "        for j in range(1, s+1):\n",
    "            if dp[i-1][j]:\n",
    "                # can get s without the current item\n",
    "                dp[i][j] = dp[i-1][j]\n",
    "            elif j >= nums[i]:\n",
    "                dp[i][j] = dp[i-1][j-nums[i]]\n",
    "      \n",
    "    # find the subset with closest sum to s/2\n",
    "    sum1 = 0\n",
    "    for i in range(s//2+1, -1, -1): # find the largest index in the last row that is true\n",
    "        if dp[n-1][i]:\n",
    "            sum1 = i\n",
    "            break\n",
    "    sum2 = s-sum1\n",
    "    \n",
    "    return abs(sum1-sum2)"
   ]
  },
  {
   "cell_type": "code",
   "execution_count": 80,
   "id": "52924703",
   "metadata": {},
   "outputs": [
    {
     "data": {
      "text/plain": [
       "92"
      ]
     },
     "execution_count": 80,
     "metadata": {},
     "output_type": "execute_result"
    }
   ],
   "source": [
    "min_diff([1, 3, 100, 4])"
   ]
  },
  {
   "cell_type": "markdown",
   "id": "6f2a3efd",
   "metadata": {},
   "source": [
    "### Given a set of positive numbers, find the total number of subsets whose sum is equal to a given number ‘S’.\n",
    "\n",
    "- count the number of subsets, whereas in Subset Sum we only wanted to know if a subset with the given sum existed"
   ]
  },
  {
   "cell_type": "code",
   "execution_count": 81,
   "id": "30fd2586",
   "metadata": {},
   "outputs": [],
   "source": [
    "# Brute force - O(2^n)\n",
    "def count_subset(nums, s):\n",
    "    return count_subset_rec(nums, s, 0)\n",
    "\n",
    "def count_subset_rec(nums, s, cur_i):\n",
    "    if s == 0:\n",
    "        return 1\n",
    "    \n",
    "    if len(nums) == 0 or cur_i >= len(nums):\n",
    "        return False\n",
    "    \n",
    "    sum1 = 0\n",
    "    if nums[cur_i] <= s:\n",
    "        sum1 = count_subset_rec(nums, s-nums[cur_i], cur_i+1)\n",
    "\n",
    "    #skip the cur num\n",
    "    sum2 = count_subset_rec(nums, s, cur_i+1)\n",
    "    return sum1 + sum2\n",
    "    "
   ]
  },
  {
   "cell_type": "code",
   "execution_count": 82,
   "id": "3cbeb82a",
   "metadata": {},
   "outputs": [
    {
     "data": {
      "text/plain": [
       "3"
      ]
     },
     "execution_count": 82,
     "metadata": {},
     "output_type": "execute_result"
    }
   ],
   "source": [
    "count_subset([1, 1, 2, 3], 4)"
   ]
  },
  {
   "cell_type": "code",
   "execution_count": 85,
   "id": "07b63656",
   "metadata": {},
   "outputs": [],
   "source": [
    "# Top-down Memoization\n",
    "def count_subset_memo(nums, s):\n",
    "    dp = [[-1 for x in range(s+1)] for y in range(len(nums))]\n",
    "    return count_subset_memo_rec(dp, nums, s, 0)\n",
    "\n",
    "def count_subset_memo_rec(dp, nums, s, cur_i):\n",
    "    if s == 0:\n",
    "        return 1\n",
    "    \n",
    "    if len(nums) == 0 or cur_i >= len(nums):\n",
    "        return False\n",
    "    \n",
    "    if dp[cur_i][s] == -1:\n",
    "        sum1 = 0\n",
    "        if nums[cur_i] <= s:\n",
    "            sum1 = count_subset_memo_rec(dp, nums, s-nums[cur_i], cur_i+1)\n",
    "        #skip the cur num\n",
    "        sum2 = count_subset_memo_rec(dp, nums, s, cur_i+1)\n",
    "        dp[cur_i][s] = sum1 + sum2\n",
    "\n",
    "    return dp[cur_i][s]\n",
    "    "
   ]
  },
  {
   "cell_type": "code",
   "execution_count": 86,
   "id": "5e538365",
   "metadata": {},
   "outputs": [
    {
     "data": {
      "text/plain": [
       "3"
      ]
     },
     "execution_count": 86,
     "metadata": {},
     "output_type": "execute_result"
    }
   ],
   "source": [
    "count_subset_memo([1, 1, 2, 3], 4)"
   ]
  },
  {
   "cell_type": "code",
   "execution_count": 108,
   "id": "93473929",
   "metadata": {},
   "outputs": [],
   "source": [
    "# Bottom-up Dynamic Programming - O(N * S)\n",
    "\n",
    "def count_subset(nums, s):\n",
    "    \n",
    "    n = len(nums)\n",
    "    dp = [[-1 for x in range(s+1)]for y in range(n)]\n",
    "    \n",
    "    # sum will be 0 for empty set\n",
    "    for i in range(0,n):\n",
    "        dp[i][0] = 1\n",
    "        \n",
    "    for j in range(1, s+1):\n",
    "        # if there's only number in the set it has to be equal to sum to be included\n",
    "        dp[0][j] = 1 if nums[0] == j else 0\n",
    "            \n",
    "    for i in range(1, n):\n",
    "        for j in range(1, s+1):\n",
    "            dp[i][j] = dp[i-1][j] \n",
    "            if j >= nums[i]:\n",
    "                dp[i][j] +=  dp[i-1][j-nums[i]]\n",
    "                \n",
    "    return dp[n-1][s] # return the count at bottom-right corner"
   ]
  },
  {
   "cell_type": "code",
   "execution_count": 109,
   "id": "a59e1b6f",
   "metadata": {},
   "outputs": [
    {
     "data": {
      "text/plain": [
       "3"
      ]
     },
     "execution_count": 109,
     "metadata": {},
     "output_type": "execute_result"
    }
   ],
   "source": [
    "count_subset([1, 1, 2, 3], 4)"
   ]
  },
  {
   "cell_type": "markdown",
   "id": "b821bc2e",
   "metadata": {},
   "source": [
    "### You are given a set of positive numbers and a target sum ‘S’. Each number should be assigned either a ‘+’ or ‘-’ sign. We need to find the total ways to assign symbols to make the sum of the numbers equal to the target ‘S’.\n",
    "\n",
    "- Translates to find two subsets of the given numbers whose difference is equal to the given target ‘S’\n",
    "- Which means that one of the set ‘s1’ has a sum equal to (S + Sum(num)) / 2\n",
    "- i.e Find the count of subsets of the given numbers whose sum is equal to (S + Sum(num)) / 2\n"
   ]
  },
  {
   "cell_type": "code",
   "execution_count": 117,
   "id": "f3b90280",
   "metadata": {},
   "outputs": [],
   "source": [
    "# Bottom-up Dynamic Programming - O(N * S)\n",
    "\n",
    "def find_target_subset(nums, s):\n",
    "    total = sum(nums)\n",
    "    if total < s or (s+total)%2 !=0:\n",
    "        return 0\n",
    "    return count_subset(nums, (s+total)//2)\n",
    "\n",
    "    \n",
    "def count_subset(nums, ss):\n",
    "    \n",
    "    n = len(nums)\n",
    "    dp = [[-1 for x in range(ss+1)]for y in range(n)]\n",
    "    \n",
    "    # sum will be 0 for empty set\n",
    "    for i in range(0,n):\n",
    "        dp[i][0] = 1\n",
    "        \n",
    "    for j in range(1, ss+1):\n",
    "        # if there's only number in the set it has to be equal to sum to be included\n",
    "        dp[0][j] = 1 if nums[0] == j else 0\n",
    "            \n",
    "    for i in range(1, n):\n",
    "        for j in range(1, ss+1):\n",
    "            dp[i][j] = dp[i-1][j] \n",
    "            if j >= nums[i]:\n",
    "                dp[i][j] +=  dp[i-1][j-nums[i]]\n",
    "                \n",
    "    return dp[n-1][ss] # return the count at bottom-right corner\n",
    "\n",
    "# can be space-optimized, using only a single array"
   ]
  },
  {
   "cell_type": "code",
   "execution_count": 116,
   "id": "5e674566",
   "metadata": {},
   "outputs": [
    {
     "data": {
      "text/plain": [
       "3"
      ]
     },
     "execution_count": 116,
     "metadata": {},
     "output_type": "execute_result"
    }
   ],
   "source": [
    "find_target_subset([1, 1, 2, 3], 1)"
   ]
  },
  {
   "cell_type": "code",
   "execution_count": null,
   "id": "df755da6",
   "metadata": {},
   "outputs": [],
   "source": []
  }
 ],
 "metadata": {
  "kernelspec": {
   "display_name": "Python 3 (ipykernel)",
   "language": "python",
   "name": "python3"
  },
  "language_info": {
   "codemirror_mode": {
    "name": "ipython",
    "version": 3
   },
   "file_extension": ".py",
   "mimetype": "text/x-python",
   "name": "python",
   "nbconvert_exporter": "python",
   "pygments_lexer": "ipython3",
   "version": "3.9.7"
  }
 },
 "nbformat": 4,
 "nbformat_minor": 5
}
